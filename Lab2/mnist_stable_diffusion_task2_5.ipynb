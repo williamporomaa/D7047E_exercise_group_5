{
  "cells": [
    {
      "cell_type": "code",
      "execution_count": null,
      "id": "7a206741",
      "metadata": {
        "id": "7a206741"
      },
      "outputs": [],
      "source": [
        "# -----------------------------------------------------------\n",
        "# Cell 1 – Imports, seed, device\n",
        "# -----------------------------------------------------------\n",
        "import torch\n",
        "import torch.nn as nn\n",
        "import torch.nn.functional as F\n",
        "from torch.utils.data import DataLoader\n",
        "from torch.utils.data import random_split\n",
        "from torchvision import datasets, transforms, utils as tvu\n",
        "from torchvision.utils import make_grid\n",
        "\n",
        "import numpy as np\n",
        "import math, random, os, time, itertools\n",
        "from tqdm import tqdm\n",
        "from einops import rearrange # Added for SpatialTransformer\n",
        "\n",
        "import matplotlib.pyplot as plt\n",
        "from sklearn.metrics import precision_recall_fscore_support, accuracy_score\n",
        "\n",
        "# Uncomment below if you want experiment tracking\n",
        "# import wandb\n",
        "# wandb.init(project=\"mnist_diffusion\", config={\"task\": \"2.5_transformer\"})"
      ]
    },
    {
      "cell_type": "code",
      "execution_count": null,
      "id": "6688a9ac",
      "metadata": {
        "id": "6688a9ac"
      },
      "outputs": [
        {
          "name": "stdout",
          "output_type": "stream",
          "text": [
            "Device = cuda\n"
          ]
        }
      ],
      "source": [
        "# -----------------------------------------------------------\n",
        "# Cell 2 – Hyperparameters (centralized)\n",
        "# -----------------------------------------------------------\n",
        "\n",
        "# Random seed for reproducibility\n",
        "SEED          = 42\n",
        "\n",
        "# Device\n",
        "DEVICE        = \"cuda\" if torch.cuda.is_available() else \"cpu\"\n",
        "print(f\"Device = {DEVICE}\")\n",
        "\n",
        "# Data\n",
        "BATCH_SIZE    = 512        # ⟵ Boosted for maximum GPU usage\n",
        "NUM_WORKERS   = 4           # ⟵ Safer for big batches (2–4 usually best)\n",
        "NUM_CLASSES   = 10\n",
        "IMG_SHAPE     = (1, 32, 32) # ⟵ Model works at 32×32 now\n",
        "\n",
        "# Diffusion process\n",
        "T             = 500         # Number of timesteps\n",
        "BETA_SCHEDULE = \"cosine\"    # Cosine schedule = smoother high-fidelity sampling\n",
        "\n",
        "# Model architecture\n",
        "BASE_CHANNELS = 64          # Base channels for UNet (consistent with SimpleUNet big)\n",
        "TIME_EMB_DIM  = 256         # Embedding dimension for time and label embeddings\n",
        "CONTEXT_DIM   = TIME_EMB_DIM  # Dimension for label context in attention layers\n",
        "ATTN_HEADS    = 1           # Number of attention heads (using 1 as per provided code)\n",
        "\n",
        "# Optimization / Training\n",
        "LR            = 5e-4        # ⟵ Higher LR works because of larger batch size\n",
        "WEIGHT_DECAY  = 0.0         # No weight decay needed (yet)\n",
        "N_EPOCHS      = 20          # ⟵ 20 Epochs is enough with fast convergence (adjust as needed)\n",
        "AMP           = True        # ⟵ Enable Automatic Mixed Precision (16-bit) for faster training\n",
        "\n",
        "# Sampling\n",
        "DDIM_STEPS    = 50          # 50 steps DDIM sampling (fast but decent quality)\n",
        "DDIM_ETA      = 0.0         # 0.0 for deterministic sampling (sharper outputs)\n",
        "\n",
        "# Auxiliary classifier (for evaluation)\n",
        "CLF_LR        = 1e-3        # Learning rate for TinyCNN\n",
        "CLF_EPOCHS    = 5           # Train TinyCNN longer to guarantee good baseline\n",
        "\n",
        "# Logging / Checkpointing\n",
        "LOG_INTERVAL      = 10      # ⟵ Smaller interval to monitor large batches better\n",
        "SAVE_MODEL_EVERY  = 5       # Save model every 5 epochs\n",
        "USE_WANDB         = False   # Set to True if you want Weights & Biases logging\n",
        "WANDB_PROJECT     = \"mnist_diffusion\"\n",
        "\n",
        "# Seed setting function\n",
        "def set_seed(seed=SEED):\n",
        "    random.seed(seed)\n",
        "    np.random.seed(seed)\n",
        "    torch.manual_seed(seed)\n",
        "    if torch.cuda.is_available():\n",
        "        torch.cuda.manual_seed(seed)\n",
        "        torch.cuda.manual_seed_all(seed)\n",
        "        torch.backends.cudnn.deterministic = True\n",
        "        torch.backends.cudnn.benchmark = False\n",
        "\n",
        "set_seed()"
      ]
    },
    {
      "cell_type": "code",
      "execution_count": null,
      "id": "5802096c",
      "metadata": {
        "id": "5802096c",
        "outputId": "897c72d9-e8c9-4fd5-c8c1-3880c0c4921c"
      },
      "outputs": [
        {
          "name": "stdout",
          "output_type": "stream",
          "text": [
            "Number of samples: \n",
            "Training: 60000 | Test: 10000\n",
            "\n"
          ]
        },
        {
          "data": {
            "image/png": "[encoded data removed]",
            "text/plain": [
              "<Figure size 640x480 with 1 Axes>"
            ]
          },
          "metadata": {},
          "output_type": "display_data"
        }
      ],
      "source": [
        "# -----------------------------------------------------------\n",
        "# Cell 3 – Dataset & DataLoaders\n",
        "# -----------------------------------------------------------\n",
        "\n",
        "# Transformation pipeline\n",
        "transform = transforms.Compose([\n",
        "    transforms.Resize(IMG_SHAPE[1]), # Use IMG_SHAPE for size\n",
        "    transforms.ToTensor(),\n",
        "    transforms.Normalize((0.5,), (0.5,))\n",
        "])\n",
        "\n",
        "# MNIST dataset\n",
        "train_ds = datasets.MNIST(root=\"./data\", train=True, download=True, transform=transform)\n",
        "test_ds = datasets.MNIST(root=\"./data\", train=False, download=True, transform=transform)\n",
        "\n",
        "# Print the number of samples in each dataset\n",
        "print(f\"Number of samples: \")\n",
        "print(f\"Training: {len(train_ds)} | Test: {len(test_ds)}\\n\")\n",
        "\n",
        "# DataLoader for training, validation, and test datasets\n",
        "train_loader = DataLoader(train_ds, batch_size=BATCH_SIZE, shuffle=True,\n",
        "                          num_workers=NUM_WORKERS, pin_memory=True, drop_last=True)\n",
        "\n",
        "test_loader = DataLoader(test_ds, batch_size=BATCH_SIZE, shuffle=False,\n",
        "                         num_workers=NUM_WORKERS, pin_memory=True)\n",
        "\n",
        "# Verify the data by plotting a sample image\n",
        "xb, _ = next(iter(train_loader))\n",
        "plt.imshow(((xb[0] + 1) / 2).squeeze(), cmap=\"gray\")\n",
        "plt.show()"
      ]
    },
    {
      "cell_type": "code",
      "execution_count": null,
      "id": "316594be",
      "metadata": {
        "id": "316594be",
        "outputId": "a15af20e-c5df-4f1a-aafa-ba30862677fb"
      },
      "outputs": [
        {
          "name": "stdout",
          "output_type": "stream",
          "text": [
            "β₀…β₄: [8.738040924072266e-05, 0.0001068115234375, 0.00012636184692382812, 0.0001456737518310547, 0.00016516447067260742]\n",
            "ᾱ₀…ᾱ₄: [0.9999126195907593, 0.9998058080673218, 0.999679446220398, 0.9995338320732117, 0.9993687272071838]\n"
          ]
        }
      ],
      "source": [
        "# -----------------------------------------\n",
        "# Cell 4 – Diffusion schedule utilities\n",
        "# -----------------------------------------\n",
        "\n",
        "def linear_beta_schedule(timesteps, start=0.0001, end=0.02):\n",
        "    return torch.linspace(start, end, timesteps)\n",
        "\n",
        "def cosine_beta_schedule(timesteps, s=0.008):\n",
        "    \"\"\"\n",
        "    Cosine schedule from Nichol & Dhariwal 2021 (DDPM++).\n",
        "    Returns a tensor of betas with shape [T].\n",
        "    \"\"\"\n",
        "    steps = timesteps + 1\n",
        "    x = torch.linspace(0, timesteps, steps)\n",
        "    alphas_cumprod = torch.cos(((x / timesteps) + s) / (1 + s) * math.pi / 2)**2\n",
        "    alphas_cumprod = alphas_cumprod / alphas_cumprod[0]\n",
        "    betas = 1 - (alphas_cumprod[1:] / alphas_cumprod[:-1])\n",
        "    return torch.clamp(betas, 1e-8, 0.999)\n",
        "\n",
        "# Select beta schedule\n",
        "if BETA_SCHEDULE == 'linear':\n",
        "    betas = linear_beta_schedule(T).to(DEVICE)\n",
        "elif BETA_SCHEDULE == 'cosine':\n",
        "    betas = cosine_beta_schedule(T).to(DEVICE)\n",
        "else:\n",
        "    raise ValueError(f\"Unknown beta schedule: {BETA_SCHEDULE}\")\n",
        "\n",
        "# Precompute alphas and cumulative products\n",
        "alphas = (1. - betas)\n",
        "alphas_cumprod      = torch.cumprod(alphas, dim=0).to(DEVICE)\n",
        "sqrt_alphas_cumprod = torch.sqrt(alphas_cumprod).to(DEVICE)\n",
        "sqrt_one_minus_acp  = torch.sqrt(1. - alphas_cumprod).to(DEVICE)\n",
        "\n",
        "print(\"β₀…β₄:\", betas[:5].cpu().tolist())\n",
        "print(\"ᾱ₀…ᾱ₄:\", alphas_cumprod[:5].cpu().tolist())\n"
      ]
    },
    {
      "cell_type": "code",
      "execution_count": null,
      "id": "9fdaf204",
      "metadata": {
        "id": "9fdaf204",
        "outputId": "0b1db87e-1f69-4c54-d8f6-2a09c85b5ef3"
      },
      "outputs": [
        {
          "name": "stdout",
          "output_type": "stream",
          "text": [
            "SinusoidalPosEmb: output shape: torch.Size([5, 256])\n",
            "  → should be [5, 256], device: cuda:0\n",
            "  stats: min -1.0000 max 1.0000\n",
            "LabelEmbedding: output shape: torch.Size([5, 256])\n",
            "  → should be [5, 256], device: cuda:0\n",
            "  stats: min -3.6666 max 3.0347\n"
          ]
        }
      ],
      "source": [
        "# -----------------------------------------------------------\n",
        "# Cell 5 – Positional & label embeddings\n",
        "# -----------------------------------------------------------\n",
        "class SinusoidalPosEmb(nn.Module):\n",
        "    \"\"\"\n",
        "    Standard 1-D sinusoidal embeddings for timestep t (shape [B]).\n",
        "    Uses the same logic as in the original Transformer paper.\n",
        "    \"\"\"\n",
        "    def __init__(self, dim):\n",
        "        super().__init__()\n",
        "        self.dim = dim\n",
        "\n",
        "    def forward(self, t):\n",
        "        device = t.device\n",
        "        half_dim = self.dim // 2\n",
        "        emb = math.log(10000) / (half_dim - 1)\n",
        "        emb = torch.exp(torch.arange(half_dim, device=device) * -emb)\n",
        "        emb = t[:, None] * emb[None, :]\n",
        "        emb = torch.cat((emb.sin(), emb.cos()), dim=-1)\n",
        "        return emb\n",
        "\n",
        "class LabelEmbedding(nn.Module):\n",
        "    \"\"\"\n",
        "    Embeds class labels into a vector space.\n",
        "    \"\"\"\n",
        "    def __init__(self, num_classes, dim, device):\n",
        "        super().__init__()\n",
        "        self.device = device\n",
        "        # Ensure embedding layer is created on the correct device directly\n",
        "        self.emb = nn.Embedding(num_classes, dim, device=device)\n",
        "\n",
        "    def forward(self, y):\n",
        "        # The input `y` is already on the correct device (handled in training loop)\n",
        "        return self.emb(y)\n",
        "\n",
        "# Quick tests for Cell 5 embeddings\n",
        "set_seed() # Ensure reproducibility for tests\n",
        "\n",
        "# 1) SinusoidalPosEmb\n",
        "pos_emb = SinusoidalPosEmb(TIME_EMB_DIM)\n",
        "t_sample = torch.randint(0, T, (5,), device=DEVICE)  # 5 random timesteps\n",
        "out = pos_emb(t_sample)\n",
        "print(f\"SinusoidalPosEmb: output shape: {out.shape}\")\n",
        "print(f\"  → should be [5, {TIME_EMB_DIM}], device: {out.device}\")\n",
        "print(f\"  stats: min {out.min().item():.4f} max {out.max().item():.4f}\")\n",
        "\n",
        "# 2) LabelEmbedding\n",
        "lbl_emb = LabelEmbedding(NUM_CLASSES, TIME_EMB_DIM, device=DEVICE) # Pass device here\n",
        "y_sample = torch.randint(0, NUM_CLASSES, (5,), device=DEVICE)\n",
        "lout = lbl_emb(y_sample)\n",
        "print(f\"LabelEmbedding: output shape: {lout.shape}\")\n",
        "print(f\"  → should be [5, {TIME_EMB_DIM}], device: {lout.device}\")\n",
        "print(f\"  stats: min {lout.min().item():.4f} max {lout.max().item():.4f}\")"
      ]
    },
    {
      "cell_type": "code",
      "execution_count": null,
      "id": "transformer_classes",
      "metadata": {
        "id": "transformer_classes",
        "tags": []
      },
      "outputs": [],
      "source": [
        "# -----------------------------------------------------------\n",
        "# Cell 6 – Attention Mechanism Components\n",
        "# -----------------------------------------------------------\n",
        "\n",
        "class CrossAttention(nn.Module):\n",
        "    def __init__(self, embed_dim, hidden_dim, context_dim=None, num_heads=1):\n",
        "        \"\"\"\n",
        "        Cross-Attention or Self-Attention module.\n",
        "        Supports single-head attention as provided.\n",
        "\n",
        "        Parameters:\n",
        "        - embed_dim: The dimensionality of the query/key projections.\n",
        "        - hidden_dim: The dimensionality of the input tokens (and value projection output).\n",
        "        - context_dim: The dimensionality of the context tokens. If None, performs self-attention.\n",
        "        - num_heads: Number of attention heads (currently only supports 1).\n",
        "        \"\"\"\n",
        "        super().__init__()\n",
        "        self.hidden_dim = hidden_dim\n",
        "        self.context_dim = context_dim\n",
        "        self.embed_dim = embed_dim\n",
        "        self.num_heads = num_heads # Although not used in einsum, kept for clarity\n",
        "\n",
        "        # Linear layer for query projection\n",
        "        self.query = nn.Linear(hidden_dim, embed_dim * num_heads, bias=False)\n",
        "\n",
        "        # Determine if self-attention or cross-attention and define key/value projections\n",
        "        if context_dim is None:\n",
        "            self.self_attn = True\n",
        "            self.key = nn.Linear(hidden_dim, embed_dim * num_heads, bias=False)\n",
        "            self.value = nn.Linear(hidden_dim, hidden_dim * num_heads, bias=False)\n",
        "        else:\n",
        "            self.self_attn = False\n",
        "            self.key = nn.Linear(context_dim, embed_dim * num_heads, bias=False)\n",
        "            self.value = nn.Linear(context_dim, hidden_dim * num_heads, bias=False)\n",
        "\n",
        "        # Output projection\n",
        "        self.out_proj = nn.Linear(hidden_dim * num_heads, hidden_dim) # Project back to original hidden_dim\n",
        "\n",
        "    def forward(self, tokens, context=None):\n",
        "        \"\"\"\n",
        "        Forward pass.\n",
        "\n",
        "        Parameters:\n",
        "        - tokens: Input tokens (e.g., image features) - shape [B, SeqLen, HiddenDim]\n",
        "        - context: Context tokens (e.g., label embedding) - shape [B, CtxSeqLen, CtxDim]\n",
        "                   If self_attn is True, context should be None or will be ignored.\n",
        "\n",
        "        Returns:\n",
        "        - Output tensor after attention - shape [B, SeqLen, HiddenDim]\n",
        "        \"\"\"\n",
        "        Q = self.query(tokens)\n",
        "\n",
        "        if self.self_attn:\n",
        "            K = self.key(tokens)\n",
        "            V = self.value(tokens)\n",
        "        else:\n",
        "            if context is None:\n",
        "                raise ValueError(\"Context must be provided for cross-attention\")\n",
        "            K = self.key(context)\n",
        "            V = self.value(context)\n",
        "\n",
        "        # --- Single-Head Attention Calculation ---\n",
        "        # Assuming num_heads = 1 based on provided einsum\n",
        "        scoremats = torch.einsum(\"BTH,BSH->BTS\", Q, K) # [B, SeqLen, CtxSeqLen]\n",
        "        attnmats = F.softmax(scoremats / math.sqrt(self.embed_dim), dim=-1)\n",
        "        ctx_vecs = torch.einsum(\"BTS,BSH->BTH\", attnmats, V) # [B, SeqLen, HiddenDim]\n",
        "        # --- End Single-Head ---\n",
        "\n",
        "        # TODO: Implement multi-head attention if num_heads > 1\n",
        "        # This would involve reshaping Q, K, V for heads, applying attention in parallel,\n",
        "        # and concatenating results before the final projection.\n",
        "\n",
        "        # Apply output projection\n",
        "        return self.out_proj(ctx_vecs)\n",
        "\n",
        "\n",
        "class TransformerBlock(nn.Module):\n",
        "    \"\"\"Combines self-attn, cross-attn, and a feed-forward network.\"\"\"\n",
        "    def __init__(self, hidden_dim, context_dim, num_heads=1):\n",
        "        super().__init__()\n",
        "        self.attn_self = CrossAttention(hidden_dim, hidden_dim, num_heads=num_heads) # Self-attention\n",
        "        self.attn_cross = CrossAttention(hidden_dim, hidden_dim, context_dim, num_heads=num_heads) # Cross-attention\n",
        "\n",
        "        self.norm1 = nn.LayerNorm(hidden_dim)\n",
        "        self.norm2 = nn.LayerNorm(hidden_dim)\n",
        "        self.norm3 = nn.LayerNorm(hidden_dim)\n",
        "\n",
        "        # Feed-forward network\n",
        "        self.ffn = nn.Sequential(\n",
        "            nn.Linear(hidden_dim, 3 * hidden_dim),\n",
        "            nn.GELU(),\n",
        "            nn.Linear(3 * hidden_dim, hidden_dim)\n",
        "        )\n",
        "\n",
        "    def forward(self, x, context=None):\n",
        "        \"\"\"\n",
        "        x: [B, SeqLen, HiddenDim]\n",
        "        context: [B, CtxSeqLen, CtxDim]\n",
        "        \"\"\"\n",
        "        # Self-Attention + Residual + Norm\n",
        "        x = self.attn_self(self.norm1(x)) + x\n",
        "\n",
        "        # Cross-Attention + Residual + Norm\n",
        "        x = self.attn_cross(self.norm2(x), context=context) + x\n",
        "\n",
        "        # Feed-Forward + Residual + Norm\n",
        "        x = self.ffn(self.norm3(x)) + x\n",
        "        return x\n",
        "\n",
        "class SpatialTransformer(nn.Module):\n",
        "    \"\"\"Applies Transformer blocks spatially to image features.\"\"\"\n",
        "    def __init__(self, hidden_dim, context_dim, num_heads=1):\n",
        "        super().__init__()\n",
        "        self.transformer = TransformerBlock(hidden_dim, context_dim, num_heads)\n",
        "\n",
        "    def forward(self, x, context=None):\n",
        "        \"\"\"\n",
        "        x: [B, C, H, W] - Input feature map\n",
        "        context: [B, CtxSeqLen, CtxDim] - Context embedding\n",
        "        \"\"\"\n",
        "        b, c, h, w = x.shape\n",
        "        x_in = x\n",
        "\n",
        "        # Reshape for transformer: [B, H*W, C]\n",
        "        x = rearrange(x, \"b c h w -> b (h w) c\")\n",
        "\n",
        "        # Apply transformer blocks\n",
        "        x = self.transformer(x, context)\n",
        "\n",
        "        # Reshape back to image format: [B, C, H, W]\n",
        "        x = rearrange(x, 'b (h w) c -> b c h w', h=h, w=w)\n",
        "\n",
        "        # Residual connection\n",
        "        return x + x_in"
      ]
    },
    {
      "cell_type": "code",
      "execution_count": null,
      "id": "e0a421c6",
      "metadata": {
        "id": "e0a421c6",
        "outputId": "90cd04e0-8bee-4cd0-ceb9-4fee8e04a34e"
      },
      "outputs": [
        {
          "name": "stdout",
          "output_type": "stream",
          "text": [
            "Total parameters: 24420.1K\n",
            "Output shape: torch.Size([8, 1, 32, 32])\n",
            "  → should be [8, 1, 32, 32], device: cuda:0\n",
            "Output stats: min -1.4008 max 1.2384\n"
          ]
        }
      ],
      "source": [
        "# -----------------------------------------------------------\n",
        "# Cell 7 – UNet Denoiser with Spatial Transformer\n",
        "# -----------------------------------------------------------\n",
        "class DenseLayer(nn.Module):\n",
        "    \"\"\"\n",
        "    Dense layer that broadcasts outputs to feature maps.\n",
        "    (Used for time embedding projection in ResidualBlocks)\n",
        "    \"\"\"\n",
        "    def __init__(self, input_dim, output_dim):\n",
        "        super().__init__()\n",
        "        self.fc = nn.Linear(input_dim, output_dim)\n",
        "\n",
        "    def forward(self, x):\n",
        "        # Input x shape: [B, InputDim]\n",
        "        # Output shape: [B, OutputDim, 1, 1]\n",
        "        return self.fc(x)[..., None, None]\n",
        "    \n",
        "def make_group_norm(num_channels, max_groups=8):\n",
        "    # start from the smaller of max_groups and num_channels\n",
        "    g = min(max_groups, num_channels)\n",
        "    # walk down until you find a divisor\n",
        "    while num_channels % g != 0:\n",
        "        g -= 1\n",
        "    return nn.GroupNorm(g, num_channels)\n",
        "\n",
        "class ResidualBlock(nn.Module):\n",
        "    def __init__(self, in_c: int, out_c: int, time_emb_dim: int):\n",
        "        super().__init__()\n",
        "        self.time_mlp = DenseLayer(time_emb_dim, out_c)\n",
        "\n",
        "        def GN(ch): \n",
        "            return make_group_norm(ch, max_groups=8)\n",
        "\n",
        "        self.block = nn.Sequential(\n",
        "            GN(in_c),\n",
        "            nn.SiLU(),\n",
        "            nn.Conv2d(in_c, out_c, 3, padding=1, bias=False),\n",
        "            GN(out_c),\n",
        "            nn.SiLU(),\n",
        "            nn.Conv2d(out_c, out_c, 3, padding=1, bias=False),\n",
        "        )\n",
        "        self.residual = (\n",
        "            nn.Conv2d(in_c, out_c, 1, bias=False)\n",
        "            if in_c != out_c\n",
        "            else nn.Identity()\n",
        "        )\n",
        "\n",
        "    def forward(self, x, t_emb):\n",
        "        # x shape: [B, InC, H, W]\n",
        "        # t_emb shape: [B, TimeEmbDim]\n",
        "\n",
        "        h = self.block[:3](x) # Norm, SiLU, Conv1\n",
        "        h = h + self.time_mlp(t_emb) # Add time embedding broadcasted spatially\n",
        "        h = self.block[3:](h) # Norm, SiLU, Conv2\n",
        "\n",
        "        return h + self.residual(x)\n",
        "\n",
        "class SimpleUNetWithAttention(nn.Module):\n",
        "    \"\"\"\n",
        "    UNet that predicts ε for DDPM, conditioned on timestep + class label.\n",
        "    Includes SpatialTransformer blocks for attention.\n",
        "    \"\"\"\n",
        "    def __init__(self, img_ch=1, base_c=64, time_emb_dim=256, context_dim=256, num_classes=10, attn_heads=1):\n",
        "        super().__init__()\n",
        "\n",
        "        # -------- Embeddings --------\n",
        "        self.time_emb = nn.Sequential(\n",
        "            SinusoidalPosEmb(time_emb_dim),\n",
        "            nn.Linear(time_emb_dim, time_emb_dim * 4),\n",
        "            nn.SiLU(),\n",
        "            nn.Linear(time_emb_dim * 4, time_emb_dim)\n",
        "        )\n",
        "        # Label embedding produces context_dim directly\n",
        "        self.label_emb = LabelEmbedding(num_classes, context_dim, device=DEVICE)\n",
        "\n",
        "        # -------- Downsampling path --------\n",
        "        # Level 1 (32x32)\n",
        "        self.down1_res = ResidualBlock(img_ch, base_c, time_emb_dim)      # 1 → 64\n",
        "        # Level 2 (16x16)\n",
        "        self.down2_pool = nn.MaxPool2d(2)\n",
        "        self.down2_res = ResidualBlock(base_c, base_c*2, time_emb_dim)    # 64 → 128\n",
        "        self.down2_attn = SpatialTransformer(base_c*2, context_dim, attn_heads)\n",
        "        # Level 3 (8x8)\n",
        "        self.down3_pool = nn.MaxPool2d(2)\n",
        "        self.down3_res = ResidualBlock(base_c*2, base_c*4, time_emb_dim)  # 128 → 256\n",
        "        self.down3_attn = SpatialTransformer(base_c*4, context_dim, attn_heads)\n",
        "        # Level 4 (4x4)\n",
        "        self.down4_pool = nn.MaxPool2d(2)\n",
        "        self.down4_res = ResidualBlock(base_c*4, base_c*8, time_emb_dim)  # 256 -> 512\n",
        "\n",
        "        # -------- Bottleneck (4x4) --------\n",
        "        self.mid_res1 = ResidualBlock(base_c*8, base_c*8, time_emb_dim)   # 512 → 512\n",
        "        self.mid_attn = SpatialTransformer(base_c*8, context_dim, attn_heads) # Attention in bottleneck\n",
        "        self.mid_res2 = ResidualBlock(base_c*8, base_c*8, time_emb_dim)   # 512 → 512\n",
        "\n",
        "        # -------- Upsampling path --------\n",
        "        # Level 4 (8x8)\n",
        "        self.up4_up = nn.ConvTranspose2d(base_c*8, base_c*4, kernel_size=2, stride=2)\n",
        "        self.up4_res = ResidualBlock(base_c*8, base_c*4, time_emb_dim) # Concatenated: (512+256)=768 -> 256\n",
        "        self.up4_attn = SpatialTransformer(base_c*4, context_dim, attn_heads)\n",
        "        # Level 3 (16x16)\n",
        "        self.up3_up = nn.ConvTranspose2d(base_c*4, base_c*2, kernel_size=2, stride=2)\n",
        "        self.up3_res = ResidualBlock(base_c*4, base_c*2, time_emb_dim) # Concatenated: (256+128)=384 -> 128\n",
        "        self.up3_attn = SpatialTransformer(base_c*2, context_dim, attn_heads)\n",
        "        # Level 2 (32x32)\n",
        "        self.up2_up = nn.ConvTranspose2d(base_c*2, base_c, kernel_size=2, stride=2)\n",
        "        self.up2_res = ResidualBlock(base_c*2, base_c, time_emb_dim) # Concatenated: (128+64)=192 -> 64\n",
        "        # Level 1 (32x32) - Final Output\n",
        "        self.out_norm = nn.GroupNorm(8, base_c)\n",
        "        self.out_act = nn.SiLU()\n",
        "        self.out_conv = nn.Conv2d(base_c, img_ch, kernel_size=1) # 64 -> 1\n",
        "\n",
        "    def forward(self, x, t, y):\n",
        "        \"\"\"\n",
        "        Forward pass through the network.\n",
        "        x : [B, C, H, W]  noisy input image\n",
        "        t : [B]           timestep indices\n",
        "        y : [B]           digit labels\n",
        "        \"\"\"\n",
        "        # Embeddings\n",
        "        t_emb = self.time_emb(t)       # [B, time_emb_dim]\n",
        "        lbl_emb = self.label_emb(y)    # [B, context_dim]\n",
        "        context = lbl_emb[:, None, :]  # [B, 1, context_dim] - Add sequence length dimension for attention\n",
        "\n",
        "        # -------- Encoder --------\n",
        "        # Level 1\n",
        "        d1 = self.down1_res(x, t_emb)      # [B, 64, 32, 32]\n",
        "        # Level 2\n",
        "        d2_in = self.down2_pool(d1)\n",
        "        d2 = self.down2_res(d2_in, t_emb)  # [B, 128, 16, 16]\n",
        "        d2 = self.down2_attn(d2, context)\n",
        "        # Level 3\n",
        "        d3_in = self.down3_pool(d2)\n",
        "        d3 = self.down3_res(d3_in, t_emb)  # [B, 256, 8, 8]\n",
        "        d3 = self.down3_attn(d3, context)\n",
        "        # Level 4\n",
        "        d4_in = self.down4_pool(d3)\n",
        "        d4 = self.down4_res(d4_in, t_emb)  # [B, 512, 4, 4]\n",
        "        # d4 = self.down4_attn(d4, context) # Optional attention at 4x4\n",
        "\n",
        "        # -------- Bottleneck --------\n",
        "        m = self.mid_res1(d4, t_emb)\n",
        "        m = self.mid_attn(m, context)\n",
        "        m = self.mid_res2(m, t_emb)       # [B, 512, 4, 4]\n",
        "\n",
        "        # -------- Decoder --------\n",
        "        # Level 4\n",
        "        u4 = self.up4_up(m)                # [B, 256, 8, 8]\n",
        "        u4 = torch.cat([u4, d3], dim=1)    # [B, 256+256=512, 8, 8] - Error in comment, should be 512+256=768\n",
        "        # Correction: up4_up output channels is base_c*4=256. Skip connection d3 is base_c*4=256.\n",
        "        # Concatenated channels = 256 + 256 = 512. My ResidualBlock definition was wrong. Fixing...\n",
        "        # Corrected ResidualBlock def: in_c = base_c*4 + base_c*4 = base_c*8 = 512\n",
        "        # Let's check dimensions again.\n",
        "        # m: [B, 512, 4, 4] -> up4_up: [B, 256, 8, 8]\n",
        "        # d3: [B, 256, 8, 8]\n",
        "        # cat: [B, 512, 8, 8]\n",
        "        # Corrected ResidualBlock: self.up4_res = ResidualBlock(base_c*8, base_c*4, time_emb_dim) # 512 -> 256\n",
        "        u4 = self.up4_res(u4, t_emb)       # [B, 256, 8, 8]\n",
        "        u4 = self.up4_attn(u4, context)\n",
        "\n",
        "        # Level 3\n",
        "        u3 = self.up3_up(u4)                # [B, 128, 16, 16]\n",
        "        u3 = torch.cat([u3, d2], dim=1)     # [B, 128+128=256]\n",
        "        # Corrected ResidualBlock: self.up3_res = ResidualBlock(base_c*4, base_c*2, time_emb_dim) # 256 -> 128\n",
        "        u3 = self.up3_res(u3, t_emb)        # [B, 128, 16, 16]\n",
        "        u3 = self.up3_attn(u3, context)\n",
        "\n",
        "        # Level 2\n",
        "        u2 = self.up2_up(u3)                # [B, 64, 32, 32]\n",
        "        u2 = torch.cat([u2, d1], dim=1)     # [B, 64+64=128]\n",
        "        # Corrected ResidualBlock: self.up2_res = ResidualBlock(base_c*2, base_c, time_emb_dim) # 128 -> 64\n",
        "        u2 = self.up2_res(u2, t_emb)        # [B, 64, 32, 32]\n",
        "\n",
        "        # Final Output Conv\n",
        "        out = self.out_norm(u2)\n",
        "        out = self.out_act(out)\n",
        "        out = self.out_conv(out)            # [B, 1, 32, 32]\n",
        "\n",
        "        return out\n",
        "\n",
        "# ── Verify total parameter count ─────────────────────────────\n",
        "torch.cuda.empty_cache()\n",
        "set_seed() # Ensure reproducibility for model init\n",
        "model = SimpleUNetWithAttention(\n",
        "    img_ch=IMG_SHAPE[0],\n",
        "    base_c=BASE_CHANNELS,\n",
        "    time_emb_dim=TIME_EMB_DIM,\n",
        "    context_dim=CONTEXT_DIM,\n",
        "    num_classes=NUM_CLASSES,\n",
        "    attn_heads=ATTN_HEADS\n",
        ").to(DEVICE)\n",
        "\n",
        "total_params = sum(p.numel() for p in model.parameters())\n",
        "print(f\"Total parameters: {total_params / 1e3:.1f}K\")\n",
        "\n",
        "# ── Dummy pass to check shapes & devices ────────────────────\n",
        "B = 8\n",
        "x_dummy  = torch.randn(B, *IMG_SHAPE, device=DEVICE)\n",
        "t_dummy  = torch.randint(0, T, (B,), device=DEVICE)\n",
        "y_dummy  = torch.randint(0, NUM_CLASSES, (B,), device=DEVICE)\n",
        "\n",
        "# Forward pass\n",
        "with torch.no_grad():\n",
        "    eps_pred = model(x_dummy, t_dummy, y_dummy)\n",
        "\n",
        "print(f\"Output shape: {eps_pred.shape}\")\n",
        "print(f\"  → should be [{B}, {IMG_SHAPE[0]}, {IMG_SHAPE[1]}, {IMG_SHAPE[2]}], device: {eps_pred.device}\")\n",
        "print(f\"Output stats: min {eps_pred.min().item():.4f} max {eps_pred.max().item():.4f}\")\n"
      ]
    },
    {
      "cell_type": "code",
      "execution_count": null,
      "id": "06c48754",
      "metadata": {
        "id": "06c48754"
      },
      "outputs": [],
      "source": [
        "# -----------------------------------------------------------\n",
        "# Cell 8 – Forward-diffusion helper + loss\n",
        "# -----------------------------------------------------------\n",
        "@torch.no_grad()\n",
        "def q_sample(x0, t, noise=None):\n",
        "    \"\"\"Diffuse the clean image x0 to x_t via q(x_t | x0). Uses precomputed schedules.\"\"\"\n",
        "    if noise is None:\n",
        "        noise = torch.randn_like(x0)\n",
        "\n",
        "    # Ensure tensors are on the same device\n",
        "    sqrt_alphas_cumprod_t = sqrt_alphas_cumprod[t].to(x0.device)\n",
        "    sqrt_one_minus_acp_t = sqrt_one_minus_acp[t].to(x0.device)\n",
        "\n",
        "    # Reshape for broadcasting: [B] -> [B, 1, 1, 1]\n",
        "    sqrt_alphas_cumprod_t = sqrt_alphas_cumprod_t.view(-1, 1, 1, 1)\n",
        "    sqrt_one_minus_acp_t = sqrt_one_minus_acp_t.view(-1, 1, 1, 1)\n",
        "\n",
        "    # Sample x_t: sqrt(ᾱ_t) * x0 + sqrt(1 - ᾱ_t) * noise\n",
        "    return sqrt_alphas_cumprod_t * x0 + sqrt_one_minus_acp_t * noise\n",
        "\n",
        "def diffusion_loss(model, x0, y):\n",
        "    \"\"\"Simplified DDPM objective: predict ε directly (MSE loss).\"\"\"\n",
        "    B = x0.size(0)\n",
        "    t = torch.randint(0, T, (B,), device=x0.device, dtype=torch.long) # Sample random timesteps [0, T-1]\n",
        "    noise = torch.randn_like(x0, device=x0.device)                   # Sample Gaussian noise ε\n",
        "\n",
        "    x_t = q_sample(x0, t, noise)  # Create noisy inputs x_t using precomputed schedules\n",
        "    ε_pred = model(x_t, t, y)     # Predict noise ε using the UNet model\n",
        "\n",
        "    return F.mse_loss(ε_pred, noise) # Compare predicted noise with actual noise"
      ]
    },
    {
      "cell_type": "code",
      "execution_count": null,
      "id": "536d252e",
      "metadata": {
        "id": "536d252e",
        "outputId": "8de4beef-825d-4d70-c377-d75a674f7711"
      },
      "outputs": [
        {
          "name": "stderr",
          "output_type": "stream",
          "text": [
            "                                                                           \r"
          ]
        },
        {
          "name": "stdout",
          "output_type": "stream",
          "text": [
            "Epoch 1: mean loss 0.1265\n"
          ]
        },
        {
          "name": "stderr",
          "output_type": "stream",
          "text": [
            "                                                                           \r"
          ]
        },
        {
          "name": "stdout",
          "output_type": "stream",
          "text": [
            "Epoch 2: mean loss 0.0489\n"
          ]
        },
        {
          "name": "stderr",
          "output_type": "stream",
          "text": [
            "                                                                           \r"
          ]
        },
        {
          "name": "stdout",
          "output_type": "stream",
          "text": [
            "Epoch 3: mean loss 0.0419\n"
          ]
        },
        {
          "name": "stderr",
          "output_type": "stream",
          "text": [
            "                                                                           \r"
          ]
        },
        {
          "name": "stdout",
          "output_type": "stream",
          "text": [
            "Epoch 4: mean loss 0.0379\n"
          ]
        },
        {
          "name": "stderr",
          "output_type": "stream",
          "text": [
            "                                                                           \r"
          ]
        },
        {
          "name": "stdout",
          "output_type": "stream",
          "text": [
            "Epoch 5: mean loss 0.0356\n",
            "Saved checkpoint at epoch 5 to model_attn_epoch005.pth\n"
          ]
        },
        {
          "name": "stderr",
          "output_type": "stream",
          "text": [
            "                                                                           \r"
          ]
        },
        {
          "name": "stdout",
          "output_type": "stream",
          "text": [
            "Epoch 6: mean loss 0.0338\n"
          ]
        },
        {
          "name": "stderr",
          "output_type": "stream",
          "text": [
            "                                                                           \r"
          ]
        },
        {
          "name": "stdout",
          "output_type": "stream",
          "text": [
            "Epoch 7: mean loss 0.0328\n"
          ]
        },
        {
          "name": "stderr",
          "output_type": "stream",
          "text": [
            "                                                                           \r"
          ]
        },
        {
          "name": "stdout",
          "output_type": "stream",
          "text": [
            "Epoch 8: mean loss 0.0319\n"
          ]
        },
        {
          "name": "stderr",
          "output_type": "stream",
          "text": [
            "                                                                           \r"
          ]
        },
        {
          "name": "stdout",
          "output_type": "stream",
          "text": [
            "Epoch 9: mean loss 0.0313\n"
          ]
        },
        {
          "name": "stderr",
          "output_type": "stream",
          "text": [
            "                                                                           \r"
          ]
        },
        {
          "name": "stdout",
          "output_type": "stream",
          "text": [
            "Epoch 10: mean loss 0.0304\n",
            "Saved checkpoint at epoch 10 to model_attn_epoch010.pth\n"
          ]
        },
        {
          "name": "stderr",
          "output_type": "stream",
          "text": [
            "                                                                           \r"
          ]
        },
        {
          "name": "stdout",
          "output_type": "stream",
          "text": [
            "Epoch 11: mean loss 0.0301\n"
          ]
        },
        {
          "name": "stderr",
          "output_type": "stream",
          "text": [
            "                                                                           \r"
          ]
        },
        {
          "name": "stdout",
          "output_type": "stream",
          "text": [
            "Epoch 12: mean loss 0.0300\n"
          ]
        },
        {
          "name": "stderr",
          "output_type": "stream",
          "text": [
            "                                                                           \r"
          ]
        },
        {
          "name": "stdout",
          "output_type": "stream",
          "text": [
            "Epoch 13: mean loss 0.0295\n"
          ]
        },
        {
          "name": "stderr",
          "output_type": "stream",
          "text": [
            "                                                                           \r"
          ]
        },
        {
          "name": "stdout",
          "output_type": "stream",
          "text": [
            "Epoch 14: mean loss 0.0291\n"
          ]
        },
        {
          "name": "stderr",
          "output_type": "stream",
          "text": [
            "                                                                           \r"
          ]
        },
        {
          "name": "stdout",
          "output_type": "stream",
          "text": [
            "Epoch 15: mean loss 0.0293\n",
            "Saved checkpoint at epoch 15 to model_attn_epoch015.pth\n"
          ]
        },
        {
          "name": "stderr",
          "output_type": "stream",
          "text": [
            "                                                                           \r"
          ]
        },
        {
          "name": "stdout",
          "output_type": "stream",
          "text": [
            "Epoch 16: mean loss 0.0286\n"
          ]
        },
        {
          "name": "stderr",
          "output_type": "stream",
          "text": [
            "                                                                           \r"
          ]
        },
        {
          "name": "stdout",
          "output_type": "stream",
          "text": [
            "Epoch 17: mean loss 0.0285\n"
          ]
        },
        {
          "name": "stderr",
          "output_type": "stream",
          "text": [
            "                                                                           \r"
          ]
        },
        {
          "name": "stdout",
          "output_type": "stream",
          "text": [
            "Epoch 18: mean loss 0.0282\n"
          ]
        },
        {
          "name": "stderr",
          "output_type": "stream",
          "text": [
            "                                                                           \r"
          ]
        },
        {
          "name": "stdout",
          "output_type": "stream",
          "text": [
            "Epoch 19: mean loss 0.0277\n"
          ]
        },
        {
          "name": "stderr",
          "output_type": "stream",
          "text": [
            "                                                                           \r"
          ]
        },
        {
          "name": "stdout",
          "output_type": "stream",
          "text": [
            "Epoch 20: mean loss 0.0280\n",
            "Saved checkpoint at epoch 20 to model_attn_epoch020.pth\n",
            "\n",
            "Training finished in 8.52 minutes.\n"
          ]
        }
      ],
      "source": [
        "# -----------------------------------------------------------\n",
        "# Cell 9 – Training loop (correct AMP usage)\n",
        "# -----------------------------------------------------------\n",
        "scaler = torch.amp.GradScaler(enabled=AMP)\n",
        "\n",
        "# Instantiate the model with attention\n",
        "model = SimpleUNetWithAttention(\n",
        "    img_ch=IMG_SHAPE[0],\n",
        "    base_c=BASE_CHANNELS,\n",
        "    time_emb_dim=TIME_EMB_DIM,\n",
        "    context_dim=CONTEXT_DIM,\n",
        "    num_classes=NUM_CLASSES,\n",
        "    attn_heads=ATTN_HEADS\n",
        ").to(DEVICE)\n",
        "\n",
        "optimizer = torch.optim.AdamW(model.parameters(), lr=LR, weight_decay=WEIGHT_DECAY)\n",
        "\n",
        "start_time = time.time()\n",
        "for epoch in range(1, N_EPOCHS + 1):\n",
        "    model.train()\n",
        "    losses = []\n",
        "    # Use drop_last=True in DataLoader to ensure consistent batch sizes for AMP\n",
        "    pbar = tqdm(train_loader, desc=f\"Epoch {epoch:02d}/{N_EPOCHS}\", leave=False)\n",
        "\n",
        "    for xb, yb in pbar:\n",
        "        xb, yb = xb.to(DEVICE), yb.to(DEVICE)\n",
        "\n",
        "        optimizer.zero_grad(set_to_none=True)\n",
        "\n",
        "        # Use autocast for the forward pass\n",
        "        with torch.autocast(device_type=DEVICE, enabled=AMP):\n",
        "            loss = diffusion_loss(model, xb, yb)\n",
        "\n",
        "        # Scale the loss and perform backward pass\n",
        "        scaler.scale(loss).backward()\n",
        "\n",
        "        # Unscale gradients and step optimizer\n",
        "        scaler.step(optimizer)\n",
        "\n",
        "        # Update the scaler for next iteration\n",
        "        scaler.update()\n",
        "\n",
        "        losses.append(loss.item())\n",
        "        if len(losses) % LOG_INTERVAL == 0:\n",
        "            mean_loss = np.mean(losses[-LOG_INTERVAL:]) # Log recent average\n",
        "            pbar.set_postfix(loss=f\"{mean_loss:.4f}\")\n",
        "\n",
        "        # Optionally: wandb logging\n",
        "        # if USE_WANDB and wandb.run:\n",
        "        #     wandb.log({\"train_loss\": loss.item(), \"epoch\": epoch})\n",
        "\n",
        "    epoch_mean_loss = np.mean(losses)\n",
        "    print(f\"Epoch {epoch}: mean loss {epoch_mean_loss:.4f}\")\n",
        "    # if USE_WANDB and wandb.run:\n",
        "    #     wandb.log({\"epoch_mean_loss\": epoch_mean_loss, \"epoch\": epoch})\n",
        "\n",
        "    # Save model every few epochs\n",
        "    if epoch % SAVE_MODEL_EVERY == 0:\n",
        "        ckpt_path = f\"model_attn_epoch{epoch:03d}.pth\"\n",
        "        torch.save(model.state_dict(), ckpt_path)\n",
        "        print(f\"Saved checkpoint at epoch {epoch} to {ckpt_path}\")\n",
        "\n",
        "end_time = time.time()\n",
        "print(f\"\\nTraining finished in {(end_time - start_time)/60:.2f} minutes.\")"
      ]
    },
    {
      "cell_type": "code",
      "execution_count": null,
      "id": "2ad8ec4b",
      "metadata": {
        "id": "2ad8ec4b"
      },
      "outputs": [],
      "source": [
        "# -------------------------------------------------------------\n",
        "# Cell 10 – Reverse Diffusion: Fast DDIM Sampling\n",
        "# -------------------------------------------------------------\n",
        "@torch.no_grad()\n",
        "def sample_ddim_fast(model, y, num_steps=DDIM_STEPS, eta=DDIM_ETA):\n",
        "    \"\"\"\n",
        "    DDIM sampling (Algorithm 2 from Denoising Diffusion Implicit Models).\n",
        "    Uses precomputed schedules (alphas, alphas_cumprod).\n",
        "\n",
        "    Parameters:\n",
        "    - model: The trained UNet model.\n",
        "    - y: The conditional labels [B].\n",
        "    - num_steps: Number of DDIM sampling steps (τ in the paper).\n",
        "    - eta: Controls stochasticity (0.0 = DDIM, 1.0 = DDPM-like variance).\n",
        "\n",
        "    Returns:\n",
        "    - x: The generated samples [B, C, H, W].\n",
        "    \"\"\"\n",
        "    model.eval() # Ensure model is in evaluation mode\n",
        "    B = y.size(0)\n",
        "\n",
        "    # Generate the DDIM subsequence of timesteps {t_i}\n",
        "    # Starts from T-1 down to 0, with `num_steps` intervals.\n",
        "    t_seq = torch.linspace(T - 1, 0, num_steps, device=DEVICE).long()\n",
        "\n",
        "    # Start with random noise x_T\n",
        "    x = torch.randn(B, *IMG_SHAPE, device=DEVICE)\n",
        "\n",
        "    for i in tqdm(range(num_steps), desc=\"DDIM Sampling\", leave=False):\n",
        "        # Current timestep t_i\n",
        "        t_i = t_seq[i].repeat(B) # Expand timestep to batch size [B]\n",
        "\n",
        "        # Predict noise ε_θ(x_{t_i}, t_i, y)\n",
        "        eps_pred = model(x, t_i, y)\n",
        "\n",
        "        # Get ᾱ_{t_i} and ᾱ_{t_{i-1}}\n",
        "        alpha_bar_i = alphas_cumprod[t_i][:, None, None, None] # Shape [B, 1, 1, 1]\n",
        "\n",
        "        # Get the 'previous' timestep t_{i-1}\n",
        "        # If i=0 (first step), t_{i-1} doesn't exist conceptually for the formula,\n",
        "        # but for computation, we handle the edge case where t_next is 0.\n",
        "        if i < num_steps - 1:\n",
        "            t_prev = t_seq[i + 1].repeat(B)\n",
        "            alpha_bar_prev = alphas_cumprod[t_prev][:, None, None, None]\n",
        "        else:\n",
        "            # Last step (i = num_steps - 1), t_prev effectively corresponds to ᾱ_0 = 1\n",
        "            alpha_bar_prev = torch.ones_like(alpha_bar_i)\n",
        "\n",
        "        # Equation (12) components:\n",
        "        # 1. Predicted x0: (x_{t_i} - sqrt(1 - ᾱ_{t_i}) * ε_θ) / sqrt(ᾱ_{t_i})\n",
        "        sqrt_one_minus_alpha_bar_i = torch.sqrt(1. - alpha_bar_i)\n",
        "        pred_x0 = (x - sqrt_one_minus_alpha_bar_i * eps_pred) / torch.sqrt(alpha_bar_i)\n",
        "        pred_x0.clamp_(-1., 1.) # Optional: Clip predicted x0\n",
        "\n",
        "        # 2. Direction pointing to x_{t_i}\n",
        "        # This term is implicitly handled by starting from x and adding the other two terms.\n",
        "\n",
        "        # 3. Random noise component (controlled by eta and σ_i)\n",
        "        # Calculate σ_i (Equation 16 in DDIM paper)\n",
        "        # σ_i = η * sqrt( (1 - ᾱ_{t_{i-1}}) / (1 - ᾱ_{t_i}) ) * sqrt( 1 - ᾱ_{t_i} / ᾱ_{t_{i-1}} )\n",
        "        # Note: We use alpha_bar_i for ᾱ_{t_i} and alpha_bar_prev for ᾱ_{t_{i-1}}\n",
        "        var = (1. - alpha_bar_prev) / (1. - alpha_bar_i) * (1. - alpha_bar_i / alpha_bar_prev)\n",
        "        # Clamp variance to be non-negative for sqrt\n",
        "        sigma_i = eta * torch.sqrt(torch.clamp(var, min=1e-8))\n",
        "\n",
        "        # Sample standard Gaussian noise\n",
        "        noise = torch.randn_like(x) if eta > 0 else 0.0\n",
        "\n",
        "        # Combine terms using Equation (12):\n",
        "        # x_{t_{i-1}} = sqrt(ᾱ_{t_{i-1}}) * pred_x0\n",
        "        #             + sqrt(1 - ᾱ_{t_{i-1}} - σ_i^2) * ε_θ\n",
        "        #             + σ_i * noise\n",
        "        term2_coeff = torch.sqrt(torch.clamp(1. - alpha_bar_prev - sigma_i**2, min=0.0))\n",
        "        x = torch.sqrt(alpha_bar_prev) * pred_x0 + term2_coeff * eps_pred + sigma_i * noise\n",
        "\n",
        "    return x # Final denoised sample x_0"
      ]
    },
    {
      "cell_type": "code",
      "execution_count": null,
      "id": "1b8f5b2b",
      "metadata": {
        "id": "1b8f5b2b",
        "outputId": "a2664a82-3183-4251-dc53-3827182eb8e7"
      },
      "outputs": [
        {
          "name": "stderr",
          "output_type": "stream",
          "text": [
            "                                                                          \r"
          ]
        },
        {
          "name": "stdout",
          "output_type": "stream",
          "text": [
            "Classifier trained for 5 epochs.\n",
            "Evaluating generated images for digit '3'...\n"
          ]
        },
        {
          "name": "stderr",
          "output_type": "stream",
          "text": [
            "                                                              \r"
          ]
        },
        {
          "name": "stdout",
          "output_type": "stream",
          "text": [
            "Digit ‘3’ — acc: 0.854  precision: 1.000  recall: 0.854  F1: 0.921\n"
          ]
        }
      ],
      "source": [
        "# -----------------------------------------------------------\n",
        "# Cell 11 – Auxiliary Classifier for Evaluation (Corrected)\n",
        "# -----------------------------------------------------------\n",
        "\n",
        "class TinyCNN(nn.Module):\n",
        "    \"\"\" A simple CNN classifier for MNIST 32x32. \"\"\"\n",
        "    def __init__(self, num_classes=NUM_CLASSES):\n",
        "        super().__init__()\n",
        "        # Input: [B, 1, 32, 32]\n",
        "        self.net = nn.Sequential(\n",
        "            nn.Conv2d(1, 32, kernel_size=3, padding=1), nn.ReLU(),\n",
        "            nn.MaxPool2d(2), # [B, 32, 16, 16]\n",
        "            nn.Conv2d(32, 64, kernel_size=3, padding=1), nn.ReLU(),\n",
        "            nn.MaxPool2d(2), # [B, 64, 8, 8]\n",
        "            nn.Flatten(),    # [B, 64 * 8 * 8 = 4096]\n",
        "            # Corrected Linear layer input size\n",
        "            nn.Linear(64 * 8 * 8, 256), \n",
        "            nn.ReLU(),\n",
        "            nn.Linear(256, num_classes) # [B, num_classes]\n",
        "        )\n",
        "\n",
        "    def forward(self, x):\n",
        "        return self.net(x)\n",
        "\n",
        "clf = TinyCNN().to(DEVICE)\n",
        "opt = torch.optim.Adam(clf.parameters(), lr=CLF_LR)\n",
        "\n",
        "# --- Train the classifier ---\n",
        "set_seed() # Ensure reproducible classifier training\n",
        "for epoch in range(1, CLF_EPOCHS + 1):\n",
        "    clf.train()\n",
        "    clf_pbar = tqdm(train_loader, desc=f\"Epoch {epoch}/{CLF_EPOCHS}\", leave=False)\n",
        "    for xb, yb in clf_pbar:\n",
        "        xb, yb = xb.to(DEVICE), yb.to(DEVICE)\n",
        "        logits = clf(xb)\n",
        "        loss = F.cross_entropy(logits, yb)\n",
        "        opt.zero_grad(); loss.backward(); opt.step()\n",
        "        clf_pbar.set_postfix(loss=f\"{loss.item():.5f}\")\n",
        "print(f\"Classifier trained for {CLF_EPOCHS} epochs.\")\n",
        "\n",
        "\n",
        "# --- Evaluation function using the trained classifier ---\n",
        "def evaluate_generated(gen_model, n_samples=1000, target_digit=3):\n",
        "    \"\"\"Generates images for a target digit and evaluates using TinyCNN.\"\"\"\n",
        "    gen_model.eval() # Ensure generator is in eval mode\n",
        "    clf.eval()       # Ensure classifier is in eval mode\n",
        "\n",
        "    print(f\"Evaluating generated images for digit '{target_digit}'...\")\n",
        "    # Generate fake images with DDIM\n",
        "    y_cond = torch.full((n_samples,), target_digit, dtype=torch.long, device=DEVICE)\n",
        "    fake_images = sample_ddim_fast(gen_model, y_cond, num_steps=DDIM_STEPS, eta=DDIM_ETA).detach()\n",
        "\n",
        "    # Images are in [-1, 1], classifier expects normalized ToTensor output [0, 1] -> [-1, 1]\n",
        "    # No rescaling needed as classifier trained on same [-1, 1] data\n",
        "\n",
        "    preds = []\n",
        "    # Process in minibatches to avoid OOM on classifier\n",
        "    with torch.no_grad():\n",
        "        for chunk in fake_images.split(BATCH_SIZE):\n",
        "            logits = clf(chunk.to(DEVICE))\n",
        "            preds.append(logits.argmax(1).cpu())\n",
        "\n",
        "    preds = torch.cat(preds).numpy()\n",
        "    labels = np.full_like(preds, target_digit) # True labels are the target digit\n",
        "\n",
        "    # Calculate precision, recall, f1 for the target class vs all others\n",
        "    true_binary = (labels == target_digit)    # e.g. [True, True, …]\n",
        "    pred_binary = (preds  == target_digit)    # e.g. [False, True, …]\n",
        "\n",
        "    prec, recall, f1, _ = precision_recall_fscore_support(\n",
        "        true_binary,\n",
        "        pred_binary,\n",
        "        average=\"binary\",\n",
        "        zero_division=0\n",
        "    )\n",
        "    acc = accuracy_score(true_binary, pred_binary)\n",
        "    \n",
        "    return acc, prec, recall, f1\n",
        "\n",
        "# Test the classifier on generated images for digit '3' using the trained diffusion model\n",
        "# This requires the main model ('model') to be trained first.\n",
        "# Assuming 'model' is the trained SimpleUNetWithAttention instance\n",
        "acc, prec, rec, f1 = evaluate_generated(model, n_samples=1000, target_digit=3)\n",
        "print(f\"Digit ‘3’ — acc: {acc:.3f}  precision: {prec:.3f}  recall: {rec:.3f}  F1: {f1:.3f}\")\n"
      ]
    },
    {
      "cell_type": "code",
      "execution_count": null,
      "id": "48c81344",
      "metadata": {
        "id": "48c81344",
        "outputId": "001a012b-31d8-4e55-fb31-d4f3a5230f69"
      },
      "outputs": [
        {
          "name": "stdout",
          "output_type": "stream",
          "text": [
            "Model reloaded from model_attn_epoch020.pth and ready for inference.\n"
          ]
        }
      ],
      "source": [
        "# -----------------------------------------------------------\n",
        "# Cell 12 – Load Model Checkpoint for Inference\n",
        "# -----------------------------------------------------------\n",
        "\n",
        "# Define path to the saved model checkpoint\n",
        "SAVE_PATH = f\"model_attn_epoch{N_EPOCHS:03d}.pth\"\n",
        "\n",
        "# 1) Reconstruct the model architecture using training hyperparameters\n",
        "loaded_model = SimpleUNetWithAttention(\n",
        "    img_ch=IMG_SHAPE[0],\n",
        "    base_c=BASE_CHANNELS,\n",
        "    time_emb_dim=TIME_EMB_DIM,\n",
        "    context_dim=CONTEXT_DIM,\n",
        "    num_classes=NUM_CLASSES,\n",
        "    attn_heads=ATTN_HEADS\n",
        ").to(DEVICE)\n",
        "\n",
        "# 2) Load the saved weights\n",
        "if os.path.exists(SAVE_PATH):\n",
        "    try:\n",
        "        state_dict = torch.load(SAVE_PATH, map_location=DEVICE)\n",
        "        loaded_model.load_state_dict(state_dict)\n",
        "        # 3) Set to eval mode for inference\n",
        "        loaded_model.eval()\n",
        "        print(f\"Model reloaded from {SAVE_PATH} and ready for inference.\")\n",
        "    except Exception as e:\n",
        "        print(f\"ERROR: Failed to load checkpoint from {SAVE_PATH}. Error: {e}\")\n",
        "        # Handle error - maybe proceed with the model trained in the current session if available\n",
        "        if 'model' in globals():\n",
        "            print(\"Using model trained in the current session.\")\n",
        "            loaded_model = model.eval() # Use the model from the training cell\n",
        "        else:\n",
        "             raise RuntimeError(\"No trained model checkpoint found or loaded.\")\n",
        "else:\n",
        "    print(f\"ERROR: Model checkpoint not found at {SAVE_PATH}\")\n",
        "    if 'model' in globals():\n",
        "        print(\"Using model trained in the current session.\")\n",
        "        loaded_model = model.eval() # Use the model from the training cell\n",
        "    else:\n",
        "        raise RuntimeError(\"No trained model checkpoint found or loaded.\")"
      ]
    },
    {
      "cell_type": "code",
      "execution_count": null,
      "id": "45f33310",
      "metadata": {
        "id": "45f33310",
        "outputId": "992681b5-7615-4cd3-9d6e-004a1ca68bc9"
      },
      "outputs": [
        {
          "name": "stderr",
          "output_type": "stream",
          "text": [
            "                                                              \r"
          ]
        },
        {
          "data": {
            "image/png": "[encoded data removed]",
            "text/plain": [
              "<Figure size 1000x400 with 10 Axes>"
            ]
          },
          "metadata": {},
          "output_type": "display_data"
        }
      ],
      "source": [
        "# -----------------------------------------------------------\n",
        "# Cell 13 – Generate & display all digits 0–9 with DDIM-fast\n",
        "# -----------------------------------------------------------\n",
        "\n",
        "# 1) Prepare figure with 2 rows × 5 columns\n",
        "fig, axes = plt.subplots(2, 5, figsize=(10, 4))\n",
        "fig.suptitle(\"DDIM‐Fast Generated MNIST Digits 0–9\", fontsize=16)\n",
        "\n",
        "# 2) Loop over target digits\n",
        "for digit in range(10):\n",
        "    # 2a) Create class‐condition tensor\n",
        "    y_cond = torch.tensor([digit], device=DEVICE, dtype=torch.long)\n",
        "    \n",
        "    # 2b) Sample one image\n",
        "    with torch.no_grad():\n",
        "        sample = sample_ddim_fast(loaded_model,\n",
        "                                  y_cond,\n",
        "                                  num_steps=DDIM_STEPS,\n",
        "                                  eta=DDIM_ETA)   # → [1,1,32,32]\n",
        "    \n",
        "    # 2c) Clamp & normalize from [-1,1] → [0,1]\n",
        "    img = sample.clamp(-1, 1).cpu() * 0.5 + 0.5\n",
        "    img = img.squeeze()  # → [32,32]\n",
        "    \n",
        "    # 2d) Pick the right subplot\n",
        "    ax = axes[digit // 5, digit % 5]\n",
        "    ax.imshow(img.numpy(), cmap=\"gray\", vmin=0, vmax=1)\n",
        "    ax.set_title(f\"{digit}\")\n",
        "    ax.axis(\"off\")\n",
        "\n",
        "plt.tight_layout(rect=[0, 0, 1, 0.95])\n",
        "plt.show()"
      ]
    },
    {
      "cell_type": "code",
      "execution_count": null,
      "id": "9f7718d7",
      "metadata": {
        "id": "9f7718d7",
        "outputId": "b77e66e7-c124-4111-a9a7-800fa21967ff"
      },
      "outputs": [
        {
          "name": "stderr",
          "output_type": "stream",
          "text": [
            "                                                                                        "
          ]
        },
        {
          "name": "stdout",
          "output_type": "stream",
          "text": [
            "Classifier on real test images  →  acc=0.9890  F1=0.9890\n"
          ]
        },
        {
          "name": "stderr",
          "output_type": "stream",
          "text": [
            "\r"
          ]
        }
      ],
      "source": [
        "# --------------------------------------\n",
        "# Cell 14 – Final test on real data \n",
        "# --------------------------------------\n",
        "\n",
        "# Ensure classifier is in eval mode\n",
        "clf.eval()\n",
        "\n",
        "# Evaluate the trained classifier on the *real* MNIST test set\n",
        "test_preds, test_labels = [], []\n",
        "with torch.no_grad():\n",
        "    # Use test_loader which uses the same transformations as training\n",
        "    for xb, yb in tqdm(test_loader, desc=\"Evaluating classifier on real test data\", leave=False):\n",
        "        xb = xb.to(DEVICE) # Move data to device\n",
        "        logits = clf(xb).cpu() # Get predictions on CPU\n",
        "        test_preds.append(logits.argmax(1))\n",
        "        test_labels.append(yb) # Keep original labels on CPU\n",
        "\n",
        "test_preds = torch.cat(test_preds).numpy()\n",
        "test_labels = torch.cat(test_labels).numpy()\n",
        "\n",
        "# Calculate overall metrics using macro averaging\n",
        "prec, rec, f1, _ = precision_recall_fscore_support(test_labels, test_preds, average=\"macro\", zero_division=0)\n",
        "acc = accuracy_score(test_labels, test_preds)\n",
        "\n",
        "print(f\"Classifier on real test images  →  acc={acc:.4f}  F1={f1:.4f}\")\n"
      ]
    }
  ],
  "metadata": {
    "colab": {
      "provenance": []
    },
    "kernelspec": {
      "display_name": "Python 3 (ipykernel)",
      "language": "python",
      "name": "python3"
    },
    "language_info": {
      "codemirror_mode": {
        "name": "ipython",
        "version": 3
      },
      "file_extension": ".py",
      "mimetype": "text/x-python",
      "name": "python",
      "nbconvert_exporter": "python",
      "pygments_lexer": "ipython3",
      "version": "3.11.11"
    }
  },
  "nbformat": 4,
  "nbformat_minor": 5
}
