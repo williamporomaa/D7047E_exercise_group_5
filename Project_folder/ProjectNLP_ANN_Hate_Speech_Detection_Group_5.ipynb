{
 "cells": [
  {
   "cell_type": "markdown",
   "id": "26d920da",
   "metadata": {},
   "source": [
    "# Hate Speech Detection - ANN Baseline\n",
    "\n",
    "This notebook implements an Artificial Neural Network (ANN) as a baseline model for hate speech/offensive language detection. It uses the same datasets and preprocessing pipeline as the main RoBERTa project for fair comparison.\n",
    "\n",
    "**Features:**\n",
    "1.  **Configuration Cell:** Centralized parameters.\n",
    "2.  **Data Loading & Preprocessing:** Handles TXT and TSV/CSV, uses the same text cleaning, and TF-IDF for feature extraction.\n",
    "3.  **ANN Model:** A simple feed-forward neural network.\n",
    "4.  **Training Loop:** Standard PyTorch training with early stopping.\n",
    "5.  **Evaluation:** Standard classification metrics.\n",
    "6.  **Artifact Saving:** Saves model, vectorizer, results, and plots.\n",
    "7.  **WandB Sweep Config:** For hyperparameter optimization."
   ]
  },
  {
   "cell_type": "markdown",
   "id": "52e353c8",
   "metadata": {},
   "source": [
    "## 1. Imports"
   ]
  },
  {
   "cell_type": "code",
   "execution_count": null,
   "id": "98a55cff",
   "metadata": {},
   "outputs": [],
   "source": [
    "import os\n",
    "os.environ[\"PYTORCH_CUDA_ALLOC_CONF\"] = \"expandable_segments:True\"  # Mitigate fragmentation\n",
    "\n",
    "import torch\n",
    "import torch.nn as nn\n",
    "from torch.utils.data import Dataset, DataLoader\n",
    "from torch.optim import AdamW\n",
    "from torch.amp import autocast, GradScaler\n",
    "import torch.nn.functional as F\n",
    "\n",
    "import pandas as pd\n",
    "import numpy as np\n",
    "import matplotlib.pyplot as plt\n",
    "from sklearn.model_selection import train_test_split\n",
    "from sklearn.feature_extraction.text import TfidfVectorizer\n",
    "from sklearn.utils.class_weight import compute_class_weight\n",
    "from sklearn.metrics import accuracy_score, f1_score, precision_score, recall_score, confusion_matrix, classification_report, ConfusionMatrixDisplay\n",
    "import seaborn as sns\n",
    "import json\n",
    "import time\n",
    "import random\n",
    "from copy import deepcopy\n",
    "from typing import Dict, List, Tuple, Optional\n",
    "from tqdm.auto import tqdm\n",
    "import re, html\n",
    "import joblib # For saving/loading the TfidfVectorizer\n",
    "import emoji\n",
    "import wandb"
   ]
  },
  {
   "cell_type": "markdown",
   "id": "488ac6a0",
   "metadata": {},
   "source": [
    "## 2. Configuration (Code Cell)"
   ]
  },
  {
   "cell_type": "code",
   "execution_count": 23,
   "id": "33e2fd41",
   "metadata": {},
   "outputs": [
    {
     "name": "stdout",
     "output_type": "stream",
     "text": [
      "Base dir: /\n",
      "Train file: /HASOCData/english_dataset.tsv\n",
      "Configuration saved to ann_model_output/config_ann_HASOC.json\n"
     ]
    }
   ],
   "source": [
    "# --- Core ANN Configuration ---\n",
    "MAX_FEATURES = 10000      # Max features for TF-IDF\n",
    "ANN_HIDDEN_DIM = 256    # Hidden dimension for ANN\n",
    "ANN_LAYERS = 2          # Number of hidden layers (fc1, fc2 in your example means 2 hidden layers before output)\n",
    "DROPOUT_PROB = 0.3      # Dropout probability\n",
    "BATCH_SIZE = 64         # Batch size\n",
    "EPOCHS = 20             # Number of training epochs (ANNs might need more than transformers for convergence)\n",
    "LEARNING_RATE = 1e-3    # Learning rate for ANN (typically higher than for transformers)\n",
    "WEIGHT_DECAY = 1e-4     # Weight decay for AdamW optimizer\n",
    "SEED = 42               # Random seed for reproducibility\n",
    "OUTPUT_DIR = 'ann_model_output' # Directory to save model, results, plots\n",
    "VAL_SPLIT_SIZE = 0.15   # Proportion of training data to use for validation\n",
    "\n",
    "# --- Feature Flags ---\n",
    "USE_EARLY_STOPPING = True # Set to True to enable early stopping\n",
    "PATIENCE = 5            # Number of epochs to wait for improvement before stopping\n",
    "ACCUMULATION_STEPS = 1  # Gradient accumulation (typically 1 for ANNs unless very large batches simulated)\n",
    "\n",
    "# --- Dataset Configuration (Should match your RoBERTa project for comparison) ---\n",
    "BASE_DIR = os.getcwd()\n",
    "print(\"Base dir:\", BASE_DIR)\n",
    "DATASET_TYPE = 'HASOC' # Options: 'OLID', 'HASOC', 'OffenseEval'\n",
    "SUBTASK = '1'        # e.g. HASOC subtask 1, 2, or 3; OLID subtask a, b, or c\n",
    "\n",
    "# --- File paths (Adjust as per your RoBERTa project structure) ---\n",
    "if DATASET_TYPE == 'OLID':\n",
    "    DATA_DIR   = os.path.join(BASE_DIR, 'OlidPreprcessed') # Ensure this path exists\n",
    "    TRAIN_FILE = os.path.join(DATA_DIR, 'OLID_Tain_ATUSER_URL_EmojiRemoved_Pedro.txt')\n",
    "    TEST_FILE  = os.path.join(DATA_DIR, f'OLID_TEST_{SUBTASK.upper()}_ATUSER_URL_EmojiRemoved_Pedro.txt')\n",
    "    TEST_LABELS_FILE = None\n",
    "    TEXT_COLUMN = 'tweet'\n",
    "    LABEL_COLUMN = f'subtask_{SUBTASK.lower()}'\n",
    "    if SUBTASK == 'a': LABEL_MAP = {'NOT': 0, 'OFF': 1}\n",
    "    elif SUBTASK == 'b': LABEL_MAP = {'UNT': 0, 'TIN': 1}\n",
    "    else: LABEL_MAP = {'IND': 0, 'GRP': 1, 'OTH': 2}\n",
    "\n",
    "elif DATASET_TYPE == 'HASOC':\n",
    "    DATA_DIR    = os.path.join(BASE_DIR, 'HASOCData') # Ensure this path exists\n",
    "    TRAIN_FILE  = os.path.join(DATA_DIR, 'english_dataset.tsv')\n",
    "    TEST_FILE   = os.path.join(DATA_DIR, 'hasoc2019_en_test-2919.tsv')\n",
    "    TEST_LABELS_FILE = None # os.path.join(DATA_DIR, 'english_dataset_labels_subtask_c.tsv') # Example if you have one\n",
    "    TEXT_COLUMN  = 'tweet' # Or 'text' depending on your tsv file\n",
    "    LABEL_COLUMN = f'task_{SUBTASK}'\n",
    "    if SUBTASK == '1': LABEL_MAP = {'NOT': 0, 'HOF': 1}\n",
    "    elif SUBTASK == '2': LABEL_MAP = {'HATE': 0, 'OFFN': 1, 'PRFN': 2}\n",
    "    else: LABEL_MAP = {'TIN': 0, 'UNT': 1} # Adjusted to match your RoBERTa project's TIN/UNT mapping for HASOC 3 if needed\n",
    "\n",
    "elif DATASET_TYPE == 'OffenseEval':\n",
    "    DATA_DIR = os.path.join(BASE_DIR, 'OffenseEval') # Ensure this path exists\n",
    "    if SUBTASK == 'a':\n",
    "        TRAIN_FILE = os.path.join(DATA_DIR, 'task_a_train.tsv') # Example, adjust to your combined file or logic\n",
    "    elif SUBTASK == 'b':\n",
    "        TRAIN_FILE = os.path.join(DATA_DIR, 'task_b_train.tsv') # Example\n",
    "    else: # 'c'\n",
    "        TRAIN_FILE = os.path.join(DATA_DIR, 'task_c_train.tsv') # Example\n",
    "    TEST_FILE = os.path.join(DATA_DIR, f'test_{SUBTASK}.tsv')\n",
    "    TEST_LABELS_FILE = os.path.join(DATA_DIR, f'labels_{SUBTASK}.csv') # Example\n",
    "    TEXT_COLUMN  = 'tweet'\n",
    "    LABEL_COLUMN = f'subtask_{SUBTASK}'\n",
    "    if SUBTASK == 'a': LABEL_MAP = {'NOT': 0, 'OFF': 1}\n",
    "    elif SUBTASK == 'b': LABEL_MAP = {'UNT': 0, 'TIN': 1}\n",
    "    else: LABEL_MAP = {'IND': 0, 'GRP': 1, 'OTH': 2}\n",
    "else:\n",
    "    raise ValueError(\"Invalid DATASET_TYPE.\")\n",
    "\n",
    "print(f\"Train file: {TRAIN_FILE}\")\n",
    "NUM_LABELS = len(LABEL_MAP)\n",
    "if NUM_LABELS == 2: # Binary classification with 0 and 1\n",
    "    OUTPUT_DIM_ANN = 1 # Single output neuron with Sigmoid if using BCELoss\n",
    "else: # Multi-class\n",
    "    OUTPUT_DIM_ANN = NUM_LABELS # NUM_LABELS output neurons if using CrossEntropyLoss\n",
    "\n",
    "\n",
    "# --- Create output directory ---\n",
    "os.makedirs(OUTPUT_DIR, exist_ok=True)\n",
    "\n",
    "# --- Save Configuration to JSON ---\n",
    "config_ann_dict = {\n",
    "    'MAX_FEATURES': MAX_FEATURES,\n",
    "    'ANN_HIDDEN_DIM': ANN_HIDDEN_DIM,\n",
    "    'ANN_LAYERS': ANN_LAYERS,\n",
    "    'DROPOUT_PROB': DROPOUT_PROB,\n",
    "    'BATCH_SIZE': BATCH_SIZE,\n",
    "    'EPOCHS': EPOCHS,\n",
    "    'LEARNING_RATE': LEARNING_RATE,\n",
    "    'WEIGHT_DECAY': WEIGHT_DECAY,\n",
    "    'SEED': SEED,\n",
    "    'OUTPUT_DIR': OUTPUT_DIR,\n",
    "    'DATASET_TYPE': DATASET_TYPE,\n",
    "    'SUBTASK': SUBTASK,\n",
    "    'TRAIN_FILE': TRAIN_FILE,\n",
    "    'TEST_FILE': TEST_FILE,\n",
    "    'TEST_LABELS_FILE': TEST_LABELS_FILE,\n",
    "    'TEXT_COLUMN': TEXT_COLUMN,\n",
    "    'LABEL_COLUMN': LABEL_COLUMN,\n",
    "    'LABEL_MAP': LABEL_MAP,\n",
    "    'NUM_LABELS': NUM_LABELS,\n",
    "    'VAL_SPLIT_SIZE': VAL_SPLIT_SIZE,\n",
    "    'USE_EARLY_STOPPING': USE_EARLY_STOPPING,\n",
    "    'PATIENCE': PATIENCE if USE_EARLY_STOPPING else None,\n",
    "    'ACCUMULATION_STEPS': ACCUMULATION_STEPS\n",
    "}\n",
    "config_filename = f\"config_ann_{DATASET_TYPE}.json\"\n",
    "config_path = os.path.join(OUTPUT_DIR, config_filename)\n",
    "with open(config_path, 'w') as f:\n",
    "    json.dump(config_ann_dict, f, indent=4)\n",
    "print(f\"Configuration saved to {config_path}\")"
   ]
  },
  {
   "cell_type": "markdown",
   "id": "501cdeb1",
   "metadata": {},
   "source": [
    "## 3. Environment Setup"
   ]
  },
  {
   "cell_type": "code",
   "execution_count": 24,
   "id": "756f265e",
   "metadata": {},
   "outputs": [
    {
     "name": "stdout",
     "output_type": "stream",
     "text": [
      "Using GPU: NVIDIA GeForce RTX 2080 Ti\n"
     ]
    }
   ],
   "source": [
    "def set_seed(seed_value: int):\n",
    "    random.seed(seed_value)\n",
    "    np.random.seed(seed_value)\n",
    "    torch.manual_seed(seed_value)\n",
    "    if torch.cuda.is_available():\n",
    "        torch.cuda.manual_seed_all(seed_value)\n",
    "        # Optional: for full determinism, but can slow down\n",
    "        # torch.backends.cudnn.deterministic = True\n",
    "        # torch.backends.cudnn.benchmark = False\n",
    "set_seed(SEED)\n",
    "\n",
    "if torch.cuda.is_available():\n",
    "    device = torch.device(\"cuda\")\n",
    "    print(f'Using GPU: {torch.cuda.get_device_name(0)}')\n",
    "else:\n",
    "    device = torch.device(\"cpu\")\n",
    "    print('Using CPU')"
   ]
  },
  {
   "cell_type": "markdown",
   "id": "f47248b8",
   "metadata": {},
   "source": [
    "## 4. Data Preprocessing Functions"
   ]
  },
  {
   "cell_type": "code",
   "execution_count": 25,
   "id": "4ca61a98",
   "metadata": {},
   "outputs": [],
   "source": [
    "def preprocess_text(text: str) -> str:\n",
    "    text = str(text).lower()\n",
    "    contractions = {\n",
    "        r\"\\bcan't\\b\": \"can not\", r\"\\bdon't\\b\": \"do not\", r\"\\bit's\\b\": \"it is\",\n",
    "        r\"\\bi'm\\b\": \"i am\", r\"\\bwe're\\b\": \"we are\", r\"\\byou're\\b\": \"you are\",\n",
    "        r\"\\bthey're\\b\": \"they are\", r\"\\bhe's\\b\": \"he is\", r\"\\bshe's\\b\": \"she is\",\n",
    "        r\"\\bwon't\\b\": \"will not\", r\"\\bwouldn't\\b\": \"would not\", r\"\\bshouldn't\\b\": \"should not\",\n",
    "        r\"\\bhasn't\\b\": \"has not\", r\"\\bhaven't\\b\": \"have not\", r\"\\bhadn't\\b\": \"had not\",\n",
    "        r\"\\bdoesn't\\b\": \"does not\", r\"\\bdidn't\\b\": \"did not\", r\"\\bwasn't\\b\": \"was not\",\n",
    "        r\"\\bwhat's\\b\": \"what is\", r\"\\bwhere's\\b\": \"where is\", r\"\\bwho's\\b\": \"who is\",\n",
    "        r\"\\bthere's\\b\": \"there is\", r\"\\blet's\\b\": \"let us\", r\"\\bthat's\\b\": \"that is\",\n",
    "        r\"\\bwho've\\b\": \"who have\", r\"\\bwho'll\\b\": \"who will\", r\"\\bwho'd\\b\": \"who would\",\n",
    "    }\n",
    "    for pat, rep in contractions.items():\n",
    "        text = re.sub(pat, rep, text)\n",
    "    text = re.sub(r'@\\w+', '@user', text)\n",
    "    text = re.sub(r'http\\S+|www\\.\\S+', 'httpurl', text)\n",
    "    text = html.unescape(text)\n",
    "    text = re.sub(r'(.)\\1{2,}', r'\\1\\1', text)\n",
    "    text = re.sub(r'#(\\w+)', r'\\1', text)\n",
    "    demoj = emoji.demojize(text)\n",
    "    demoj = demoj.replace(':', ' ').replace('_', ' ')\n",
    "    text = demoj\n",
    "    text = re.sub(r'\\s+', ' ', text).strip()\n",
    "    text = re.sub(r'(?<!!)\\\\!(?=\\s)', '', text) # Remove single '!' if followed by space, keep \"!!\"\n",
    "    text = re.sub(r'\\s+([.,!?\"])', r'\\1', text) # Remove spaces before punctuation\n",
    "    return text\n",
    "\n",
    "def load_and_preprocess_data(\n",
    "    train_path: str, test_path: str, text_col: str, label_col: str, label_map: Dict[str, int],\n",
    "    test_labels_path: Optional[str] = None, val_split: float = 0.1, seed: int = 42\n",
    ") -> Tuple[pd.DataFrame, pd.DataFrame, Optional[pd.DataFrame]]:\n",
    "    # Use na_filter=False and keep_default_na=False to treat empty strings as \"\" not NaN\n",
    "    df_train = pd.read_csv(train_path, sep='\\t', dtype=str, keep_default_na=False, na_filter=False)\n",
    "    df_test  = pd.read_csv(test_path,  sep='\\t', dtype=str, keep_default_na=False, na_filter=False)\n",
    "\n",
    "    if test_labels_path and os.path.exists(test_labels_path):\n",
    "        df_labels = pd.read_csv(test_labels_path, sep='\\t', dtype=str, keep_default_na=False, na_filter=False)\n",
    "        # Ensure columns for merging exist\n",
    "        if 'id' in df_test.columns and 'id' in df_labels.columns and label_col in df_labels.columns:\n",
    "             df_test = df_test.merge(df_labels[['id', label_col]], on='id', how='left')\n",
    "        else:\n",
    "            print(f\"Warning: Could not merge test labels. 'id' column or label column '{label_col}' missing in test_path or test_labels_path DFs.\")\n",
    "            if label_col not in df_test.columns: # If label_col not in test_df at all\n",
    "                 df_test[label_col] = \"\" # Add it as empty strings\n",
    "\n",
    "    # Filter train data for known labels BEFORE preprocessing text\n",
    "    df_train = df_train[df_train[label_col].isin(label_map)].copy()\n",
    "    df_train['label'] = df_train[label_col].map(label_map).astype(int)\n",
    "\n",
    "    # Preprocess text\n",
    "    df_train['clean_text'] = df_train[text_col].apply(preprocess_text)\n",
    "    \n",
    "    # Drop rows if clean_text is empty OR if original text was empty\n",
    "    before = len(df_train)\n",
    "    df_train.dropna(subset=['clean_text', 'label'], inplace=True) # label should be fine now\n",
    "    df_train = df_train[df_train['clean_text'].str.len().gt(0)]\n",
    "    df_train = df_train[df_train[text_col].str.len().gt(0)] # Also check original text\n",
    "    print(f\"Dropped {before - len(df_train)} train rows due to empty text (original or cleaned) or missing label after map.\")\n",
    "\n",
    "    # Process test data\n",
    "    df_test['clean_text'] = df_test[text_col].apply(preprocess_text)\n",
    "    if label_col in df_test.columns:\n",
    "        df_test['label_original'] = df_test[label_col] # keep original for potential analysis\n",
    "        # Filter for known labels for the 'label' column; keep rows with unknown/NaN labels for inference\n",
    "        # but ensure they don't cause errors in mapping\n",
    "        known_labels_mask = df_test[label_col].isin(label_map)\n",
    "        df_test_known = df_test[known_labels_mask].copy()\n",
    "        df_test_unknown = df_test[~known_labels_mask].copy()\n",
    "\n",
    "        if not df_test_known.empty:\n",
    "            df_test_known['label'] = df_test_known[label_col].map(label_map).astype(int)\n",
    "        else: # If no known labels, ensure 'label' column exists with appropriate type\n",
    "            df_test_known['label'] = pd.Series(dtype=int)\n",
    "        \n",
    "        df_test_unknown['label'] = np.nan # Or some other placeholder like -1 if int type is strict later\n",
    "        df_test = pd.concat([df_test_known, df_test_unknown]).sort_index()\n",
    "        \n",
    "    before_test = len(df_test)\n",
    "    df_test.dropna(subset=['clean_text'], inplace=True) # only drop if cleaned text is bad\n",
    "    df_test = df_test[df_test['clean_text'].str.len().gt(0)]\n",
    "    df_test = df_test[df_test[text_col].str.len().gt(0)] # Also check original text\n",
    "    print(f\"Dropped {before_test - len(df_test)} test rows due to empty text (original or cleaned).\")\n",
    "\n",
    "    # Stratified split on train data\n",
    "    if df_train.empty or 'label' not in df_train.columns or df_train['label'].nunique() < 2 :\n",
    "        print(\"Warning: Not enough data or classes for stratified split. Using simple split or returning empty DFs.\")\n",
    "        # Fallback to simple split if stratification is not possible or handle error\n",
    "        if len(df_train) < 2 : # Need at least 2 samples for train_test_split\n",
    "            df_tr, df_val = df_train, pd.DataFrame(columns=df_train.columns)\n",
    "        else:\n",
    "            df_tr, df_val = train_test_split(\n",
    "                df_train[['clean_text', 'label']], test_size=val_split, random_state=seed\n",
    "            ) # No stratify\n",
    "    else:\n",
    "        df_tr, df_val = train_test_split(\n",
    "            df_train[['clean_text', 'label']], test_size=val_split, \n",
    "            stratify=df_train['label'], random_state=seed\n",
    "        )\n",
    "    return df_tr.reset_index(drop=True), df_val.reset_index(drop=True), df_test.reset_index(drop=True)"
   ]
  },
  {
   "cell_type": "markdown",
   "id": "8128a706",
   "metadata": {},
   "source": [
    "## 5. Load Data, Preprocess, and Vectorize"
   ]
  },
  {
   "cell_type": "code",
   "execution_count": 26,
   "id": "6fac7fee",
   "metadata": {},
   "outputs": [
    {
     "name": "stdout",
     "output_type": "stream",
     "text": [
      "Loading and preprocessing data for ANN...\n",
      "Dropped 0 train rows due to empty text (original or cleaned) or missing label after map.\n",
      "Dropped 0 test rows due to empty text (original or cleaned).\n",
      "TF-IDF Vectorizer fitted on training data. Vocab size: 10000\n",
      "X_train shape: (4974, 10000), X_val shape: (878, 10000), X_test shape: (1153, 10000)\n",
      "Train: 4974 rows; Val: 878 rows; Test: 1153\n",
      "Train label dist:\n",
      " label\n",
      "0    0.613591\n",
      "1    0.386409\n",
      "Name: proportion, dtype: float64\n",
      "Val   label dist:\n",
      " label\n",
      "0    0.613895\n",
      "1    0.386105\n",
      "Name: proportion, dtype: float64\n",
      "Test  label dist:\n",
      " label\n",
      "0    0.750217\n",
      "1    0.249783\n",
      "Name: proportion, dtype: float64\n",
      "TF-IDF vectorizer saved to ann_model_output/tfidf_vectorizer_HASOC.joblib\n"
     ]
    }
   ],
   "source": [
    "print(\"Loading and preprocessing data for ANN...\")\n",
    "df_train, df_val, df_test = load_and_preprocess_data(\n",
    "    train_path=TRAIN_FILE, test_path=TEST_FILE, text_col=TEXT_COLUMN,\n",
    "    label_col=LABEL_COLUMN, label_map=LABEL_MAP, test_labels_path=TEST_LABELS_FILE,\n",
    "    val_split=VAL_SPLIT_SIZE, seed=SEED\n",
    ")\n",
    "\n",
    "# TF-IDF Vectorization\n",
    "vectorizer = TfidfVectorizer(max_features=MAX_FEATURES, ngram_range=(1, 2), stop_words='english')\n",
    "\n",
    "# Fit on training data ONLY, then transform all sets\n",
    "if not df_train.empty:\n",
    "    X_train_tfidf = vectorizer.fit_transform(df_train['clean_text']).toarray()\n",
    "    y_train = df_train['label'].values\n",
    "else:\n",
    "    X_train_tfidf = np.array([])\n",
    "    y_train = np.array([])\n",
    "\n",
    "if not df_val.empty:\n",
    "    X_val_tfidf = vectorizer.transform(df_val['clean_text']).toarray()\n",
    "    y_val = df_val['label'].values\n",
    "else:\n",
    "    X_val_tfidf = np.array([])\n",
    "    y_val = np.array([])\n",
    "\n",
    "if df_test is not None and not df_test.empty:\n",
    "    X_test_tfidf = vectorizer.transform(df_test['clean_text']).toarray()\n",
    "    if 'label' in df_test.columns and df_test['label'].notna().any():\n",
    "        y_test = df_test['label'].dropna().astype(int).values # Ensure labels are int and dropna before converting\n",
    "        # Align X_test_tfidf if y_test was filtered due to NaNs\n",
    "        if len(y_test) != len(X_test_tfidf):\n",
    "             X_test_tfidf = vectorizer.transform(df_test.loc[df_test['label'].notna(), 'clean_text']).toarray()\n",
    "    else:\n",
    "        y_test = None\n",
    "else:\n",
    "    X_test_tfidf = np.array([])\n",
    "    y_test = None\n",
    "\n",
    "print(f\"TF-IDF Vectorizer fitted on training data. Vocab size: {len(vectorizer.vocabulary_) if hasattr(vectorizer, 'vocabulary_') else 'N/A (no train data)'}\")\n",
    "print(f\"X_train shape: {X_train_tfidf.shape}, X_val shape: {X_val_tfidf.shape}, X_test shape: {X_test_tfidf.shape if X_test_tfidf.size > 0 else 'N/A'}\")\n",
    "\n",
    "print(f\"Train: {len(df_train)} rows; Val: {len(df_val)} rows; Test: {len(df_test) if df_test is not None else 'N/A'}\")\n",
    "if not df_train.empty: print(\"Train label dist:\\n\", df_train['label'].value_counts(normalize=True))\n",
    "if not df_val.empty: print(\"Val   label dist:\\n\", df_val['label'].value_counts(normalize=True))\n",
    "\n",
    "if y_test is not None:\n",
    "    # Need to get the labels from df_test for the rows that correspond to X_test_tfidf\n",
    "    if 'label' in df_test.columns and df_test['label'].notna().any():\n",
    "        test_label_dist_df = df_test[df_test['label'].notna()].copy()\n",
    "        test_label_dist_df['label'] = test_label_dist_df['label'].astype(int) # Ensure it's int for value_counts\n",
    "        print(\"Test  label dist:\\n\", test_label_dist_df['label'].value_counts(normalize=True))\n",
    "    else:\n",
    "         print(\"Test label dist: N/A (test set may be unlabeled or empty after processing)\")\n",
    "else:\n",
    "    print(\"Test  label dist: N/A (test set may be unlabeled or empty after processing)\")\n",
    "\n",
    "\n",
    "# Save the vectorizer\n",
    "vectorizer_path = os.path.join(OUTPUT_DIR, f'tfidf_vectorizer_{DATASET_TYPE}.joblib')\n",
    "if hasattr(vectorizer, 'vocabulary_') and vectorizer.vocabulary_: # only save if fitted\n",
    "    joblib.dump(vectorizer, vectorizer_path)\n",
    "    print(f\"TF-IDF vectorizer saved to {vectorizer_path}\")\n",
    "else:\n",
    "    print(\"TF-IDF vectorizer not saved as it was not fitted (likely no training data).\")"
   ]
  },
  {
   "cell_type": "markdown",
   "id": "b2ee86b2",
   "metadata": {},
   "source": [
    "## 6. PyTorch Dataset and DataLoader for ANN"
   ]
  },
  {
   "cell_type": "code",
   "execution_count": null,
   "id": "392b133b",
   "metadata": {},
   "outputs": [
    {
     "name": "stdout",
     "output_type": "stream",
     "text": [
      "Train loader: 4974 samples\n",
      "Val loader: 878 samples\n",
      "Test loader: 1153 samples (labeled)\n"
     ]
    }
   ],
   "source": [
    "class ANNClassificationDataset(Dataset):\n",
    "    def __init__(self, features, labels):\n",
    "        self.features = torch.tensor(features, dtype=torch.float32)\n",
    "        if labels is not None and len(labels) > 0 : # Check if labels exist and are not empty\n",
    "            self.labels = torch.tensor(labels, dtype=torch.long) # CrossEntropyLoss expects long\n",
    "        else:\n",
    "            self.labels = None\n",
    "\n",
    "    def __len__(self):\n",
    "        return len(self.features)\n",
    "\n",
    "    def __getitem__(self, idx):\n",
    "        item = {'features': self.features[idx]}\n",
    "        if self.labels is not None:\n",
    "            item['labels'] = self.labels[idx]\n",
    "        return item\n",
    "\n",
    "num_workers = 0     # 1 # min(2, os.cpu_count() or 1)\n",
    "pin_memory  = torch.cuda.is_available()\n",
    "\n",
    "if X_train_tfidf.size > 0:\n",
    "    train_ann_dataset = ANNClassificationDataset(X_train_tfidf, y_train)\n",
    "    train_ann_loader = DataLoader(train_ann_dataset, batch_size=BATCH_SIZE, shuffle=True, num_workers=num_workers, pin_memory=pin_memory)\n",
    "    print(f\"Train loader: {len(train_ann_dataset)} samples\")\n",
    "else:\n",
    "    train_ann_loader = None\n",
    "    print(\"Train loader: No training data.\")\n",
    "\n",
    "\n",
    "if X_val_tfidf.size > 0:\n",
    "    val_ann_dataset = ANNClassificationDataset(X_val_tfidf, y_val)\n",
    "    val_ann_loader = DataLoader(val_ann_dataset, batch_size=BATCH_SIZE, shuffle=False, num_workers=num_workers, pin_memory=pin_memory)\n",
    "    print(f\"Val loader: {len(val_ann_dataset)} samples\")\n",
    "else:\n",
    "    val_ann_loader = None\n",
    "    print(\"Val loader: No validation data.\")\n",
    "\n",
    "\n",
    "test_ann_loader = None\n",
    "if X_test_tfidf.size > 0 and y_test is not None and len(y_test) == len(X_test_tfidf):\n",
    "    test_ann_dataset = ANNClassificationDataset(X_test_tfidf, y_test)\n",
    "    test_ann_loader = DataLoader(test_ann_dataset, batch_size=BATCH_SIZE, shuffle=False, num_workers=num_workers, pin_memory=pin_memory)\n",
    "    print(f\"Test loader: {len(test_ann_dataset)} samples (labeled)\")\n",
    "elif X_test_tfidf.size > 0:\n",
    "    # For inference on unlabeled test data\n",
    "    test_ann_dataset_unlabeled = ANNClassificationDataset(X_test_tfidf, None)\n",
    "    test_ann_loader = DataLoader(test_ann_dataset_unlabeled, batch_size=BATCH_SIZE, shuffle=False, num_workers=num_workers, pin_memory=pin_memory)\n",
    "    print(f\"Test loader: {len(test_ann_dataset_unlabeled)} samples (unlabeled for inference)\")\n",
    "else:\n",
    "    print(\"No test data to create a loader for.\")"
   ]
  },
  {
   "cell_type": "markdown",
   "id": "ef81126d",
   "metadata": {},
   "source": [
    "## 7. ANN Model Definition"
   ]
  },
  {
   "cell_type": "code",
   "execution_count": 28,
   "id": "b420f0b4",
   "metadata": {},
   "outputs": [
    {
     "name": "stdout",
     "output_type": "stream",
     "text": [
      "SimpleANN(\n",
      "  (network): Sequential(\n",
      "    (0): Linear(in_features=10000, out_features=256, bias=True)\n",
      "    (1): ReLU()\n",
      "    (2): Dropout(p=0.3, inplace=False)\n",
      "    (3): Linear(in_features=256, out_features=128, bias=True)\n",
      "    (4): ReLU()\n",
      "    (5): Dropout(p=0.3, inplace=False)\n",
      "    (6): Linear(in_features=128, out_features=2, bias=True)\n",
      "  )\n",
      ")\n",
      "ANN output dimension: 2\n"
     ]
    }
   ],
   "source": [
    "class SimpleANN(nn.Module):\n",
    "    def __init__(self, input_dim, hidden_dim, output_dim, num_hidden_layers, dropout_prob):\n",
    "        super(SimpleANN, self).__init__()\n",
    "        layers = []\n",
    "        current_dim = input_dim\n",
    "        \n",
    "        if num_hidden_layers == 0: # Direct linear model if no hidden layers\n",
    "            layers.append(nn.Linear(current_dim, output_dim))\n",
    "        else:\n",
    "            # First hidden layer\n",
    "            layers.append(nn.Linear(current_dim, hidden_dim))\n",
    "            layers.append(nn.ReLU())\n",
    "            layers.append(nn.Dropout(dropout_prob))\n",
    "            current_dim = hidden_dim\n",
    "\n",
    "            # Subsequent hidden layers (if num_hidden_layers > 1)\n",
    "            for _ in range(num_hidden_layers - 1):\n",
    "                next_hidden_dim = hidden_dim // 2\n",
    "                if next_hidden_dim < output_dim and num_hidden_layers > 1 : # Ensure hidden dim doesn't get too small\n",
    "                     next_hidden_dim = max(output_dim, 16) # or some other sensible minimum\n",
    "                \n",
    "                layers.append(nn.Linear(current_dim, next_hidden_dim))\n",
    "                layers.append(nn.ReLU())\n",
    "                layers.append(nn.Dropout(dropout_prob))\n",
    "                current_dim = next_hidden_dim\n",
    "                hidden_dim = next_hidden_dim # for the next iteration\n",
    "            \n",
    "            # Output layer\n",
    "            layers.append(nn.Linear(current_dim, output_dim))\n",
    "        \n",
    "        # For CrossEntropyLoss, the model should output raw logits.\n",
    "        # No final Sigmoid (for BCELoss) or Softmax (for NLLLoss after LogSoftmax).\n",
    "        self.network = nn.Sequential(*layers)\n",
    "\n",
    "    def forward(self, x):\n",
    "        return self.network(x)\n",
    "\n",
    "# Determine output_dim based on NUM_LABELS\n",
    "# If NUM_LABELS is 2, it's binary. CrossEntropyLoss can handle 2 output neurons or 1 with BCELossWithLogits.\n",
    "# For consistency with multi-class, let's use NUM_LABELS output neurons for CrossEntropyLoss.\n",
    "actual_output_dim_ann = NUM_LABELS if NUM_LABELS > 2 else (1 if NUM_LABELS == 2 else NUM_LABELS) # For BCELossWithLogits with binary\n",
    "if NUM_LABELS == 2: actual_output_dim_ann = 2 # For CrossEntropyLoss with binary\n",
    "\n",
    "ann_model = SimpleANN(\n",
    "    input_dim=MAX_FEATURES, \n",
    "    hidden_dim=ANN_HIDDEN_DIM, \n",
    "    output_dim=actual_output_dim_ann, \n",
    "    num_hidden_layers=ANN_LAYERS, # This is the number of *hidden* layers\n",
    "    dropout_prob=DROPOUT_PROB\n",
    ").to(device)\n",
    "\n",
    "print(ann_model)\n",
    "print(f\"ANN output dimension: {actual_output_dim_ann}\")"
   ]
  },
  {
   "cell_type": "markdown",
   "id": "a95d62c3",
   "metadata": {},
   "source": [
    "## 8. Training Loop Functions for ANN"
   ]
  },
  {
   "cell_type": "code",
   "execution_count": 29,
   "id": "197ec608",
   "metadata": {},
   "outputs": [],
   "source": [
    "def train_ann_epoch(model, data_loader, loss_fn, optimizer, device, scaler, scheduler=None, accumulation_steps=1):\n",
    "    model.train()\n",
    "    total_loss = 0\n",
    "    correct_predictions = 0\n",
    "    total_samples = 0\n",
    "\n",
    "    if accumulation_steps > 1:\n",
    "        optimizer.zero_grad(set_to_none=True)\n",
    "\n",
    "    for i, batch in enumerate(tqdm(data_loader, desc=\"Training ANN\", unit=\"batch\", leave=False)):\n",
    "        features = batch['features'].to(device)\n",
    "        labels = batch['labels'].to(device)\n",
    "        batch_size_actual = features.size(0)\n",
    "\n",
    "        if accumulation_steps == 1 or (i % accumulation_steps == 0) :\n",
    "            optimizer.zero_grad(set_to_none=True)\n",
    "\n",
    "        with autocast(device_type=device.type, enabled=(device.type == 'cuda')):\n",
    "            outputs = model(features)\n",
    "            # If binary classification and output_dim is 1 (for BCELossWithLogits)\n",
    "            if outputs.shape[1] == 1 and NUM_LABELS == 2: # Assuming binary implies NUM_LABELS=2\n",
    "                loss = loss_fn(outputs.squeeze(1), labels.float()) # BCELossWithLogits expects float labels\n",
    "            else: # Multi-class or binary with 2 output neurons for CrossEntropyLoss\n",
    "                loss = loss_fn(outputs, labels)\n",
    "            \n",
    "            if accumulation_steps > 1:\n",
    "                loss = loss / accumulation_steps\n",
    "        \n",
    "        scaler.scale(loss).backward()\n",
    "\n",
    "        if (i + 1) % accumulation_steps == 0 or (i + 1) == len(data_loader):\n",
    "            scaler.unscale_(optimizer)\n",
    "            nn.utils.clip_grad_norm_(model.parameters(), max_norm=1.0)\n",
    "            scaler.step(optimizer)\n",
    "            scaler.update()\n",
    "            if scheduler: scheduler.step()\n",
    "            if accumulation_steps > 1 and (i + 1) != len(data_loader):\n",
    "                 optimizer.zero_grad(set_to_none=True)\n",
    "        \n",
    "        if outputs.shape[1] == 1 and NUM_LABELS == 2:\n",
    "            preds = (torch.sigmoid(outputs.squeeze(1)) > 0.5).long()\n",
    "        else:\n",
    "            preds = torch.argmax(outputs, dim=1)\n",
    "            \n",
    "        correct_predictions += torch.sum(preds == labels).item()\n",
    "        # De-normalize loss if accumulated\n",
    "        total_loss += loss.item() * batch_size_actual * (accumulation_steps if accumulation_steps > 1 and loss.item() != 0 else 1)\n",
    "        total_samples += batch_size_actual\n",
    "        \n",
    "        del features, labels, outputs, loss, preds\n",
    "        if device.type == 'cuda': torch.cuda.empty_cache()\n",
    "\n",
    "    avg_loss = total_loss / total_samples if total_samples > 0 else 0\n",
    "    avg_acc = correct_predictions / total_samples if total_samples > 0 else 0\n",
    "    return avg_loss, avg_acc\n",
    "\n",
    "def eval_ann_model(model, data_loader, loss_fn, device):\n",
    "    model.eval()\n",
    "    total_loss = 0\n",
    "    correct_predictions = 0\n",
    "    total_samples = 0\n",
    "    all_preds = []\n",
    "    all_labels = []\n",
    "\n",
    "    with torch.no_grad():\n",
    "        for batch in tqdm(data_loader, desc=\"Evaluating ANN\", unit=\"batch\", leave=False):\n",
    "            features = batch['features'].to(device)\n",
    "            labels = batch['labels'].to(device)\n",
    "            batch_size_actual = features.size(0)\n",
    "\n",
    "            with autocast(device_type=device.type, enabled=(device.type == 'cuda')):\n",
    "                outputs = model(features)\n",
    "                if outputs.shape[1] == 1 and NUM_LABELS == 2:\n",
    "                     loss = loss_fn(outputs.squeeze(1), labels.float())\n",
    "                else:\n",
    "                     loss = loss_fn(outputs, labels)\n",
    "            \n",
    "            if outputs.shape[1] == 1 and NUM_LABELS == 2:\n",
    "                preds = (torch.sigmoid(outputs.squeeze(1)) > 0.5).long()\n",
    "            else:\n",
    "                preds = torch.argmax(outputs, dim=1)\n",
    "\n",
    "            correct_predictions += torch.sum(preds == labels).item()\n",
    "            total_loss += loss.item() * batch_size_actual\n",
    "            total_samples += batch_size_actual\n",
    "            all_preds.extend(preds.cpu().tolist())\n",
    "            all_labels.extend(labels.cpu().tolist())\n",
    "            \n",
    "            del features, labels, outputs, loss, preds\n",
    "            if device.type == 'cuda': torch.cuda.empty_cache()\n",
    "\n",
    "    avg_loss = total_loss / total_samples if total_samples > 0 else 0\n",
    "    # Ensure all_labels and all_preds are not empty before calling metrics\n",
    "    if not all_labels or not all_preds:\n",
    "        return avg_loss, 0, 0, 0, 0, [], []\n",
    "\n",
    "    accuracy = accuracy_score(all_labels, all_preds)\n",
    "    f1 = f1_score(all_labels, all_preds, average='weighted', zero_division=0)\n",
    "    precision = precision_score(all_labels, all_preds, average='weighted', zero_division=0)\n",
    "    recall = recall_score(all_labels, all_preds, average='weighted', zero_division=0)\n",
    "    return avg_loss, accuracy, f1, precision, recall, all_labels, all_preds"
   ]
  },
  {
   "cell_type": "markdown",
   "id": "b5f49249",
   "metadata": {},
   "source": [
    "## 9. ANN Training and Validation Driver"
   ]
  },
  {
   "cell_type": "code",
   "execution_count": 30,
   "id": "6e448fe3",
   "metadata": {},
   "outputs": [
    {
     "name": "stdout",
     "output_type": "stream",
     "text": [
      "Computing class weights for ANN...\n",
      "Class weights: {np.int64(0): np.float64(0.814875491480996), np.int64(1): np.float64(1.293964620187305)}\n",
      "Using CrossEntropyLoss.\n",
      "Starting ANN training for 20 epochs...\n",
      "\n",
      "Epoch 1/20\n"
     ]
    },
    {
     "data": {
      "application/vnd.jupyter.widget-view+json": {
       "model_id": "f8311947c78b44f6b5b25106d2ed20c4",
       "version_major": 2,
       "version_minor": 0
      },
      "text/plain": [
       "Training ANN:   0%|          | 0/78 [00:00<?, ?batch/s]"
      ]
     },
     "metadata": {},
     "output_type": "display_data"
    },
    {
     "name": "stdout",
     "output_type": "stream",
     "text": [
      "Train -> loss: 0.6751, acc: 0.5661\n"
     ]
    },
    {
     "data": {
      "application/vnd.jupyter.widget-view+json": {
       "model_id": "267457a7d7f64b33af94d1e7e4dd0e23",
       "version_major": 2,
       "version_minor": 0
      },
      "text/plain": [
       "Evaluating ANN:   0%|          | 0/14 [00:00<?, ?batch/s]"
      ]
     },
     "metadata": {},
     "output_type": "display_data"
    },
    {
     "name": "stdout",
     "output_type": "stream",
     "text": [
      "Val   -> loss: 0.6592, acc: 0.5786, f1: 0.5814, prec: 0.6288, rec: 0.5786\n",
      "✔️ New best ANN model saved.\n",
      "Epoch 1 took 0.81 seconds.\n",
      "\n",
      "Epoch 2/20\n"
     ]
    },
    {
     "data": {
      "application/vnd.jupyter.widget-view+json": {
       "model_id": "be36f1a59e4a456999100ff5f9b6a814",
       "version_major": 2,
       "version_minor": 0
      },
      "text/plain": [
       "Training ANN:   0%|          | 0/78 [00:05<?, ?batch/s]"
      ]
     },
     "metadata": {},
     "output_type": "display_data"
    },
    {
     "name": "stdout",
     "output_type": "stream",
     "text": [
      "Train -> loss: 0.4858, acc: 0.7730\n"
     ]
    },
    {
     "data": {
      "application/vnd.jupyter.widget-view+json": {
       "model_id": "676ff99880eb43e0ad40f9e21b717935",
       "version_major": 2,
       "version_minor": 0
      },
      "text/plain": [
       "Evaluating ANN:   0%|          | 0/14 [00:00<?, ?batch/s]"
      ]
     },
     "metadata": {},
     "output_type": "display_data"
    },
    {
     "name": "stderr",
     "output_type": "stream",
     "text": [
      "Exception ignored in: <function _MultiProcessingDataLoaderIter.__del__ at 0x7f04a458da80>\n",
      "Traceback (most recent call last):\n",
      "  File \"/usr/local/lib/python3.11/dist-packages/torch/utils/data/dataloader.py\", line 1663, in __del__\n",
      "    self._shutdown_workers()\n",
      "  File \"/usr/local/lib/python3.11/dist-packages/torch/utils/data/dataloader.py\", line 1646, in _shutdown_workers\n",
      "    if w.is_alive():\n",
      "       ^^^^^^^^^^^^\n",
      "  File \"/usr/lib/python3.11/multiprocessing/process.py\", line 160, in is_alive\n",
      "    assert self._parent_pid == os.getpid(), 'can only test a child process'\n",
      "           ^^^^^^^^^^^^^^^^^^^^^^^^^^^^^^^\n",
      "AssertionError: can only test a child process\n",
      "Exception ignored in: <function _MultiProcessingDataLoaderIter.__del__ at 0x7f04a458da80>\n",
      "Traceback (most recent call last):\n",
      "  File \"/usr/local/lib/python3.11/dist-packages/torch/utils/data/dataloader.py\", line 1663, in __del__\n",
      "    self._shutdown_workers()\n",
      "  File \"/usr/local/lib/python3.11/dist-packages/torch/utils/data/dataloader.py\", line 1646, in _shutdown_workers\n",
      "    if w.is_alive():\n",
      "       ^^^^^^^^^^^^\n",
      "  File \"/usr/lib/python3.11/multiprocessing/process.py\", line 160, in is_alive\n",
      "    assert self._parent_pid == os.getpid(), 'can only test a child process'\n",
      "           ^^^^^^^^^^^^^^^^^^^^^^^^^^^^^^^\n",
      "AssertionError: can only test a child process\n"
     ]
    },
    {
     "name": "stdout",
     "output_type": "stream",
     "text": [
      "Val   -> loss: 0.7657, acc: 0.5774, f1: 0.5830, prec: 0.6031, rec: 0.5774\n",
      "⏳ No improvement for ANN: 1/5\n",
      "Epoch 2 took 6.24 seconds.\n",
      "\n",
      "Epoch 3/20\n"
     ]
    },
    {
     "name": "stderr",
     "output_type": "stream",
     "text": [
      "Exception ignored in: <function _MultiProcessingDataLoaderIter.__del__ at 0x7f04a458da80>\n",
      "Traceback (most recent call last):\n",
      "  File \"/usr/local/lib/python3.11/dist-packages/torch/utils/data/dataloader.py\", line 1663, in __del__\n",
      "    self._shutdown_workers()\n",
      "  File \"/usr/local/lib/python3.11/dist-packages/torch/utils/data/dataloader.py\", line 1646, in _shutdown_workers\n",
      "    if w.is_alive():\n",
      "       ^^^^^^^^^^^^\n",
      "  File \"/usr/lib/python3.11/multiprocessing/process.py\", line 160, in is_alive\n",
      "    assert self._parent_pid == os.getpid(), 'can only test a child process'\n",
      "           ^^^^^^^^^^^^^^^^^^^^^^^^^^^^^^^\n",
      "AssertionError: can only test a child process\n",
      "Exception ignored in: <function _MultiProcessingDataLoaderIter.__del__ at 0x7f04a458da80>\n",
      "Traceback (most recent call last):\n",
      "  File \"/usr/local/lib/python3.11/dist-packages/torch/utils/data/dataloader.py\", line 1663, in __del__\n",
      "    self._shutdown_workers()\n",
      "  File \"/usr/local/lib/python3.11/dist-packages/torch/utils/data/dataloader.py\", line 1646, in _shutdown_workers\n",
      "    if w.is_alive():\n",
      "       ^^^^^^^^^^^^\n",
      "  File \"/usr/lib/python3.11/multiprocessing/process.py\", line 160, in is_alive\n",
      "    assert self._parent_pid == os.getpid(), 'can only test a child process'\n",
      "           ^^^^^^^^^^^^^^^^^^^^^^^^^^^^^^^\n",
      "AssertionError: can only test a child process\n",
      "Exception ignored in: <function _MultiProcessingDataLoaderIter.__del__ at 0x7f04a458da80>\n",
      "Traceback (most recent call last):\n",
      "  File \"/usr/local/lib/python3.11/dist-packages/torch/utils/data/dataloader.py\", line 1663, in __del__\n",
      "    self._shutdown_workers()\n",
      "  File \"/usr/local/lib/python3.11/dist-packages/torch/utils/data/dataloader.py\", line 1646, in _shutdown_workers\n",
      "    if w.is_alive():\n",
      "       ^^^^^^^^^^^^\n",
      "  File \"/usr/lib/python3.11/multiprocessing/process.py\", line 160, in is_alive\n",
      "    assert self._parent_pid == os.getpid(), 'can only test a child process'\n",
      "           ^^^^^^^^^^^^^^"
     ]
    },
    {
     "data": {
      "application/vnd.jupyter.widget-view+json": {
       "model_id": "a84f071b46a7421abc782c7f63fe8adc",
       "version_major": 2,
       "version_minor": 0
      },
      "text/plain": [
       "Training ANN:   0%|          | 0/78 [00:00<?, ?batch/s]"
      ]
     },
     "metadata": {},
     "output_type": "display_data"
    },
    {
     "name": "stderr",
     "output_type": "stream",
     "text": [
      "^^^^^^^^^^^^^^^^^\n",
      "AssertionError: can only test a child process\n"
     ]
    },
    {
     "name": "stdout",
     "output_type": "stream",
     "text": [
      "Train -> loss: 0.2695, acc: 0.8969\n"
     ]
    },
    {
     "data": {
      "application/vnd.jupyter.widget-view+json": {
       "model_id": "f9c28c9733c44f4584d56ddf9c52efe6",
       "version_major": 2,
       "version_minor": 0
      },
      "text/plain": [
       "Evaluating ANN:   0%|          | 0/14 [00:00<?, ?batch/s]"
      ]
     },
     "metadata": {},
     "output_type": "display_data"
    },
    {
     "name": "stdout",
     "output_type": "stream",
     "text": [
      "Val   -> loss: 0.9960, acc: 0.5820, f1: 0.5861, prec: 0.5938, rec: 0.5820\n",
      "⏳ No improvement for ANN: 2/5\n",
      "Epoch 3 took 1.15 seconds.\n",
      "\n",
      "Epoch 4/20\n"
     ]
    },
    {
     "data": {
      "application/vnd.jupyter.widget-view+json": {
       "model_id": "82ef4730f74c4b389444f40c237b89d1",
       "version_major": 2,
       "version_minor": 0
      },
      "text/plain": [
       "Training ANN:   0%|          | 0/78 [00:00<?, ?batch/s]"
      ]
     },
     "metadata": {},
     "output_type": "display_data"
    },
    {
     "name": "stdout",
     "output_type": "stream",
     "text": [
      "Train -> loss: 0.1406, acc: 0.9511\n"
     ]
    },
    {
     "data": {
      "application/vnd.jupyter.widget-view+json": {
       "model_id": "73f178e2b9a2460eb0a44a71e08d2577",
       "version_major": 2,
       "version_minor": 0
      },
      "text/plain": [
       "Evaluating ANN:   0%|          | 0/14 [00:00<?, ?batch/s]"
      ]
     },
     "metadata": {},
     "output_type": "display_data"
    },
    {
     "name": "stdout",
     "output_type": "stream",
     "text": [
      "Val   -> loss: 1.3116, acc: 0.6036, f1: 0.6015, prec: 0.5998, rec: 0.6036\n",
      "⏳ No improvement for ANN: 3/5\n",
      "Epoch 4 took 0.92 seconds.\n",
      "\n",
      "Epoch 5/20\n"
     ]
    },
    {
     "name": "stderr",
     "output_type": "stream",
     "text": [
      "Exception ignored in: <function _MultiProcessingDataLoaderIter.__del__ at 0x7f04a458da80>\n",
      "Traceback (most recent call last):\n",
      "  File \"/usr/local/lib/python3.11/dist-packages/torch/utils/data/dataloader.py\", line 1663, in __del__\n",
      "    self._shutdown_workers()\n",
      "  File \"/usr/local/lib/python3.11/dist-packages/torch/utils/data/dataloader.py\", line 1646, in _shutdown_workers\n",
      "    if w.is_alive():\n",
      "       ^^^^^^^^^^^^\n",
      "  File \"/usr/lib/python3.11/multiprocessing/process.py\", line 160, in is_alive\n",
      "    assert self._parent_pid == os.getpid(), 'can only test a child process'\n",
      "           ^^^^^^^^^^"
     ]
    },
    {
     "data": {
      "application/vnd.jupyter.widget-view+json": {
       "model_id": "7be81a05c2124316af7f098c503fe515",
       "version_major": 2,
       "version_minor": 0
      },
      "text/plain": [
       "Training ANN:   0%|          | 0/78 [00:00<?, ?batch/s]"
      ]
     },
     "metadata": {},
     "output_type": "display_data"
    },
    {
     "name": "stderr",
     "output_type": "stream",
     "text": [
      "^^^^^^^^^^^^^^^^^^^^^\n",
      "AssertionError: can only test a child process\n"
     ]
    },
    {
     "name": "stdout",
     "output_type": "stream",
     "text": [
      "Train -> loss: 0.0819, acc: 0.9737\n"
     ]
    },
    {
     "data": {
      "application/vnd.jupyter.widget-view+json": {
       "model_id": "d4bd3b89a8184fb4b0bb8d68b082fa69",
       "version_major": 2,
       "version_minor": 0
      },
      "text/plain": [
       "Evaluating ANN:   0%|          | 0/14 [00:00<?, ?batch/s]"
      ]
     },
     "metadata": {},
     "output_type": "display_data"
    },
    {
     "name": "stdout",
     "output_type": "stream",
     "text": [
      "Val   -> loss: 1.5710, acc: 0.6002, f1: 0.6012, prec: 0.6022, rec: 0.6002\n",
      "⏳ No improvement for ANN: 4/5\n",
      "Epoch 5 took 0.91 seconds.\n",
      "\n",
      "Epoch 6/20\n"
     ]
    },
    {
     "data": {
      "application/vnd.jupyter.widget-view+json": {
       "model_id": "6c77b6b430cd4e0696615548502d819b",
       "version_major": 2,
       "version_minor": 0
      },
      "text/plain": [
       "Training ANN:   0%|          | 0/78 [00:00<?, ?batch/s]"
      ]
     },
     "metadata": {},
     "output_type": "display_data"
    },
    {
     "name": "stdout",
     "output_type": "stream",
     "text": [
      "Train -> loss: 0.0631, acc: 0.9771\n"
     ]
    },
    {
     "data": {
      "application/vnd.jupyter.widget-view+json": {
       "model_id": "8ec4580b8dd749699ec17b6f6ef8deb8",
       "version_major": 2,
       "version_minor": 0
      },
      "text/plain": [
       "Evaluating ANN:   0%|          | 0/14 [00:00<?, ?batch/s]"
      ]
     },
     "metadata": {},
     "output_type": "display_data"
    },
    {
     "name": "stdout",
     "output_type": "stream",
     "text": [
      "Val   -> loss: 1.6651, acc: 0.5968, f1: 0.5968, prec: 0.5968, rec: 0.5968\n",
      "⏳ No improvement for ANN: 5/5\n",
      "🛑 Early stopping triggered for ANN.\n",
      "\n",
      "Total ANN training time: 11.02 seconds.\n",
      "\n",
      "Loading best ANN model state from epoch 1 for final evaluation and saving...\n",
      "ANN Training complete.\n"
     ]
    }
   ],
   "source": [
    "if train_ann_loader: # Proceed only if there is training data\n",
    "    print(\"Computing class weights for ANN...\")\n",
    "    classes_ann = np.unique(y_train)\n",
    "    if len(classes_ann) > 1: # Ensure there's more than one class for balancing\n",
    "        weights_ann = compute_class_weight(class_weight='balanced', classes=classes_ann, y=y_train)\n",
    "        class_weights_ann = torch.tensor(weights_ann, dtype=torch.float).to(device)\n",
    "        print(\"Class weights:\", dict(zip(classes_ann, weights_ann)))\n",
    "    else:\n",
    "        print(\"Only one class in training data or no data. Not using class weights.\")\n",
    "        class_weights_ann = None\n",
    "\n",
    "    # Loss function choice\n",
    "    if actual_output_dim_ann == 1 and NUM_LABELS == 2: # Binary with single output\n",
    "        loss_fn_ann = nn.BCEWithLogitsLoss(weight=class_weights_ann[1] if class_weights_ann is not None and len(class_weights_ann)==2 else None).to(device)\n",
    "        print(\"Using BCEWithLogitsLoss for binary classification.\")\n",
    "    else: # Multi-class or binary with NUM_LABELS output neurons\n",
    "        loss_fn_ann = nn.CrossEntropyLoss(weight=class_weights_ann).to(device)\n",
    "        print(\"Using CrossEntropyLoss.\")\n",
    "        \n",
    "    optimizer_ann = AdamW(ann_model.parameters(), lr=LEARNING_RATE, weight_decay=WEIGHT_DECAY)\n",
    "    scaler_ann = GradScaler(enabled=(device.type == 'cuda'))\n",
    "    scheduler_ann = None # Or define one: torch.optim.lr_scheduler.ReduceLROnPlateau(optimizer_ann, 'min', patience=2, factor=0.5)\n",
    "\n",
    "    history_ann = {'train_loss': [], 'train_acc': [], 'val_loss': [], 'val_acc': [], 'val_f1': []}\n",
    "    best_val_loss_ann = float('inf')\n",
    "    epochs_no_improve_ann = 0\n",
    "    best_model_state_ann = None\n",
    "    best_epoch_ann = 0\n",
    "    total_training_time_seconds_ann = 0\n",
    "\n",
    "    print(f\"Starting ANN training for {EPOCHS} epochs...\")\n",
    "    training_start_time_ann = time.time()\n",
    "\n",
    "    for epoch in range(1, EPOCHS + 1):\n",
    "        epoch_start_time = time.time()\n",
    "        print(f\"\\nEpoch {epoch}/{EPOCHS}\")\n",
    "        \n",
    "        train_loss, train_acc = train_ann_epoch(\n",
    "            ann_model, train_ann_loader, loss_fn_ann, optimizer_ann, device, scaler_ann, scheduler_ann, ACCUMULATION_STEPS\n",
    "        )\n",
    "        print(f\"Train -> loss: {train_loss:.4f}, acc: {train_acc:.4f}\")\n",
    "\n",
    "        if val_ann_loader: # Only evaluate if there is validation data\n",
    "            val_loss, val_acc, val_f1, val_prec, val_rec, _, _ = eval_ann_model(\n",
    "                ann_model, val_ann_loader, loss_fn_ann, device\n",
    "            )\n",
    "            print(f\"Val   -> loss: {val_loss:.4f}, acc: {val_acc:.4f}, f1: {val_f1:.4f}, prec: {val_prec:.4f}, rec: {val_rec:.4f}\")\n",
    "\n",
    "            history_ann['train_loss'].append(train_loss)\n",
    "            history_ann['train_acc'].append(train_acc)\n",
    "            history_ann['val_loss'].append(val_loss)\n",
    "            history_ann['val_acc'].append(val_acc)\n",
    "            history_ann['val_f1'].append(val_f1)\n",
    "\n",
    "            if val_loss < best_val_loss_ann:\n",
    "                best_val_loss_ann = val_loss\n",
    "                best_epoch_ann = epoch\n",
    "                epochs_no_improve_ann = 0\n",
    "                best_model_state_ann = deepcopy(ann_model.state_dict())\n",
    "                print(\"✔️ New best ANN model saved.\")\n",
    "            else:\n",
    "                epochs_no_improve_ann += 1\n",
    "                print(f\"⏳ No improvement for ANN: {epochs_no_improve_ann}/{PATIENCE}\")\n",
    "\n",
    "            if USE_EARLY_STOPPING and epochs_no_improve_ann >= PATIENCE:\n",
    "                print(\"🛑 Early stopping triggered for ANN.\")\n",
    "                break\n",
    "            \n",
    "            if scheduler_ann and isinstance(scheduler_ann, torch.optim.lr_scheduler.ReduceLROnPlateau):\n",
    "                scheduler_ann.step(val_loss)\n",
    "            elif scheduler_ann: # for other schedulers like StepLR\n",
    "                scheduler_ann.step()\n",
    "\n",
    "        else: # No validation data\n",
    "            history_ann['train_loss'].append(train_loss)\n",
    "            history_ann['train_acc'].append(train_acc)\n",
    "            # If no validation, save model at each epoch or based on train loss (less ideal)\n",
    "            if train_loss < best_val_loss_ann: # Using train_loss as proxy\n",
    "                best_val_loss_ann = train_loss\n",
    "                best_epoch_ann = epoch\n",
    "                best_model_state_ann = deepcopy(ann_model.state_dict())\n",
    "                print(\"✔️ ANN model saved (based on train loss).\")\n",
    "        \n",
    "        epoch_end_time = time.time()\n",
    "        print(f\"Epoch {epoch} took {epoch_end_time - epoch_start_time:.2f} seconds.\")\n",
    "\n",
    "    total_training_time_seconds_ann = time.time() - training_start_time_ann\n",
    "    print(f\"\\nTotal ANN training time: {total_training_time_seconds_ann:.2f} seconds.\")\n",
    "\n",
    "    if best_model_state_ann is not None:\n",
    "        print(f\"\\nLoading best ANN model state from epoch {best_epoch_ann} for final evaluation and saving...\")\n",
    "        ann_model.load_state_dict(best_model_state_ann)\n",
    "    else:\n",
    "        print(\"\\nWarning: No best ANN model state saved (e.g. no validation data or no improvement). Using final model state.\")\n",
    "\n",
    "    print(\"ANN Training complete.\")\n",
    "else:\n",
    "    print(\"Skipping ANN training as no training data is available.\")"
   ]
  },
  {
   "cell_type": "markdown",
   "id": "c7c591f6",
   "metadata": {},
   "source": [
    "## 10. WandB Sweep Configuration for ANN"
   ]
  },
  {
   "cell_type": "code",
   "execution_count": 31,
   "id": "945b725b",
   "metadata": {},
   "outputs": [
    {
     "data": {
      "text/plain": [
       "' # --- Sweeping Configuration for wandb (ANN) ---\\nsweep_config_ann = {\\n    \\'method\\': \\'bayes\\',  # Bayesian optimization, or \\'random\\', \\'grid\\'\\n    \\'metric\\': {\\n        \\'name\\': \\'val_f1_ann\\', # Ensure this matches the key logged by wandb\\n        \\'goal\\': \\'maximize\\'\\n    },\\n    \\'parameters\\': {\\n        \\'learning_rate\\': {\\n            \\'values\\': [1e-2, 5e-3, 1e-3, 5e-4, 1e-4]\\n        },\\n        \\'batch_size\\': {\\n            \\'values\\': [32, 64, 128]\\n        },\\n        \\'hidden_dim\\': {\\n            \\'values\\': [64, 128, 256, 512]\\n        },\\n        \\'num_hidden_layers\\': { # Renamed from num_layers to be specific\\n            \\'values\\': [1, 2, 3]\\n        },\\n        \\'dropout_prob\\': {\\n            \\'distribution\\': \\'uniform\\',\\n            \\'min\\': 0.1,\\n            \\'max\\': 0.5\\n        },\\n        \\'epochs_sweep\\': { # Use a different name to avoid conflict with global EPOCHS\\n            \\'values\\': [10, 15, 20, 25, 30]\\n        },\\n        \\'weight_decay\\': {\\n            \\'distribution\\': \\'log_uniform_values\\', # more appropriate for weight decay\\n            \\'min\\': 1e-6,\\n            \\'max\\': 1e-2\\n        },\\n        \\'max_features_sweep\\': { # If you want to sweep TF-IDF features\\n            \\'values\\': [5000, 10000, 15000, 20000]\\n        }\\n    }\\n}\\n\\n# --- Training function for wandb sweep (ANN) ---\\ndef train_ann_sweep(config=None): # config is auto-passed by wandb.agent\\n    # Initialize a new wandb run\\n    with wandb.init(config=config, project=\"hate-speech-ann-baseline-sweep\") as run: # Added project name\\n        cfg = wandb.config # wandb.config contains the current trial\\'s hyperparameters\\n\\n        # Data Vectorization based on sweep config\\n        current_max_features_sweep = cfg.max_features_sweep\\n        print(f\"Sweep run: Using MAX_FEATURES = {current_max_features_sweep}\")\\n\\n        temp_vectorizer = TfidfVectorizer(max_features=current_max_features_sweep, ngram_range=(1, 2), stop_words=\\'english\\')\\n\\n        # Use df_train, df_val from the global scope (loaded once)\\n        if df_train.empty:\\n            print(\"Sweep run: df_train is empty. Aborting.\")\\n            return\\n        temp_X_train_tfidf = temp_vectorizer.fit_transform(df_train[\\'clean_text\\']).toarray()\\n\\n        if df_val.empty:\\n             print(\"Sweep run: df_val is empty. Using a small fraction of train for val or aborting.\")\\n             # Simple fallback: use last 10% of training if val is empty\\n             if len(temp_X_train_tfidf) > 10:\\n                 split_idx = int(len(temp_X_train_tfidf) * 0.9)\\n                 temp_X_val_tfidf = temp_vectorizer.transform(df_train[\\'clean_text\\'].iloc[split_idx:]).toarray()\\n                 val_y_sweep = y_train[split_idx:]\\n                 # Re-assign training data\\n                 temp_X_train_tfidf = temp_vectorizer.fit_transform(df_train[\\'clean_text\\'].iloc[:split_idx]).toarray()\\n                 train_y_sweep = y_train[:split_idx]\\n\\n             else: # Not enough data even for a fallback\\n                 print(\"Sweep run: Not enough data to form validation set. Aborting.\")\\n                 return\\n\\n        else:\\n            temp_X_val_tfidf = temp_vectorizer.transform(df_val[\\'clean_text\\']).toarray()\\n            train_y_sweep = y_train # from global\\n            val_y_sweep = y_val   # from global\\n\\n        temp_train_ann_dataset = ANNClassificationDataset(temp_X_train_tfidf, train_y_sweep)\\n        temp_val_ann_dataset = ANNClassificationDataset(temp_X_val_tfidf, val_y_sweep)\\n\\n        temp_train_loader = DataLoader(temp_train_ann_dataset, batch_size=cfg.batch_size, shuffle=True, num_workers=0) # num_workers=0 for sweep simplicity\\n        temp_val_loader = DataLoader(temp_val_ann_dataset, batch_size=cfg.batch_size, shuffle=False, num_workers=0)\\n\\n        # Model\\n        model_sweep = SimpleANN(\\n            input_dim=current_max_features_sweep, \\n            hidden_dim=cfg.hidden_dim, \\n            output_dim=actual_output_dim_ann, # From global config (or derive from NUM_LABELS)\\n            num_hidden_layers=cfg.num_hidden_layers, \\n            dropout_prob=cfg.dropout_prob\\n        ).to(device)\\n\\n        optimizer_sweep = AdamW(model_sweep.parameters(), lr=cfg.learning_rate, weight_decay=cfg.weight_decay)\\n\\n        # Determine loss function based on output_dim\\n        if actual_output_dim_ann == 1 and NUM_LABELS == 2:\\n             loss_fn_sweep = nn.BCEWithLogitsLoss(weight=class_weights_ann[1] if class_weights_ann is not None and len(class_weights_ann)==2 else None).to(device)\\n        else:\\n             loss_fn_sweep = nn.CrossEntropyLoss(weight=class_weights_ann).to(device) # class_weights_ann from global\\n\\n        scaler_sweep = GradScaler(enabled=(device.type == \\'cuda\\'))\\n\\n        best_f1_sweep_run = 0.0 # Renamed to avoid conflict with outer scope\\n        epochs_no_improve_sweep = 0\\n\\n        for epoch_s in range(1, cfg.epochs_sweep + 1):\\n            train_loss_s, train_acc_s = train_ann_epoch(\\n                model_sweep, temp_train_loader, loss_fn_sweep, optimizer_sweep, device, scaler_sweep, None\\n            )\\n            val_loss_s, val_acc_s, val_f1_s, _, _, _, _ = eval_ann_model(\\n                model_sweep, temp_val_loader, loss_fn_sweep, device\\n            )\\n            wandb.log({\\n                \"epoch_sweep\": epoch_s, # Use a distinct key for sweep epoch\\n                \"train_loss_ann_sweep\": train_loss_s, \"train_acc_ann_sweep\": train_acc_s,\\n                \"val_loss_ann_sweep\": val_loss_s, \"val_acc_ann_sweep\": val_acc_s, \\n                \"val_f1_ann\": val_f1_s # This is the metric we are optimizing\\n            })\\n            if val_f1_s > best_f1_sweep_run:\\n                best_f1_sweep_run = val_f1_s\\n                epochs_no_improve_sweep = 0\\n            else:\\n                epochs_no_improve_sweep += 1\\n\\n            if USE_EARLY_STOPPING and epochs_no_improve_sweep >= PATIENCE: # PATIENCE from global config\\n                print(f\"Sweep run {wandb.run.id}: Early stopping at epoch {epoch_s}\")\\n                break\\n        # Log the best F1 for this specific run\\n        wandb.log({\"best_val_f1_for_run\": best_f1_sweep_run})\\n\\n# --- How to run the sweep (example) ---\\n# Make sure you are logged into wandb: !wandb login YOUR_API_KEY\\n#\\n# if __name__ == \\'__main__\\' and train_ann_loader and val_ann_loader: # Ensure data is loaded\\n#     # Check if df_train and df_val are populated before starting sweep\\n#     if df_train.empty or df_val.empty:\\n#         print(\"Training or validation data is empty. Skipping WandB sweep.\")\\n#     else:\\n#         print(\"Starting WandB sweep for ANN hyperparameter optimization...\")\\n#         sweep_id = wandb.sweep(sweep_config_ann, project=\"hate-speech-ann-baseline-sweep\")\\n#         wandb.agent(sweep_id, function=train_ann_sweep, count=10) # Run e.g. 10 trials\\n#         print(\"WandB sweep finished.\")\\n# else:\\n#     print(\"WandB sweep configuration for ANN defined. To run, ensure data is loaded and execute the agent lines, typically in a main script block.\")\\n\\nprint(\"WandB sweep configuration for ANN defined. To run, uncomment and execute the sweep agent lines within an `if __name__ == \\'__main__\\':` block after data loading.\") '"
      ]
     },
     "execution_count": 31,
     "metadata": {},
     "output_type": "execute_result"
    }
   ],
   "source": [
    "\"\"\" # --- Sweeping Configuration for wandb (ANN) ---\n",
    "sweep_config_ann = {\n",
    "    'method': 'bayes',  # Bayesian optimization, or 'random', 'grid'\n",
    "    'metric': {\n",
    "        'name': 'val_f1_ann', # Ensure this matches the key logged by wandb\n",
    "        'goal': 'maximize'\n",
    "    },\n",
    "    'parameters': {\n",
    "        'learning_rate': {\n",
    "            'values': [1e-2, 5e-3, 1e-3, 5e-4, 1e-4]\n",
    "        },\n",
    "        'batch_size': {\n",
    "            'values': [32, 64, 128]\n",
    "        },\n",
    "        'hidden_dim': {\n",
    "            'values': [64, 128, 256, 512]\n",
    "        },\n",
    "        'num_hidden_layers': { # Renamed from num_layers to be specific\n",
    "            'values': [1, 2, 3]\n",
    "        },\n",
    "        'dropout_prob': {\n",
    "            'distribution': 'uniform',\n",
    "            'min': 0.1,\n",
    "            'max': 0.5\n",
    "        },\n",
    "        'epochs_sweep': { # Use a different name to avoid conflict with global EPOCHS\n",
    "            'values': [10, 15, 20, 25, 30]\n",
    "        },\n",
    "        'weight_decay': {\n",
    "            'distribution': 'log_uniform_values', # more appropriate for weight decay\n",
    "            'min': 1e-6,\n",
    "            'max': 1e-2\n",
    "        },\n",
    "        'max_features_sweep': { # If you want to sweep TF-IDF features\n",
    "            'values': [5000, 10000, 15000, 20000]\n",
    "        }\n",
    "    }\n",
    "}\n",
    "\n",
    "# --- Training function for wandb sweep (ANN) ---\n",
    "def train_ann_sweep(config=None): # config is auto-passed by wandb.agent\n",
    "    # Initialize a new wandb run\n",
    "    with wandb.init(config=config, project=\"hate-speech-ann-baseline-sweep\") as run: # Added project name\n",
    "        cfg = wandb.config # wandb.config contains the current trial's hyperparameters\n",
    "\n",
    "        # Data Vectorization based on sweep config\n",
    "        current_max_features_sweep = cfg.max_features_sweep\n",
    "        print(f\"Sweep run: Using MAX_FEATURES = {current_max_features_sweep}\")\n",
    "        \n",
    "        temp_vectorizer = TfidfVectorizer(max_features=current_max_features_sweep, ngram_range=(1, 2), stop_words='english')\n",
    "        \n",
    "        # Use df_train, df_val from the global scope (loaded once)\n",
    "        if df_train.empty:\n",
    "            print(\"Sweep run: df_train is empty. Aborting.\")\n",
    "            return\n",
    "        temp_X_train_tfidf = temp_vectorizer.fit_transform(df_train['clean_text']).toarray()\n",
    "        \n",
    "        if df_val.empty:\n",
    "             print(\"Sweep run: df_val is empty. Using a small fraction of train for val or aborting.\")\n",
    "             # Simple fallback: use last 10% of training if val is empty\n",
    "             if len(temp_X_train_tfidf) > 10:\n",
    "                 split_idx = int(len(temp_X_train_tfidf) * 0.9)\n",
    "                 temp_X_val_tfidf = temp_vectorizer.transform(df_train['clean_text'].iloc[split_idx:]).toarray()\n",
    "                 val_y_sweep = y_train[split_idx:]\n",
    "                 # Re-assign training data\n",
    "                 temp_X_train_tfidf = temp_vectorizer.fit_transform(df_train['clean_text'].iloc[:split_idx]).toarray()\n",
    "                 train_y_sweep = y_train[:split_idx]\n",
    "\n",
    "             else: # Not enough data even for a fallback\n",
    "                 print(\"Sweep run: Not enough data to form validation set. Aborting.\")\n",
    "                 return\n",
    "\n",
    "        else:\n",
    "            temp_X_val_tfidf = temp_vectorizer.transform(df_val['clean_text']).toarray()\n",
    "            train_y_sweep = y_train # from global\n",
    "            val_y_sweep = y_val   # from global\n",
    "\n",
    "        temp_train_ann_dataset = ANNClassificationDataset(temp_X_train_tfidf, train_y_sweep)\n",
    "        temp_val_ann_dataset = ANNClassificationDataset(temp_X_val_tfidf, val_y_sweep)\n",
    "        \n",
    "        temp_train_loader = DataLoader(temp_train_ann_dataset, batch_size=cfg.batch_size, shuffle=True, num_workers=0) # num_workers=0 for sweep simplicity\n",
    "        temp_val_loader = DataLoader(temp_val_ann_dataset, batch_size=cfg.batch_size, shuffle=False, num_workers=0)\n",
    "\n",
    "        # Model\n",
    "        model_sweep = SimpleANN(\n",
    "            input_dim=current_max_features_sweep, \n",
    "            hidden_dim=cfg.hidden_dim, \n",
    "            output_dim=actual_output_dim_ann, # From global config (or derive from NUM_LABELS)\n",
    "            num_hidden_layers=cfg.num_hidden_layers, \n",
    "            dropout_prob=cfg.dropout_prob\n",
    "        ).to(device)\n",
    "\n",
    "        optimizer_sweep = AdamW(model_sweep.parameters(), lr=cfg.learning_rate, weight_decay=cfg.weight_decay)\n",
    "        \n",
    "        # Determine loss function based on output_dim\n",
    "        if actual_output_dim_ann == 1 and NUM_LABELS == 2:\n",
    "             loss_fn_sweep = nn.BCEWithLogitsLoss(weight=class_weights_ann[1] if class_weights_ann is not None and len(class_weights_ann)==2 else None).to(device)\n",
    "        else:\n",
    "             loss_fn_sweep = nn.CrossEntropyLoss(weight=class_weights_ann).to(device) # class_weights_ann from global\n",
    "             \n",
    "        scaler_sweep = GradScaler(enabled=(device.type == 'cuda'))\n",
    "\n",
    "        best_f1_sweep_run = 0.0 # Renamed to avoid conflict with outer scope\n",
    "        epochs_no_improve_sweep = 0\n",
    "\n",
    "        for epoch_s in range(1, cfg.epochs_sweep + 1):\n",
    "            train_loss_s, train_acc_s = train_ann_epoch(\n",
    "                model_sweep, temp_train_loader, loss_fn_sweep, optimizer_sweep, device, scaler_sweep, None\n",
    "            )\n",
    "            val_loss_s, val_acc_s, val_f1_s, _, _, _, _ = eval_ann_model(\n",
    "                model_sweep, temp_val_loader, loss_fn_sweep, device\n",
    "            )\n",
    "            wandb.log({\n",
    "                \"epoch_sweep\": epoch_s, # Use a distinct key for sweep epoch\n",
    "                \"train_loss_ann_sweep\": train_loss_s, \"train_acc_ann_sweep\": train_acc_s,\n",
    "                \"val_loss_ann_sweep\": val_loss_s, \"val_acc_ann_sweep\": val_acc_s, \n",
    "                \"val_f1_ann\": val_f1_s # This is the metric we are optimizing\n",
    "            })\n",
    "            if val_f1_s > best_f1_sweep_run:\n",
    "                best_f1_sweep_run = val_f1_s\n",
    "                epochs_no_improve_sweep = 0\n",
    "            else:\n",
    "                epochs_no_improve_sweep += 1\n",
    "            \n",
    "            if USE_EARLY_STOPPING and epochs_no_improve_sweep >= PATIENCE: # PATIENCE from global config\n",
    "                print(f\"Sweep run {wandb.run.id}: Early stopping at epoch {epoch_s}\")\n",
    "                break\n",
    "        # Log the best F1 for this specific run\n",
    "        wandb.log({\"best_val_f1_for_run\": best_f1_sweep_run})\n",
    "\n",
    "# --- How to run the sweep (example) ---\n",
    "# Make sure you are logged into wandb: !wandb login YOUR_API_KEY\n",
    "#\n",
    "# if __name__ == '__main__' and train_ann_loader and val_ann_loader: # Ensure data is loaded\n",
    "#     # Check if df_train and df_val are populated before starting sweep\n",
    "#     if df_train.empty or df_val.empty:\n",
    "#         print(\"Training or validation data is empty. Skipping WandB sweep.\")\n",
    "#     else:\n",
    "#         print(\"Starting WandB sweep for ANN hyperparameter optimization...\")\n",
    "#         sweep_id = wandb.sweep(sweep_config_ann, project=\"hate-speech-ann-baseline-sweep\")\n",
    "#         wandb.agent(sweep_id, function=train_ann_sweep, count=10) # Run e.g. 10 trials\n",
    "#         print(\"WandB sweep finished.\")\n",
    "# else:\n",
    "#     print(\"WandB sweep configuration for ANN defined. To run, ensure data is loaded and execute the agent lines, typically in a main script block.\")\n",
    "\n",
    "print(\"WandB sweep configuration for ANN defined. To run, uncomment and execute the sweep agent lines within an `if __name__ == '__main__':` block after data loading.\") \"\"\""
   ]
  },
  {
   "cell_type": "markdown",
   "id": "0a06a39f",
   "metadata": {},
   "source": [
    "## 11. Final Evaluation for ANN"
   ]
  },
  {
   "cell_type": "code",
   "execution_count": 32,
   "id": "8578e958",
   "metadata": {},
   "outputs": [
    {
     "name": "stdout",
     "output_type": "stream",
     "text": [
      "\n",
      "Evaluating ANN on Labeled Test Set...\n"
     ]
    },
    {
     "data": {
      "application/vnd.jupyter.widget-view+json": {
       "model_id": "c16cfa9e54cc4953843e531776d5428e",
       "version_major": 2,
       "version_minor": 0
      },
      "text/plain": [
       "Evaluating ANN:   0%|          | 0/19 [00:00<?, ?batch/s]"
      ]
     },
     "metadata": {},
     "output_type": "display_data"
    },
    {
     "name": "stdout",
     "output_type": "stream",
     "text": [
      "Test Loss (ANN):      0.7292\n",
      "Test Accuracy (ANN):  0.4510\n",
      "Test F1-score (ANN):  0.4519\n",
      "Test Precision (ANN): 0.7480\n",
      "Test Recall (ANN):    0.4510\n",
      "\n",
      "Classification Report (ANN):\n",
      "              precision    recall  f1-score   support\n",
      "\n",
      "         NOT     0.8973    0.3029    0.4529       865\n",
      "         HOF     0.2997    0.8958    0.4491       288\n",
      "\n",
      "    accuracy                         0.4510      1153\n",
      "   macro avg     0.5985    0.5994    0.4510      1153\n",
      "weighted avg     0.7480    0.4510    0.4519      1153\n",
      "\n",
      "Saved ANN confusion matrix to ann_model_output/cm_ann_HASOC_1.png\n"
     ]
    },
    {
     "data": {
      "image/png": "[encoded data removed]",
      "text/plain": [
       "<Figure size 600x600 with 2 Axes>"
      ]
     },
     "metadata": {},
     "output_type": "display_data"
    }
   ],
   "source": [
    "report_ann = \"No classification report available for ANN.\"\n",
    "cm_ann_data = []\n",
    "test_loss_ann, test_acc_ann, test_f1_ann, test_precision_ann, test_recall_ann = 0.0, 0.0, 0.0, 0.0, 0.0\n",
    "\n",
    "if test_ann_loader is not None and y_test is not None and len(y_test) == X_test_tfidf.shape[0]: # Ensure y_test corresponds to X_test_tfidf\n",
    "    print(\"\\nEvaluating ANN on Labeled Test Set...\")\n",
    "    \n",
    "    # Ensure loss_fn_ann is defined correctly based on model output and NUM_LABELS\n",
    "    if actual_output_dim_ann == 1 and NUM_LABELS == 2:\n",
    "        current_loss_fn_ann_eval = nn.BCEWithLogitsLoss().to(device) # No weights for eval generally\n",
    "    else:\n",
    "        current_loss_fn_ann_eval = nn.CrossEntropyLoss().to(device)\n",
    "\n",
    "    test_loss_ann, test_acc_ann, test_f1_ann, test_precision_ann, test_recall_ann, test_labels_ann, test_preds_ann = eval_ann_model(\n",
    "        ann_model, test_ann_loader, current_loss_fn_ann_eval, device # Use ann_model (trained one)\n",
    "    )\n",
    "    print(f\"Test Loss (ANN):      {test_loss_ann:.4f}\")\n",
    "    print(f\"Test Accuracy (ANN):  {test_acc_ann:.4f}\")\n",
    "    print(f\"Test F1-score (ANN):  {test_f1_ann:.4f}\")\n",
    "    print(f\"Test Precision (ANN): {test_precision_ann:.4f}\")\n",
    "    print(f\"Test Recall (ANN):    {test_recall_ann:.4f}\")\n",
    "\n",
    "    int_labels_ann   = sorted(list(LABEL_MAP.values()))\n",
    "    target_names_ann = [k for k, v in sorted(LABEL_MAP.items(), key=lambda item: item[1])]\n",
    "\n",
    "    report_ann = classification_report(\n",
    "        y_true=test_labels_ann, y_pred=test_preds_ann, labels=int_labels_ann,\n",
    "        target_names=target_names_ann, digits=4, zero_division=0\n",
    "    )\n",
    "    print(\"\\nClassification Report (ANN):\")\n",
    "    print(report_ann)\n",
    "\n",
    "    cm_ann = confusion_matrix(test_labels_ann, test_preds_ann, labels=int_labels_ann)\n",
    "    cm_ann_data = cm_ann.tolist()\n",
    "    disp_ann = ConfusionMatrixDisplay(cm_ann, display_labels=target_names_ann)\n",
    "    fig_ann, ax_ann = plt.subplots(figsize=(max(6, NUM_LABELS*2), max(6, NUM_LABELS*2))) # Adjust size for num_labels\n",
    "    disp_ann.plot(ax=ax_ann, cmap='Blues', values_format='d')\n",
    "    ax_ann.set_title(f'ANN Confusion Matrix ({DATASET_TYPE} subtask {SUBTASK})')\n",
    "    fig_ann.tight_layout()\n",
    "    cm_path_ann = os.path.join(OUTPUT_DIR, f'cm_ann_{DATASET_TYPE}_{SUBTASK}.png')\n",
    "    fig_ann.savefig(cm_path_ann)\n",
    "    print(f\"Saved ANN confusion matrix to {cm_path_ann}\")\n",
    "    plt.show()\n",
    "\n",
    "elif test_ann_loader is not None and y_test is None: # Inference only\n",
    "    print(\"\\nRunning inference with ANN on unlabeled Test Set...\")\n",
    "    ann_model.eval() # Ensure model is in eval mode\n",
    "    all_preds_ann_inference = []\n",
    "    with torch.no_grad():\n",
    "        for batch in tqdm(test_ann_loader, desc=\"ANN Inference\", unit=\"batch\"):\n",
    "            features = batch['features'].to(device)\n",
    "            with autocast(device_type=device.type, enabled=(device.type == 'cuda')):\n",
    "                outputs = ann_model(features)\n",
    "            \n",
    "            if outputs.shape[1] == 1 and NUM_LABELS == 2: # Binary with single logit\n",
    "                preds_inf = (torch.sigmoid(outputs.squeeze(1)) > 0.5).long().cpu().tolist()\n",
    "            else: # Multi-class or binary with 2 logits\n",
    "                preds_inf = torch.argmax(outputs, dim=1).cpu().tolist()\n",
    "            all_preds_ann_inference.extend(preds_inf)\n",
    "    \n",
    "    inv_label_map = {v: k for k, v in LABEL_MAP.items()}\n",
    "    pred_strs_ann = [inv_label_map.get(p, 'UNK_PRED') for p in all_preds_ann_inference]\n",
    "    \n",
    "    ids_test = []\n",
    "    if 'id' in df_test.columns:\n",
    "        ids_test = df_test['id'].tolist()\n",
    "    # Ensure ids_test matches the length of predictions if df_test was filtered or had issues\n",
    "    if len(ids_test) != len(all_preds_ann_inference):\n",
    "        print(f\"Warning: Length of test IDs ({len(ids_test)}) does not match number of predictions ({len(all_preds_ann_inference)}). Generating sequential IDs.\")\n",
    "        ids_test = list(range(len(all_preds_ann_inference)))\n",
    "        \n",
    "    out_df_ann = pd.DataFrame({\n",
    "        'id': ids_test, \n",
    "        'prediction': all_preds_ann_inference,\n",
    "        'prediction_str': pred_strs_ann\n",
    "    })\n",
    "    out_path_ann = os.path.join(OUTPUT_DIR, f'{DATASET_TYPE}_subtask{SUBTASK}_ann_predictions.csv')\n",
    "    out_df_ann.to_csv(out_path_ann, index=False)\n",
    "    print(f\"▶️ ANN Inference done. Saved predictions to {out_path_ann}\")\n",
    "    report_ann = \"Inference-only mode for ANN; no classification report.\"\n",
    "else:\n",
    "    print(\"\\nSkipping ANN test set evaluation (no labeled test data available or test loader not created).\")"
   ]
  },
  {
   "cell_type": "markdown",
   "id": "1de743f6",
   "metadata": {},
   "source": [
    "## 12. Save ANN Artifacts and Results"
   ]
  },
  {
   "cell_type": "code",
   "execution_count": 33,
   "id": "01ca0107",
   "metadata": {},
   "outputs": [
    {
     "name": "stdout",
     "output_type": "stream",
     "text": [
      "\n",
      "Saving ANN artifacts...\n",
      "Best ANN model saved to: ann_model_output/best_ann_model.pt\n",
      "ANN Training history plot saved to ann_model_output/ann_training_history.png\n"
     ]
    },
    {
     "data": {
      "image/png": "[encoded data removed]",
      "text/plain": [
       "<Figure size 1200x500 with 2 Axes>"
      ]
     },
     "metadata": {},
     "output_type": "display_data"
    },
    {
     "name": "stdout",
     "output_type": "stream",
     "text": [
      "ANN Results saved to ann_model_output/results_ann_HASOC_subtask1.json\n"
     ]
    }
   ],
   "source": [
    "print(\"\\nSaving ANN artifacts...\")\n",
    "\n",
    "# --- Save ANN Model ---\n",
    "ann_model_save_path = os.path.join(OUTPUT_DIR, 'best_ann_model.pt')\n",
    "if best_model_state_ann:\n",
    "    torch.save(best_model_state_ann, ann_model_save_path)\n",
    "    print(f\"Best ANN model saved to: {ann_model_save_path}\")\n",
    "else: # If early stopping wasn't used or didn't improve\n",
    "    final_ann_model_path = os.path.join(OUTPUT_DIR, 'final_ann_model.pt')\n",
    "    torch.save(ann_model.state_dict(), final_ann_model_path)\n",
    "    print(f\"Final ANN model state saved to {final_ann_model_path} (no best state from early stopping or no validation).\")\n",
    "\n",
    "\n",
    "# --- Plot ANN Training History ---\n",
    "if history_ann['train_loss']: # Check if history exists\n",
    "    plt.figure(figsize=(12, 5))\n",
    "    plt.subplot(1, 2, 1)\n",
    "    plt.plot(history_ann['train_loss'], label='ANN Train Loss')\n",
    "    if history_ann.get('val_loss'): plt.plot(history_ann['val_loss'], label='ANN Validation Loss')\n",
    "    plt.title('ANN Loss History')\n",
    "    plt.xlabel('Epoch'); plt.ylabel('Loss'); plt.legend(); plt.grid(True)\n",
    "\n",
    "    plt.subplot(1, 2, 2)\n",
    "    plt.plot(history_ann['train_acc'], label='ANN Train Accuracy')\n",
    "    if history_ann.get('val_acc'): plt.plot(history_ann['val_acc'], label='ANN Validation Accuracy')\n",
    "    if history_ann.get('val_f1'): plt.plot(history_ann['val_f1'], label='ANN Validation F1')\n",
    "    plt.title('ANN Accuracy & F1 History')\n",
    "    plt.xlabel('Epoch'); plt.ylabel('Metric'); plt.legend(); plt.grid(True)\n",
    "\n",
    "    plt.tight_layout()\n",
    "    history_plot_path_ann = os.path.join(OUTPUT_DIR, 'ann_training_history.png')\n",
    "    plt.savefig(history_plot_path_ann)\n",
    "    print(f\"ANN Training history plot saved to {history_plot_path_ann}\")\n",
    "    plt.show()\n",
    "else:\n",
    "    print(\"No training history to plot for ANN (e.g., training was skipped).\")\n",
    "\n",
    "\n",
    "# --- Save ANN Configuration and Results to JSON ---\n",
    "results_ann = {\n",
    "    'config': config_ann_dict, # from Cell 2\n",
    "    'training_info': {\n",
    "        'epochs_run': len(history_ann['train_loss']) if history_ann['train_loss'] else 0,\n",
    "        'total_training_time_seconds': total_training_time_seconds_ann,\n",
    "        'best_validation_loss': best_val_loss_ann if best_model_state_ann is not None else None,\n",
    "        'best_epoch': best_epoch_ann if best_model_state_ann is not None else None\n",
    "    },\n",
    "    'history': history_ann,\n",
    "    'test_metrics': { # These will be 0 if evaluation on labeled test set was skipped\n",
    "        'loss': test_loss_ann,\n",
    "        'accuracy': test_acc_ann,\n",
    "        'f1_score_weighted': test_f1_ann,\n",
    "        'precision_weighted': test_precision_ann,\n",
    "        'recall_weighted': test_recall_ann\n",
    "    },\n",
    "    'classification_report': report_ann, # from Cell 11\n",
    "    'confusion_matrix': cm_ann_data # from Cell 11\n",
    "}\n",
    "results_filename_ann = f\"results_ann_{DATASET_TYPE}_subtask{SUBTASK.lower()}.json\"\n",
    "results_path_ann = os.path.join(OUTPUT_DIR, results_filename_ann)\n",
    "with open(results_path_ann, 'w') as f:\n",
    "    json.dump(results_ann, f, indent=4)\n",
    "print(f\"ANN Results saved to {results_path_ann}\")"
   ]
  }
 ],
 "metadata": {
  "kernelspec": {
   "display_name": "Python 3 (ipykernel)",
   "language": "python",
   "name": "python3"
  },
  "language_info": {
   "codemirror_mode": {
    "name": "ipython",
    "version": 3
   },
   "file_extension": ".py",
   "mimetype": "text/x-python",
   "name": "python",
   "nbconvert_exporter": "python",
   "pygments_lexer": "ipython3",
   "version": "3.11.11"
  }
 },
 "nbformat": 4,
 "nbformat_minor": 5
}
