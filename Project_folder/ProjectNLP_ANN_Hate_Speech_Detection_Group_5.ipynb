{
 "cells": [
  {
   "cell_type": "markdown",
   "id": "26d920da",
   "metadata": {},
   "source": [
    "# Hate Speech Detection - ANN Baseline\n",
    "\n",
    "This notebook implements an Artificial Neural Network (ANN) as a baseline model for hate speech/offensive language detection. It uses the same datasets and preprocessing pipeline as the main RoBERTa project for fair comparison.\n",
    "\n",
    "**Features:**\n",
    "1.  **Configuration Cell:** Centralized parameters.\n",
    "2.  **Data Loading & Preprocessing:** Handles TXT and TSV/CSV, uses the same text cleaning, and TF-IDF for feature extraction.\n",
    "3.  **ANN Model:** A simple feed-forward neural network.\n",
    "4.  **Training Loop:** Standard PyTorch training with early stopping.\n",
    "5.  **Evaluation:** Standard classification metrics.\n",
    "6.  **Artifact Saving:** Saves model, vectorizer, results, and plots.\n",
    "7.  **WandB Sweep Config:** For hyperparameter optimization."
   ]
  },
  {
   "cell_type": "markdown",
   "id": "52e353c8",
   "metadata": {},
   "source": [
    "## 1. Imports"
   ]
  },
  {
   "cell_type": "code",
   "execution_count": 4,
   "id": "98a55cff",
   "metadata": {},
   "outputs": [],
   "source": [
    "import os\n",
    "os.environ[\"PYTORCH_CUDA_ALLOC_CONF\"] = \"expandable_segments:True\"  # Mitigate fragmentation\n",
    "\n",
    "import torch\n",
    "import torch.nn as nn\n",
    "from torch.utils.data import Dataset, DataLoader\n",
    "from torch.optim import AdamW\n",
    "from torch.amp import autocast, GradScaler\n",
    "import torch.nn.functional as F\n",
    "\n",
    "import pandas as pd\n",
    "import numpy as np\n",
    "import matplotlib.pyplot as plt\n",
    "from sklearn.model_selection import train_test_split\n",
    "from sklearn.feature_extraction.text import TfidfVectorizer\n",
    "from sklearn.utils.class_weight import compute_class_weight\n",
    "from sklearn.metrics import accuracy_score, f1_score, precision_score, recall_score, confusion_matrix, classification_report, ConfusionMatrixDisplay\n",
    "import seaborn as sns\n",
    "import json\n",
    "import time\n",
    "import random\n",
    "from copy import deepcopy\n",
    "from typing import Dict, List, Tuple, Optional\n",
    "from tqdm.auto import tqdm\n",
    "import re, html\n",
    "import joblib # For saving/loading the TfidfVectorizer\n",
    "import emoji\n",
    "import wandb"
   ]
  },
  {
   "cell_type": "markdown",
   "id": "488ac6a0",
   "metadata": {},
   "source": [
    "## 2. Configuration (Code Cell)"
   ]
  },
  {
   "cell_type": "code",
   "execution_count": 118,
   "id": "33e2fd41",
   "metadata": {},
   "outputs": [
    {
     "name": "stdout",
     "output_type": "stream",
     "text": [
      "Base dir: /\n",
      "Train file: /HASOCData/english_dataset.tsv\n",
      "Configuration saved to ann_model_output/config_ann_HASOC.json\n"
     ]
    }
   ],
   "source": [
    "# --- Core ANN Configuration ---\n",
    "MAX_FEATURES = 10000      # Max features for TF-IDF\n",
    "ANN_HIDDEN_DIM = 256    # Hidden dimension for ANN\n",
    "ANN_LAYERS = 2          # Number of hidden layers (fc1, fc2 in your example means 2 hidden layers before output)\n",
    "DROPOUT_PROB = 0.32723932556190316      # Dropout probability\n",
    "BATCH_SIZE = 64         # Batch size\n",
    "EPOCHS = 13             # Number of training epochs (ANNs might need more than transformers for convergence)\n",
    "LEARNING_RATE = 0.0001239494604246138    # Learning rate for ANN (typically higher than for transformers)\n",
    "WEIGHT_DECAY = 0.0003268076158549376     # Weight decay for AdamW optimizer\n",
    "SEED = 42               # Random seed for reproducibility\n",
    "OUTPUT_DIR = 'ann_model_output' # Directory to save model, results, plots\n",
    "VAL_SPLIT_SIZE = 0.15   # Proportion of training data to use for validation\n",
    "\n",
    "# --- Feature Flags ---\n",
    "USE_EARLY_STOPPING = False # Set to True to enable early stopping\n",
    "PATIENCE = 5            # Number of epochs to wait for improvement before stopping\n",
    "ACCUMULATION_STEPS = 1  # Gradient accumulation (typically 1 for ANNs unless very large batches simulated)\n",
    "\n",
    "# --- Dataset Configuration (Should match your RoBERTa project for comparison) ---\n",
    "BASE_DIR = os.getcwd()\n",
    "print(\"Base dir:\", BASE_DIR)\n",
    "DATASET_TYPE = 'HASOC' # Options: 'OLID', 'HASOC', 'OffenseEval'\n",
    "SUBTASK = '3'        # e.g. HASOC subtask 1, 2, or 3; OLID subtask a, b, or c\n",
    "\n",
    "# --- File paths (Adjust as per your RoBERTa project structure) ---\n",
    "if DATASET_TYPE == 'OLID':\n",
    "    DATA_DIR       = os.path.join(BASE_DIR, 'OlidPreprcessed')\n",
    "    # Official OLID training file\n",
    "    TRAIN_FILE     = os.path.join(DATA_DIR, 'olid-training-v1.0.tsv')\n",
    "    print(f\"Train file: {TRAIN_FILE}\")\n",
    "\n",
    "    # Official OLID test & label files per subtask\n",
    "    TEST_FILE      = os.path.join(DATA_DIR, f'testset-level{SUBTASK}.tsv')\n",
    "    TEST_LABELS_FILE = os.path.join(DATA_DIR, f'labels-level{SUBTASK}.csv')\n",
    "    print(f\"Test file:  {TEST_FILE}\")\n",
    "    print(f\"Test labels: {TEST_LABELS_FILE}\")\n",
    "\n",
    "    TEXT_COLUMN    = 'tweet'  # the OLID tsv uses column “text”\n",
    "    LABEL_COLUMN   = f\"subtask_{SUBTASK.lower()}\" # official column is “label”\n",
    "\n",
    "    # Label maps remain unchanged\n",
    "    if SUBTASK == 'a':\n",
    "        LABEL_MAP = {'NOT': 0, 'OFF': 1}\n",
    "    elif SUBTASK == 'b':\n",
    "        LABEL_MAP = {'UNT': 0, 'TIN': 1}\n",
    "    else:  # c\n",
    "        LABEL_MAP = {'IND': 0, 'GRP': 1, 'OTH': 2}\n",
    "    NUM_LABELS = len(LABEL_MAP)\n",
    "\n",
    "elif DATASET_TYPE == 'HASOC':\n",
    "    DATA_DIR    = os.path.join(BASE_DIR, 'HASOCData') # Ensure this path exists\n",
    "    TRAIN_FILE  = os.path.join(DATA_DIR, 'english_dataset.tsv')\n",
    "    TEST_FILE   = os.path.join(DATA_DIR, 'hasoc2019_en_test-2919.tsv')\n",
    "    TEST_LABELS_FILE = None # os.path.join(DATA_DIR, 'english_dataset_labels_subtask_c.tsv') # Example if you have one\n",
    "    TEXT_COLUMN  = 'tweet' # Or 'text' depending on your tsv file\n",
    "    LABEL_COLUMN = f'task_{SUBTASK}'\n",
    "    if SUBTASK == '1': LABEL_MAP = {'NOT': 0, 'HOF': 1}\n",
    "    elif SUBTASK == '2': LABEL_MAP = {'HATE': 0, 'OFFN': 1, 'PRFN': 2}\n",
    "    else: LABEL_MAP = {'TIN': 0, 'UNT': 1} # Adjusted to match your RoBERTa project's TIN/UNT mapping for HASOC 3 if needed\n",
    "\n",
    "else:\n",
    "    raise ValueError(\"Invalid DATASET_TYPE.\")\n",
    "\n",
    "print(f\"Train file: {TRAIN_FILE}\")\n",
    "NUM_LABELS = len(LABEL_MAP)\n",
    "if NUM_LABELS == 2: # Binary classification with 0 and 1\n",
    "    OUTPUT_DIM_ANN = 1 # Single output neuron with Sigmoid if using BCELoss\n",
    "else: # Multi-class\n",
    "    OUTPUT_DIM_ANN = NUM_LABELS # NUM_LABELS output neurons if using CrossEntropyLoss\n",
    "\n",
    "\n",
    "# --- Create output directory ---\n",
    "os.makedirs(OUTPUT_DIR, exist_ok=True)\n",
    "\n",
    "# --- Save Configuration to JSON ---\n",
    "config_ann_dict = {\n",
    "    'MAX_FEATURES': MAX_FEATURES,\n",
    "    'ANN_HIDDEN_DIM': ANN_HIDDEN_DIM,\n",
    "    'ANN_LAYERS': ANN_LAYERS,\n",
    "    'DROPOUT_PROB': DROPOUT_PROB,\n",
    "    'BATCH_SIZE': BATCH_SIZE,\n",
    "    'EPOCHS': EPOCHS,\n",
    "    'LEARNING_RATE': LEARNING_RATE,\n",
    "    'WEIGHT_DECAY': WEIGHT_DECAY,\n",
    "    'SEED': SEED,\n",
    "    'OUTPUT_DIR': OUTPUT_DIR,\n",
    "    'DATASET_TYPE': DATASET_TYPE,\n",
    "    'SUBTASK': SUBTASK,\n",
    "    'TRAIN_FILE': TRAIN_FILE,\n",
    "    'TEST_FILE': TEST_FILE,\n",
    "    'TEST_LABELS_FILE': TEST_LABELS_FILE,\n",
    "    'TEXT_COLUMN': TEXT_COLUMN,\n",
    "    'LABEL_COLUMN': LABEL_COLUMN,\n",
    "    'LABEL_MAP': LABEL_MAP,\n",
    "    'NUM_LABELS': NUM_LABELS,\n",
    "    'VAL_SPLIT_SIZE': VAL_SPLIT_SIZE,\n",
    "    'USE_EARLY_STOPPING': USE_EARLY_STOPPING,\n",
    "    'PATIENCE': PATIENCE if USE_EARLY_STOPPING else None,\n",
    "    'ACCUMULATION_STEPS': ACCUMULATION_STEPS\n",
    "}\n",
    "config_filename = f\"config_ann_{DATASET_TYPE}.json\"\n",
    "config_path = os.path.join(OUTPUT_DIR, config_filename)\n",
    "with open(config_path, 'w') as f:\n",
    "    json.dump(config_ann_dict, f, indent=4)\n",
    "print(f\"Configuration saved to {config_path}\")"
   ]
  },
  {
   "cell_type": "markdown",
   "id": "501cdeb1",
   "metadata": {},
   "source": [
    "## 3. Environment Setup"
   ]
  },
  {
   "cell_type": "code",
   "execution_count": 119,
   "id": "756f265e",
   "metadata": {},
   "outputs": [
    {
     "name": "stdout",
     "output_type": "stream",
     "text": [
      "Using GPU: NVIDIA GeForce RTX 2080 Ti\n"
     ]
    }
   ],
   "source": [
    "def set_seed(seed_value: int):\n",
    "    random.seed(seed_value)\n",
    "    np.random.seed(seed_value)\n",
    "    torch.manual_seed(seed_value)\n",
    "    if torch.cuda.is_available():\n",
    "        torch.cuda.manual_seed_all(seed_value)\n",
    "        # Optional: for full determinism, but can slow down\n",
    "        # torch.backends.cudnn.deterministic = True\n",
    "        # torch.backends.cudnn.benchmark = False\n",
    "set_seed(SEED)\n",
    "\n",
    "if torch.cuda.is_available():\n",
    "    device = torch.device(\"cuda\")\n",
    "    print(f'Using GPU: {torch.cuda.get_device_name(0)}')\n",
    "else:\n",
    "    device = torch.device(\"cpu\")\n",
    "    print('Using CPU')"
   ]
  },
  {
   "cell_type": "markdown",
   "id": "f47248b8",
   "metadata": {},
   "source": [
    "## 4. Data Preprocessing Functions"
   ]
  },
  {
   "cell_type": "code",
   "execution_count": 120,
   "id": "4ca61a98",
   "metadata": {},
   "outputs": [],
   "source": [
    "def preprocess_text(text: str) -> str:\n",
    "    text = str(text).lower()\n",
    "    contractions = {\n",
    "        r\"\\bcan't\\b\": \"can not\", r\"\\bdon't\\b\": \"do not\", r\"\\bit's\\b\": \"it is\",\n",
    "        r\"\\bi'm\\b\": \"i am\", r\"\\bwe're\\b\": \"we are\", r\"\\byou're\\b\": \"you are\",\n",
    "        r\"\\bthey're\\b\": \"they are\", r\"\\bhe's\\b\": \"he is\", r\"\\bshe's\\b\": \"she is\",\n",
    "        r\"\\bwon't\\b\": \"will not\", r\"\\bwouldn't\\b\": \"would not\", r\"\\bshouldn't\\b\": \"should not\",\n",
    "        r\"\\bhasn't\\b\": \"has not\", r\"\\bhaven't\\b\": \"have not\", r\"\\bhadn't\\b\": \"had not\",\n",
    "        r\"\\bdoesn't\\b\": \"does not\", r\"\\bdidn't\\b\": \"did not\", r\"\\bwasn't\\b\": \"was not\",\n",
    "        r\"\\bwhat's\\b\": \"what is\", r\"\\bwhere's\\b\": \"where is\", r\"\\bwho's\\b\": \"who is\",\n",
    "        r\"\\bthere's\\b\": \"there is\", r\"\\blet's\\b\": \"let us\", r\"\\bthat's\\b\": \"that is\",\n",
    "        r\"\\bwho've\\b\": \"who have\", r\"\\bwho'll\\b\": \"who will\", r\"\\bwho'd\\b\": \"who would\",\n",
    "    }\n",
    "    for pat, rep in contractions.items():\n",
    "        text = re.sub(pat, rep, text)\n",
    "    text = re.sub(r'@\\w+', '@user', text)\n",
    "    text = re.sub(r'http\\S+|www\\.\\S+', 'httpurl', text)\n",
    "    text = html.unescape(text)\n",
    "    text = re.sub(r'(.)\\1{2,}', r'\\1\\1', text)\n",
    "    text = re.sub(r'#(\\w+)', r'\\1', text)\n",
    "    demoj = emoji.demojize(text)\n",
    "    demoj = demoj.replace(':', ' ').replace('_', ' ')\n",
    "    text = demoj\n",
    "    text = re.sub(r'\\s+', ' ', text).strip()\n",
    "    text = re.sub(r'(?<!!)\\\\!(?=\\s)', '', text) # Remove single '!' if followed by space, keep \"!!\"\n",
    "    text = re.sub(r'\\s+([.,!?\"])', r'\\1', text) # Remove spaces before punctuation\n",
    "    return text\n",
    "\n",
    "# --- Data Loading and Preprocessing Function ---\n",
    "def load_and_preprocess_data(\n",
    "    train_path: str,\n",
    "    test_path: str,\n",
    "    text_col: str,\n",
    "    label_col: str,\n",
    "    label_map: Dict[str, int],\n",
    "    test_labels_path: Optional[str] = None,  # now used\n",
    "    val_split: float = 0.1,\n",
    "    seed: int = 42\n",
    ") -> Tuple[pd.DataFrame, pd.DataFrame, Optional[pd.DataFrame]]:\n",
    "\n",
    "    # --- 1. Load train and test raw DataFrames ---\n",
    "    df_train = pd.read_csv(train_path, sep='\\t', dtype=str, encoding='utf-8', engine='python')\n",
    "    df_test  = pd.read_csv(test_path,  sep='\\t', dtype=str, encoding='utf-8', engine='python')\n",
    "\n",
    "    # 1b) If an external labels file exists, merge it in\n",
    "    if test_labels_path and os.path.exists(test_labels_path):\n",
    "        # OLID labels are in CSV format: id,label\n",
    "        sep = ',' if test_labels_path.lower().endswith('.csv') else '\\t'\n",
    "        df_labels = pd.read_csv(\n",
    "            test_labels_path,\n",
    "            sep=sep,\n",
    "            names=['id', label_col],  # CSV has no header\n",
    "            header=None,\n",
    "            dtype=str,\n",
    "            encoding='utf-8'\n",
    "        )\n",
    "        # assume both have an “id” column to join on\n",
    "        df_test = df_test.merge(df_labels[['id', label_col]], on='id', how='left')\n",
    "    if not os.path.exists(test_path):\n",
    "        print(f\"Warning: Test file {test_path} not found. Skipping test data loading.\")\n",
    "        df_test = None\n",
    "\n",
    "    # --- 2. Filter & map train labels ---\n",
    "    df_train = df_train[df_train[label_col].isin(label_map)].copy()\n",
    "    df_train['label'] = df_train[label_col].map(label_map).astype(int)\n",
    "\n",
    "    # --- 3. Clean text & drop empties ---\n",
    "    df_train['clean_text'] = df_train[text_col].map(preprocess_text)\n",
    "    before = len(df_train)\n",
    "    df_train = df_train[df_train['clean_text'].str.len().gt(0)]\n",
    "    print(f\"\\nDropped {before - len(df_train)} empty/invalid train rows\")\n",
    "\n",
    "    # --- 4. Process test similarly ---\n",
    "    df_test['clean_text'] = df_test[text_col].map(preprocess_text)\n",
    "\n",
    "    # Only filter/mapping if the label column exists (i.e., we merged correctly)\n",
    "    if label_col in df_test.columns:\n",
    "        df_test = df_test[df_test[label_col].isin(label_map)].copy()\n",
    "        df_test['label'] = df_test[label_col].map(label_map).astype(int)\n",
    "        \n",
    "    before_test = len(df_test)\n",
    "    df_test = df_test[df_test['clean_text'].str.len().gt(0)]\n",
    "    print(f\"Dropped {before_test - len(df_test)} empty/invalid test rows\")\n",
    "\n",
    "    # --- 5. Stratified train/val split ---\n",
    "    df_tr, df_val = train_test_split(\n",
    "        df_train[['clean_text','label']],\n",
    "        test_size=val_split,\n",
    "        stratify=df_train['label'],\n",
    "        random_state=seed\n",
    "    )\n",
    "    return df_tr.reset_index(drop=True), df_val.reset_index(drop=True), df_test.reset_index(drop=True)"
   ]
  },
  {
   "cell_type": "markdown",
   "id": "8128a706",
   "metadata": {},
   "source": [
    "## 5. Load Data, Preprocess, and Vectorize"
   ]
  },
  {
   "cell_type": "code",
   "execution_count": 121,
   "id": "6fac7fee",
   "metadata": {},
   "outputs": [
    {
     "name": "stdout",
     "output_type": "stream",
     "text": [
      "Loading and preprocessing data for ANN...\n",
      "\n",
      "Dropped 0 empty/invalid train rows\n",
      "Dropped 0 empty/invalid test rows\n",
      "TF-IDF Vectorizer fitted on training data. Vocab size: 10000\n",
      "X_train shape: (1921, 10000), X_val shape: (340, 10000), X_test shape: (288, 10000)\n",
      "Train: 1921 rows; Val: 340 rows; Test: 288\n",
      "Train label dist:\n",
      " label\n",
      "0    0.902655\n",
      "1    0.097345\n",
      "Name: proportion, dtype: float64\n",
      "Val   label dist:\n",
      " label\n",
      "0    0.902941\n",
      "1    0.097059\n",
      "Name: proportion, dtype: float64\n",
      "Test  label dist:\n",
      " label\n",
      "0    0.850694\n",
      "1    0.149306\n",
      "Name: proportion, dtype: float64\n",
      "TF-IDF vectorizer saved to ann_model_output/tfidf_vectorizer_HASOC.joblib\n"
     ]
    }
   ],
   "source": [
    "print(\"Loading and preprocessing data for ANN...\")\n",
    "df_train, df_val, df_test = load_and_preprocess_data(\n",
    "    train_path=TRAIN_FILE, test_path=TEST_FILE, text_col=TEXT_COLUMN,\n",
    "    label_col=LABEL_COLUMN, label_map=LABEL_MAP, test_labels_path=TEST_LABELS_FILE,\n",
    "    val_split=VAL_SPLIT_SIZE, seed=SEED\n",
    ")\n",
    "\n",
    "# TF-IDF Vectorization\n",
    "vectorizer = TfidfVectorizer(max_features=MAX_FEATURES, ngram_range=(1, 2), stop_words='english')\n",
    "\n",
    "# Fit on training data ONLY, then transform all sets\n",
    "if not df_train.empty:\n",
    "    X_train_tfidf = vectorizer.fit_transform(df_train['clean_text']).toarray()\n",
    "    y_train = df_train['label'].values\n",
    "else:\n",
    "    X_train_tfidf = np.array([])\n",
    "    y_train = np.array([])\n",
    "\n",
    "if not df_val.empty:\n",
    "    X_val_tfidf = vectorizer.transform(df_val['clean_text']).toarray()\n",
    "    y_val = df_val['label'].values\n",
    "else:\n",
    "    X_val_tfidf = np.array([])\n",
    "    y_val = np.array([])\n",
    "\n",
    "if df_test is not None and not df_test.empty:\n",
    "    X_test_tfidf = vectorizer.transform(df_test['clean_text']).toarray()\n",
    "    if 'label' in df_test.columns and df_test['label'].notna().any():\n",
    "        y_test = df_test['label'].dropna().astype(int).values # Ensure labels are int and dropna before converting\n",
    "        # Align X_test_tfidf if y_test was filtered due to NaNs\n",
    "        if len(y_test) != len(X_test_tfidf):\n",
    "             X_test_tfidf = vectorizer.transform(df_test.loc[df_test['label'].notna(), 'clean_text']).toarray()\n",
    "    else:\n",
    "        y_test = None\n",
    "else:\n",
    "    X_test_tfidf = np.array([])\n",
    "    y_test = None\n",
    "\n",
    "print(f\"TF-IDF Vectorizer fitted on training data. Vocab size: {len(vectorizer.vocabulary_) if hasattr(vectorizer, 'vocabulary_') else 'N/A (no train data)'}\")\n",
    "print(f\"X_train shape: {X_train_tfidf.shape}, X_val shape: {X_val_tfidf.shape}, X_test shape: {X_test_tfidf.shape if X_test_tfidf.size > 0 else 'N/A'}\")\n",
    "\n",
    "print(f\"Train: {len(df_train)} rows; Val: {len(df_val)} rows; Test: {len(df_test) if df_test is not None else 'N/A'}\")\n",
    "if not df_train.empty: print(\"Train label dist:\\n\", df_train['label'].value_counts(normalize=True))\n",
    "if not df_val.empty: print(\"Val   label dist:\\n\", df_val['label'].value_counts(normalize=True))\n",
    "\n",
    "if y_test is not None:\n",
    "    # Need to get the labels from df_test for the rows that correspond to X_test_tfidf\n",
    "    if 'label' in df_test.columns and df_test['label'].notna().any():\n",
    "        test_label_dist_df = df_test[df_test['label'].notna()].copy()\n",
    "        test_label_dist_df['label'] = test_label_dist_df['label'].astype(int) # Ensure it's int for value_counts\n",
    "        print(\"Test  label dist:\\n\", test_label_dist_df['label'].value_counts(normalize=True))\n",
    "    else:\n",
    "         print(\"Test label dist: N/A (test set may be unlabeled or empty after processing)\")\n",
    "else:\n",
    "    print(\"Test  label dist: N/A (test set may be unlabeled or empty after processing)\")\n",
    "\n",
    "\n",
    "# Save the vectorizer\n",
    "vectorizer_path = os.path.join(OUTPUT_DIR, f'tfidf_vectorizer_{DATASET_TYPE}.joblib')\n",
    "if hasattr(vectorizer, 'vocabulary_') and vectorizer.vocabulary_: # only save if fitted\n",
    "    joblib.dump(vectorizer, vectorizer_path)\n",
    "    print(f\"TF-IDF vectorizer saved to {vectorizer_path}\")\n",
    "else:\n",
    "    print(\"TF-IDF vectorizer not saved as it was not fitted (likely no training data).\")"
   ]
  },
  {
   "cell_type": "markdown",
   "id": "b2ee86b2",
   "metadata": {},
   "source": [
    "## 6. PyTorch Dataset and DataLoader for ANN"
   ]
  },
  {
   "cell_type": "code",
   "execution_count": 122,
   "id": "392b133b",
   "metadata": {},
   "outputs": [
    {
     "name": "stdout",
     "output_type": "stream",
     "text": [
      "Train loader: 1921 samples\n",
      "Val loader: 340 samples\n",
      "Test loader: 288 samples (labeled)\n"
     ]
    }
   ],
   "source": [
    "class ANNClassificationDataset(Dataset):\n",
    "    def __init__(self, features, labels):\n",
    "        self.features = torch.tensor(features, dtype=torch.float32)\n",
    "        if labels is not None and len(labels) > 0 : # Check if labels exist and are not empty\n",
    "            self.labels = torch.tensor(labels, dtype=torch.long) # CrossEntropyLoss expects long\n",
    "        else:\n",
    "            self.labels = None\n",
    "\n",
    "    def __len__(self):\n",
    "        return len(self.features)\n",
    "\n",
    "    def __getitem__(self, idx):\n",
    "        item = {'features': self.features[idx]}\n",
    "        if self.labels is not None:\n",
    "            item['labels'] = self.labels[idx]\n",
    "        return item\n",
    "\n",
    "num_workers = 0     # 1 # min(2, os.cpu_count() or 1)\n",
    "pin_memory  = torch.cuda.is_available()\n",
    "\n",
    "if X_train_tfidf.size > 0:\n",
    "    train_ann_dataset = ANNClassificationDataset(X_train_tfidf, y_train)\n",
    "    train_ann_loader = DataLoader(train_ann_dataset, batch_size=BATCH_SIZE, shuffle=True, num_workers=num_workers, pin_memory=pin_memory)\n",
    "    print(f\"Train loader: {len(train_ann_dataset)} samples\")\n",
    "else:\n",
    "    train_ann_loader = None\n",
    "    print(\"Train loader: No training data.\")\n",
    "\n",
    "\n",
    "if X_val_tfidf.size > 0:\n",
    "    val_ann_dataset = ANNClassificationDataset(X_val_tfidf, y_val)\n",
    "    val_ann_loader = DataLoader(val_ann_dataset, batch_size=BATCH_SIZE, shuffle=False, num_workers=num_workers, pin_memory=pin_memory)\n",
    "    print(f\"Val loader: {len(val_ann_dataset)} samples\")\n",
    "else:\n",
    "    val_ann_loader = None\n",
    "    print(\"Val loader: No validation data.\")\n",
    "\n",
    "\n",
    "test_ann_loader = None\n",
    "if X_test_tfidf.size > 0 and y_test is not None and len(y_test) == len(X_test_tfidf):\n",
    "    test_ann_dataset = ANNClassificationDataset(X_test_tfidf, y_test)\n",
    "    test_ann_loader = DataLoader(test_ann_dataset, batch_size=BATCH_SIZE, shuffle=False, num_workers=num_workers, pin_memory=pin_memory)\n",
    "    print(f\"Test loader: {len(test_ann_dataset)} samples (labeled)\")\n",
    "elif X_test_tfidf.size > 0:\n",
    "    # For inference on unlabeled test data\n",
    "    test_ann_dataset_unlabeled = ANNClassificationDataset(X_test_tfidf, None)\n",
    "    test_ann_loader = DataLoader(test_ann_dataset_unlabeled, batch_size=BATCH_SIZE, shuffle=False, num_workers=num_workers, pin_memory=pin_memory)\n",
    "    print(f\"Test loader: {len(test_ann_dataset_unlabeled)} samples (unlabeled for inference)\")\n",
    "else:\n",
    "    print(\"No test data to create a loader for.\")"
   ]
  },
  {
   "cell_type": "markdown",
   "id": "ef81126d",
   "metadata": {},
   "source": [
    "## 7. ANN Model Definition"
   ]
  },
  {
   "cell_type": "code",
   "execution_count": 123,
   "id": "b420f0b4",
   "metadata": {},
   "outputs": [
    {
     "name": "stdout",
     "output_type": "stream",
     "text": [
      "SimpleANN(\n",
      "  (network): Sequential(\n",
      "    (0): Linear(in_features=10000, out_features=256, bias=True)\n",
      "    (1): ReLU()\n",
      "    (2): Dropout(p=0.32723932556190316, inplace=False)\n",
      "    (3): Linear(in_features=256, out_features=128, bias=True)\n",
      "    (4): ReLU()\n",
      "    (5): Dropout(p=0.32723932556190316, inplace=False)\n",
      "    (6): Linear(in_features=128, out_features=2, bias=True)\n",
      "  )\n",
      ")\n",
      "ANN output dimension: 2\n"
     ]
    }
   ],
   "source": [
    "class SimpleANN(nn.Module):\n",
    "    def __init__(self, input_dim, hidden_dim, output_dim, num_hidden_layers, dropout_prob):\n",
    "        super(SimpleANN, self).__init__()\n",
    "        layers = []\n",
    "        current_dim = input_dim\n",
    "        \n",
    "        if num_hidden_layers == 0: # Direct linear model if no hidden layers\n",
    "            layers.append(nn.Linear(current_dim, output_dim))\n",
    "        else:\n",
    "            # First hidden layer\n",
    "            layers.append(nn.Linear(current_dim, hidden_dim))\n",
    "            layers.append(nn.ReLU())\n",
    "            layers.append(nn.Dropout(dropout_prob))\n",
    "            current_dim = hidden_dim\n",
    "\n",
    "            # Subsequent hidden layers (if num_hidden_layers > 1)\n",
    "            for _ in range(num_hidden_layers - 1):\n",
    "                next_hidden_dim = hidden_dim // 2\n",
    "                if next_hidden_dim < output_dim and num_hidden_layers > 1 : # Ensure hidden dim doesn't get too small\n",
    "                     next_hidden_dim = max(output_dim, 16) # or some other sensible minimum\n",
    "                \n",
    "                layers.append(nn.Linear(current_dim, next_hidden_dim))\n",
    "                layers.append(nn.ReLU())\n",
    "                layers.append(nn.Dropout(dropout_prob))\n",
    "                current_dim = next_hidden_dim\n",
    "                hidden_dim = next_hidden_dim # for the next iteration\n",
    "            \n",
    "            # Output layer\n",
    "            layers.append(nn.Linear(current_dim, output_dim))\n",
    "        \n",
    "        # For CrossEntropyLoss, the model should output raw logits.\n",
    "        # No final Sigmoid (for BCELoss) or Softmax (for NLLLoss after LogSoftmax).\n",
    "        self.network = nn.Sequential(*layers)\n",
    "\n",
    "    def forward(self, x):\n",
    "        return self.network(x)\n",
    "\n",
    "# Determine output_dim based on NUM_LABELS\n",
    "# If NUM_LABELS is 2, it's binary. CrossEntropyLoss can handle 2 output neurons or 1 with BCELossWithLogits.\n",
    "# For consistency with multi-class, let's use NUM_LABELS output neurons for CrossEntropyLoss.\n",
    "actual_output_dim_ann = NUM_LABELS if NUM_LABELS > 2 else (1 if NUM_LABELS == 2 else NUM_LABELS) # For BCELossWithLogits with binary\n",
    "if NUM_LABELS == 2: actual_output_dim_ann = 2 # For CrossEntropyLoss with binary\n",
    "\n",
    "ann_model = SimpleANN(\n",
    "    input_dim=MAX_FEATURES, \n",
    "    hidden_dim=ANN_HIDDEN_DIM, \n",
    "    output_dim=actual_output_dim_ann, \n",
    "    num_hidden_layers=ANN_LAYERS, # This is the number of *hidden* layers\n",
    "    dropout_prob=DROPOUT_PROB\n",
    ").to(device)\n",
    "\n",
    "print(ann_model)\n",
    "print(f\"ANN output dimension: {actual_output_dim_ann}\")"
   ]
  },
  {
   "cell_type": "markdown",
   "id": "a95d62c3",
   "metadata": {},
   "source": [
    "## 8. Training Loop Functions for ANN"
   ]
  },
  {
   "cell_type": "code",
   "execution_count": 124,
   "id": "197ec608",
   "metadata": {},
   "outputs": [],
   "source": [
    "def train_ann_epoch(model, data_loader, loss_fn, optimizer, device, scaler, scheduler=None, accumulation_steps=1):\n",
    "    model.train()\n",
    "    total_loss = 0\n",
    "    correct_predictions = 0\n",
    "    total_samples = 0\n",
    "\n",
    "    if accumulation_steps > 1:\n",
    "        optimizer.zero_grad(set_to_none=True)\n",
    "\n",
    "    for i, batch in enumerate(tqdm(data_loader, desc=\"Training ANN\", unit=\"batch\", leave=False)):\n",
    "        features = batch['features'].to(device)\n",
    "        labels = batch['labels'].to(device)\n",
    "        batch_size_actual = features.size(0)\n",
    "\n",
    "        if accumulation_steps == 1 or (i % accumulation_steps == 0) :\n",
    "            optimizer.zero_grad(set_to_none=True)\n",
    "\n",
    "        with autocast(device_type=device.type, enabled=(device.type == 'cuda')):\n",
    "            outputs = model(features)\n",
    "            # If binary classification and output_dim is 1 (for BCELossWithLogits)\n",
    "            if outputs.shape[1] == 1 and NUM_LABELS == 2: # Assuming binary implies NUM_LABELS=2\n",
    "                loss = loss_fn(outputs.squeeze(1), labels.float()) # BCELossWithLogits expects float labels\n",
    "            else: # Multi-class or binary with 2 output neurons for CrossEntropyLoss\n",
    "                loss = loss_fn(outputs, labels)\n",
    "            \n",
    "            if accumulation_steps > 1:\n",
    "                loss = loss / accumulation_steps\n",
    "        \n",
    "        scaler.scale(loss).backward()\n",
    "\n",
    "        if (i + 1) % accumulation_steps == 0 or (i + 1) == len(data_loader):\n",
    "            scaler.unscale_(optimizer)\n",
    "            nn.utils.clip_grad_norm_(model.parameters(), max_norm=1.0)\n",
    "            scaler.step(optimizer)\n",
    "            scaler.update()\n",
    "            if scheduler: scheduler.step()\n",
    "            if accumulation_steps > 1 and (i + 1) != len(data_loader):\n",
    "                 optimizer.zero_grad(set_to_none=True)\n",
    "        \n",
    "        if outputs.shape[1] == 1 and NUM_LABELS == 2:\n",
    "            preds = (torch.sigmoid(outputs.squeeze(1)) > 0.5).long()\n",
    "        else:\n",
    "            preds = torch.argmax(outputs, dim=1)\n",
    "            \n",
    "        correct_predictions += torch.sum(preds == labels).item()\n",
    "        # De-normalize loss if accumulated\n",
    "        total_loss += loss.item() * batch_size_actual * (accumulation_steps if accumulation_steps > 1 and loss.item() != 0 else 1)\n",
    "        total_samples += batch_size_actual\n",
    "        \n",
    "        del features, labels, outputs, loss, preds\n",
    "        if device.type == 'cuda': torch.cuda.empty_cache()\n",
    "\n",
    "    avg_loss = total_loss / total_samples if total_samples > 0 else 0\n",
    "    avg_acc = correct_predictions / total_samples if total_samples > 0 else 0\n",
    "    return avg_loss, avg_acc\n",
    "\n",
    "def eval_ann_model(model, data_loader, loss_fn, device):\n",
    "    model.eval()\n",
    "    total_loss = 0\n",
    "    correct_predictions = 0\n",
    "    total_samples = 0\n",
    "    all_preds = []\n",
    "    all_labels = []\n",
    "\n",
    "    with torch.no_grad():\n",
    "        for batch in tqdm(data_loader, desc=\"Evaluating ANN\", unit=\"batch\", leave=False):\n",
    "            features = batch['features'].to(device)\n",
    "            labels = batch['labels'].to(device)\n",
    "            batch_size_actual = features.size(0)\n",
    "\n",
    "            with autocast(device_type=device.type, enabled=(device.type == 'cuda')):\n",
    "                outputs = model(features)\n",
    "                if outputs.shape[1] == 1 and NUM_LABELS == 2:\n",
    "                     loss = loss_fn(outputs.squeeze(1), labels.float())\n",
    "                else:\n",
    "                     loss = loss_fn(outputs, labels)\n",
    "            \n",
    "            if outputs.shape[1] == 1 and NUM_LABELS == 2:\n",
    "                preds = (torch.sigmoid(outputs.squeeze(1)) > 0.5).long()\n",
    "            else:\n",
    "                preds = torch.argmax(outputs, dim=1)\n",
    "\n",
    "            correct_predictions += torch.sum(preds == labels).item()\n",
    "            total_loss += loss.item() * batch_size_actual\n",
    "            total_samples += batch_size_actual\n",
    "            all_preds.extend(preds.cpu().tolist())\n",
    "            all_labels.extend(labels.cpu().tolist())\n",
    "            \n",
    "            del features, labels, outputs, loss, preds\n",
    "            if device.type == 'cuda': torch.cuda.empty_cache()\n",
    "\n",
    "    avg_loss = total_loss / total_samples if total_samples > 0 else 0\n",
    "    # Ensure all_labels and all_preds are not empty before calling metrics\n",
    "    if not all_labels or not all_preds:\n",
    "        return avg_loss, 0, 0, 0, 0, [], []\n",
    "\n",
    "    accuracy = accuracy_score(all_labels, all_preds)\n",
    "    f1 = f1_score(all_labels, all_preds, average='weighted', zero_division=0)\n",
    "    precision = precision_score(all_labels, all_preds, average='weighted', zero_division=0)\n",
    "    recall = recall_score(all_labels, all_preds, average='weighted', zero_division=0)\n",
    "    return avg_loss, accuracy, f1, precision, recall, all_labels, all_preds"
   ]
  },
  {
   "cell_type": "markdown",
   "id": "b5f49249",
   "metadata": {},
   "source": [
    "## 9. ANN Training and Validation Driver"
   ]
  },
  {
   "cell_type": "code",
   "execution_count": 125,
   "id": "6e448fe3",
   "metadata": {},
   "outputs": [
    {
     "name": "stdout",
     "output_type": "stream",
     "text": [
      "Computing class weights for ANN...\n",
      "Class weights: {np.int64(0): np.float64(0.553921568627451), np.int64(1): np.float64(5.136363636363637)}\n",
      "Using CrossEntropyLoss.\n",
      "Starting ANN training for 13 epochs...\n",
      "\n",
      "Epoch 1/13\n"
     ]
    },
    {
     "data": {
      "application/vnd.jupyter.widget-view+json": {
       "model_id": "43f75359df4040fc999a9bfda69c0d4b",
       "version_major": 2,
       "version_minor": 0
      },
      "text/plain": [
       "Training ANN:   0%|          | 0/31 [00:00<?, ?batch/s]"
      ]
     },
     "metadata": {},
     "output_type": "display_data"
    },
    {
     "name": "stdout",
     "output_type": "stream",
     "text": [
      "Train -> loss: 0.6920, acc: 0.9027\n"
     ]
    },
    {
     "data": {
      "application/vnd.jupyter.widget-view+json": {
       "model_id": "f9cd7c1dda7141a2a53c9c66319c9467",
       "version_major": 2,
       "version_minor": 0
      },
      "text/plain": [
       "Evaluating ANN:   0%|          | 0/6 [00:00<?, ?batch/s]"
      ]
     },
     "metadata": {},
     "output_type": "display_data"
    },
    {
     "name": "stdout",
     "output_type": "stream",
     "text": [
      "Val   -> loss: 0.6912, acc: 0.9029, f1: 0.8569, prec: 0.8153, rec: 0.9029\n",
      "✔️ New best ANN model saved.\n",
      "Epoch 1 took 0.30 seconds.\n",
      "\n",
      "Epoch 2/13\n"
     ]
    },
    {
     "data": {
      "application/vnd.jupyter.widget-view+json": {
       "model_id": "4b41ca0630a042b79b3f9d6ab703087c",
       "version_major": 2,
       "version_minor": 0
      },
      "text/plain": [
       "Training ANN:   0%|          | 0/31 [00:00<?, ?batch/s]"
      ]
     },
     "metadata": {},
     "output_type": "display_data"
    },
    {
     "name": "stdout",
     "output_type": "stream",
     "text": [
      "Train -> loss: 0.6910, acc: 0.9027\n"
     ]
    },
    {
     "data": {
      "application/vnd.jupyter.widget-view+json": {
       "model_id": "12829e62325543b79f711a24f8ebf0cb",
       "version_major": 2,
       "version_minor": 0
      },
      "text/plain": [
       "Evaluating ANN:   0%|          | 0/6 [00:00<?, ?batch/s]"
      ]
     },
     "metadata": {},
     "output_type": "display_data"
    },
    {
     "name": "stdout",
     "output_type": "stream",
     "text": [
      "Val   -> loss: 0.6905, acc: 0.9029, f1: 0.8569, prec: 0.8153, rec: 0.9029\n",
      "✔️ New best ANN model saved.\n",
      "Epoch 2 took 0.22 seconds.\n",
      "\n",
      "Epoch 3/13\n"
     ]
    },
    {
     "data": {
      "application/vnd.jupyter.widget-view+json": {
       "model_id": "8a0d622d2d0a4b45aa242f716f17d1c2",
       "version_major": 2,
       "version_minor": 0
      },
      "text/plain": [
       "Training ANN:   0%|          | 0/31 [00:00<?, ?batch/s]"
      ]
     },
     "metadata": {},
     "output_type": "display_data"
    },
    {
     "name": "stdout",
     "output_type": "stream",
     "text": [
      "Train -> loss: 0.6873, acc: 0.9027\n"
     ]
    },
    {
     "data": {
      "application/vnd.jupyter.widget-view+json": {
       "model_id": "fc47f8be869f46a19e9ecf46f85a302c",
       "version_major": 2,
       "version_minor": 0
      },
      "text/plain": [
       "Evaluating ANN:   0%|          | 0/6 [00:00<?, ?batch/s]"
      ]
     },
     "metadata": {},
     "output_type": "display_data"
    },
    {
     "name": "stdout",
     "output_type": "stream",
     "text": [
      "Val   -> loss: 0.6887, acc: 0.9029, f1: 0.8569, prec: 0.8153, rec: 0.9029\n",
      "✔️ New best ANN model saved.\n",
      "Epoch 3 took 0.19 seconds.\n",
      "\n",
      "Epoch 4/13\n"
     ]
    },
    {
     "data": {
      "application/vnd.jupyter.widget-view+json": {
       "model_id": "f8f56062e5664e72aaaaf93b9aa24791",
       "version_major": 2,
       "version_minor": 0
      },
      "text/plain": [
       "Training ANN:   0%|          | 0/31 [00:00<?, ?batch/s]"
      ]
     },
     "metadata": {},
     "output_type": "display_data"
    },
    {
     "name": "stdout",
     "output_type": "stream",
     "text": [
      "Train -> loss: 0.6799, acc: 0.9027\n"
     ]
    },
    {
     "data": {
      "application/vnd.jupyter.widget-view+json": {
       "model_id": "4c6331ec68074aa3b73dbf835ba2ef17",
       "version_major": 2,
       "version_minor": 0
      },
      "text/plain": [
       "Evaluating ANN:   0%|          | 0/6 [00:00<?, ?batch/s]"
      ]
     },
     "metadata": {},
     "output_type": "display_data"
    },
    {
     "name": "stdout",
     "output_type": "stream",
     "text": [
      "Val   -> loss: 0.6853, acc: 0.9029, f1: 0.8569, prec: 0.8153, rec: 0.9029\n",
      "✔️ New best ANN model saved.\n",
      "Epoch 4 took 0.19 seconds.\n",
      "\n",
      "Epoch 5/13\n"
     ]
    },
    {
     "data": {
      "application/vnd.jupyter.widget-view+json": {
       "model_id": "035695e099e54753a1f7d31f651bcfc7",
       "version_major": 2,
       "version_minor": 0
      },
      "text/plain": [
       "Training ANN:   0%|          | 0/31 [00:00<?, ?batch/s]"
      ]
     },
     "metadata": {},
     "output_type": "display_data"
    },
    {
     "name": "stdout",
     "output_type": "stream",
     "text": [
      "Train -> loss: 0.6641, acc: 0.9053\n"
     ]
    },
    {
     "data": {
      "application/vnd.jupyter.widget-view+json": {
       "model_id": "324118f84b6f479e9c590e81f50bf241",
       "version_major": 2,
       "version_minor": 0
      },
      "text/plain": [
       "Evaluating ANN:   0%|          | 0/6 [00:00<?, ?batch/s]"
      ]
     },
     "metadata": {},
     "output_type": "display_data"
    },
    {
     "name": "stdout",
     "output_type": "stream",
     "text": [
      "Val   -> loss: 0.6790, acc: 0.9059, f1: 0.8639, prec: 0.9148, rec: 0.9059\n",
      "✔️ New best ANN model saved.\n",
      "Epoch 5 took 0.18 seconds.\n",
      "\n",
      "Epoch 6/13\n"
     ]
    },
    {
     "data": {
      "application/vnd.jupyter.widget-view+json": {
       "model_id": "502bd0d3ffe74cc4a9dbe9031bf9fa0b",
       "version_major": 2,
       "version_minor": 0
      },
      "text/plain": [
       "Training ANN:   0%|          | 0/31 [00:00<?, ?batch/s]"
      ]
     },
     "metadata": {},
     "output_type": "display_data"
    },
    {
     "name": "stdout",
     "output_type": "stream",
     "text": [
      "Train -> loss: 0.6334, acc: 0.9401\n"
     ]
    },
    {
     "data": {
      "application/vnd.jupyter.widget-view+json": {
       "model_id": "ff896a50ccc9456d93b967c80f836402",
       "version_major": 2,
       "version_minor": 0
      },
      "text/plain": [
       "Evaluating ANN:   0%|          | 0/6 [00:00<?, ?batch/s]"
      ]
     },
     "metadata": {},
     "output_type": "display_data"
    },
    {
     "name": "stdout",
     "output_type": "stream",
     "text": [
      "Val   -> loss: 0.6710, acc: 0.8912, f1: 0.8558, prec: 0.8326, rec: 0.8912\n",
      "✔️ New best ANN model saved.\n",
      "Epoch 6 took 0.18 seconds.\n",
      "\n",
      "Epoch 7/13\n"
     ]
    },
    {
     "data": {
      "application/vnd.jupyter.widget-view+json": {
       "model_id": "90872fefcf9a4e6b8308b5d3a77f1ad8",
       "version_major": 2,
       "version_minor": 0
      },
      "text/plain": [
       "Training ANN:   0%|          | 0/31 [00:00<?, ?batch/s]"
      ]
     },
     "metadata": {},
     "output_type": "display_data"
    },
    {
     "name": "stdout",
     "output_type": "stream",
     "text": [
      "Train -> loss: 0.5813, acc: 0.9761\n"
     ]
    },
    {
     "data": {
      "application/vnd.jupyter.widget-view+json": {
       "model_id": "379abe909dde4f6ca7d0959dc215176f",
       "version_major": 2,
       "version_minor": 0
      },
      "text/plain": [
       "Evaluating ANN:   0%|          | 0/6 [00:00<?, ?batch/s]"
      ]
     },
     "metadata": {},
     "output_type": "display_data"
    },
    {
     "name": "stdout",
     "output_type": "stream",
     "text": [
      "Val   -> loss: 0.6596, acc: 0.8618, f1: 0.8396, prec: 0.8198, rec: 0.8618\n",
      "✔️ New best ANN model saved.\n",
      "Epoch 7 took 0.17 seconds.\n",
      "\n",
      "Epoch 8/13\n"
     ]
    },
    {
     "data": {
      "application/vnd.jupyter.widget-view+json": {
       "model_id": "641b2ffe4cf94956b2d3c08063af0ff6",
       "version_major": 2,
       "version_minor": 0
      },
      "text/plain": [
       "Training ANN:   0%|          | 0/31 [00:00<?, ?batch/s]"
      ]
     },
     "metadata": {},
     "output_type": "display_data"
    },
    {
     "name": "stdout",
     "output_type": "stream",
     "text": [
      "Train -> loss: 0.5056, acc: 0.9802\n"
     ]
    },
    {
     "data": {
      "application/vnd.jupyter.widget-view+json": {
       "model_id": "31e5ef03ca13433ab3b05b36b132e45d",
       "version_major": 2,
       "version_minor": 0
      },
      "text/plain": [
       "Evaluating ANN:   0%|          | 0/6 [00:00<?, ?batch/s]"
      ]
     },
     "metadata": {},
     "output_type": "display_data"
    },
    {
     "name": "stdout",
     "output_type": "stream",
     "text": [
      "Val   -> loss: 0.6566, acc: 0.8588, f1: 0.8380, prec: 0.8192, rec: 0.8588\n",
      "✔️ New best ANN model saved.\n",
      "Epoch 8 took 0.18 seconds.\n",
      "\n",
      "Epoch 9/13\n"
     ]
    },
    {
     "data": {
      "application/vnd.jupyter.widget-view+json": {
       "model_id": "499f6552daa146598ccd3ac6a67af3bf",
       "version_major": 2,
       "version_minor": 0
      },
      "text/plain": [
       "Training ANN:   0%|          | 0/31 [00:00<?, ?batch/s]"
      ]
     },
     "metadata": {},
     "output_type": "display_data"
    },
    {
     "name": "stdout",
     "output_type": "stream",
     "text": [
      "Train -> loss: 0.4127, acc: 0.9802\n"
     ]
    },
    {
     "data": {
      "application/vnd.jupyter.widget-view+json": {
       "model_id": "a06bc3b4262a4228855a08bd99b9839f",
       "version_major": 2,
       "version_minor": 0
      },
      "text/plain": [
       "Evaluating ANN:   0%|          | 0/6 [00:00<?, ?batch/s]"
      ]
     },
     "metadata": {},
     "output_type": "display_data"
    },
    {
     "name": "stdout",
     "output_type": "stream",
     "text": [
      "Val   -> loss: 0.6709, acc: 0.8559, f1: 0.8364, prec: 0.8186, rec: 0.8559\n",
      "⏳ No improvement for ANN: 1/5\n",
      "Epoch 9 took 0.16 seconds.\n",
      "\n",
      "Epoch 10/13\n"
     ]
    },
    {
     "data": {
      "application/vnd.jupyter.widget-view+json": {
       "model_id": "0ff1c99eaa084691b460cd8700e6a90d",
       "version_major": 2,
       "version_minor": 0
      },
      "text/plain": [
       "Training ANN:   0%|          | 0/31 [00:00<?, ?batch/s]"
      ]
     },
     "metadata": {},
     "output_type": "display_data"
    },
    {
     "name": "stdout",
     "output_type": "stream",
     "text": [
      "Train -> loss: 0.3188, acc: 0.9828\n"
     ]
    },
    {
     "data": {
      "application/vnd.jupyter.widget-view+json": {
       "model_id": "56e980afae87463e855acdad71eb668a",
       "version_major": 2,
       "version_minor": 0
      },
      "text/plain": [
       "Evaluating ANN:   0%|          | 0/6 [00:00<?, ?batch/s]"
      ]
     },
     "metadata": {},
     "output_type": "display_data"
    },
    {
     "name": "stdout",
     "output_type": "stream",
     "text": [
      "Val   -> loss: 0.7060, acc: 0.8500, f1: 0.8363, prec: 0.8237, rec: 0.8500\n",
      "⏳ No improvement for ANN: 2/5\n",
      "Epoch 10 took 0.16 seconds.\n",
      "\n",
      "Epoch 11/13\n"
     ]
    },
    {
     "data": {
      "application/vnd.jupyter.widget-view+json": {
       "model_id": "2ef8cf658e304b5b95eea90f0e243c72",
       "version_major": 2,
       "version_minor": 0
      },
      "text/plain": [
       "Training ANN:   0%|          | 0/31 [00:00<?, ?batch/s]"
      ]
     },
     "metadata": {},
     "output_type": "display_data"
    },
    {
     "name": "stdout",
     "output_type": "stream",
     "text": [
      "Train -> loss: 0.2347, acc: 0.9844\n"
     ]
    },
    {
     "data": {
      "application/vnd.jupyter.widget-view+json": {
       "model_id": "2d3ab39331a44f25b7ccc4822cfcf4bd",
       "version_major": 2,
       "version_minor": 0
      },
      "text/plain": [
       "Evaluating ANN:   0%|          | 0/6 [00:00<?, ?batch/s]"
      ]
     },
     "metadata": {},
     "output_type": "display_data"
    },
    {
     "name": "stdout",
     "output_type": "stream",
     "text": [
      "Val   -> loss: 0.7516, acc: 0.8471, f1: 0.8375, prec: 0.8286, rec: 0.8471\n",
      "⏳ No improvement for ANN: 3/5\n",
      "Epoch 11 took 0.16 seconds.\n",
      "\n",
      "Epoch 12/13\n"
     ]
    },
    {
     "data": {
      "application/vnd.jupyter.widget-view+json": {
       "model_id": "a254b9a7887a4565a454253425f22263",
       "version_major": 2,
       "version_minor": 0
      },
      "text/plain": [
       "Training ANN:   0%|          | 0/31 [00:00<?, ?batch/s]"
      ]
     },
     "metadata": {},
     "output_type": "display_data"
    },
    {
     "name": "stdout",
     "output_type": "stream",
     "text": [
      "Train -> loss: 0.1700, acc: 0.9849\n"
     ]
    },
    {
     "data": {
      "application/vnd.jupyter.widget-view+json": {
       "model_id": "df3ee4da67e8465e9927103d88ba24ab",
       "version_major": 2,
       "version_minor": 0
      },
      "text/plain": [
       "Evaluating ANN:   0%|          | 0/6 [00:00<?, ?batch/s]"
      ]
     },
     "metadata": {},
     "output_type": "display_data"
    },
    {
     "name": "stdout",
     "output_type": "stream",
     "text": [
      "Val   -> loss: 0.8301, acc: 0.8500, f1: 0.8392, prec: 0.8294, rec: 0.8500\n",
      "⏳ No improvement for ANN: 4/5\n",
      "Epoch 12 took 0.16 seconds.\n",
      "\n",
      "Epoch 13/13\n"
     ]
    },
    {
     "data": {
      "application/vnd.jupyter.widget-view+json": {
       "model_id": "768cd2f3ee16452d9c3d7d251d3ab46a",
       "version_major": 2,
       "version_minor": 0
      },
      "text/plain": [
       "Training ANN:   0%|          | 0/31 [00:00<?, ?batch/s]"
      ]
     },
     "metadata": {},
     "output_type": "display_data"
    },
    {
     "name": "stdout",
     "output_type": "stream",
     "text": [
      "Train -> loss: 0.1224, acc: 0.9875\n"
     ]
    },
    {
     "data": {
      "application/vnd.jupyter.widget-view+json": {
       "model_id": "ac0bf3d7bb2944a28fc0b682c854ab2e",
       "version_major": 2,
       "version_minor": 0
      },
      "text/plain": [
       "Evaluating ANN:   0%|          | 0/6 [00:00<?, ?batch/s]"
      ]
     },
     "metadata": {},
     "output_type": "display_data"
    },
    {
     "name": "stdout",
     "output_type": "stream",
     "text": [
      "Val   -> loss: 0.9020, acc: 0.8500, f1: 0.8392, prec: 0.8294, rec: 0.8500\n",
      "⏳ No improvement for ANN: 5/5\n",
      "Epoch 13 took 0.16 seconds.\n",
      "\n",
      "Total ANN training time: 2.43 seconds.\n",
      "\n",
      "Loading best ANN model state from epoch 8 for final evaluation and saving...\n",
      "ANN Training complete.\n"
     ]
    }
   ],
   "source": [
    "if train_ann_loader: # Proceed only if there is training data\n",
    "    print(\"Computing class weights for ANN...\")\n",
    "    classes_ann = np.unique(y_train)\n",
    "    if len(classes_ann) > 1: # Ensure there's more than one class for balancing\n",
    "        weights_ann = compute_class_weight(class_weight='balanced', classes=classes_ann, y=y_train)\n",
    "        class_weights_ann = torch.tensor(weights_ann, dtype=torch.float).to(device)\n",
    "        print(\"Class weights:\", dict(zip(classes_ann, weights_ann)))\n",
    "    else:\n",
    "        print(\"Only one class in training data or no data. Not using class weights.\")\n",
    "        class_weights_ann = None\n",
    "\n",
    "    # Loss function choice\n",
    "    if actual_output_dim_ann == 1 and NUM_LABELS == 2: # Binary with single output\n",
    "        loss_fn_ann = nn.BCEWithLogitsLoss(weight=class_weights_ann[1] if class_weights_ann is not None and len(class_weights_ann)==2 else None).to(device)\n",
    "        print(\"Using BCEWithLogitsLoss for binary classification.\")\n",
    "    else: # Multi-class or binary with NUM_LABELS output neurons\n",
    "        loss_fn_ann = nn.CrossEntropyLoss(weight=class_weights_ann).to(device)\n",
    "        print(\"Using CrossEntropyLoss.\")\n",
    "        \n",
    "    optimizer_ann = AdamW(ann_model.parameters(), lr=LEARNING_RATE, weight_decay=WEIGHT_DECAY)\n",
    "    scaler_ann = GradScaler(enabled=(device.type == 'cuda'))\n",
    "    scheduler_ann = None # Or define one: torch.optim.lr_scheduler.ReduceLROnPlateau(optimizer_ann, 'min', patience=2, factor=0.5)\n",
    "\n",
    "    history_ann = {'train_loss': [], 'train_acc': [], 'val_loss': [], 'val_acc': [], 'val_f1': []}\n",
    "    best_val_loss_ann = float('inf')\n",
    "    epochs_no_improve_ann = 0\n",
    "    best_model_state_ann = None\n",
    "    best_epoch_ann = 0\n",
    "    total_training_time_seconds_ann = 0\n",
    "\n",
    "    print(f\"Starting ANN training for {EPOCHS} epochs...\")\n",
    "    training_start_time_ann = time.time()\n",
    "\n",
    "    for epoch in range(1, EPOCHS + 1):\n",
    "        epoch_start_time = time.time()\n",
    "        print(f\"\\nEpoch {epoch}/{EPOCHS}\")\n",
    "        \n",
    "        train_loss, train_acc = train_ann_epoch(\n",
    "            ann_model, train_ann_loader, loss_fn_ann, optimizer_ann, device, scaler_ann, scheduler_ann, ACCUMULATION_STEPS\n",
    "        )\n",
    "        print(f\"Train -> loss: {train_loss:.4f}, acc: {train_acc:.4f}\")\n",
    "\n",
    "        if val_ann_loader: # Only evaluate if there is validation data\n",
    "            val_loss, val_acc, val_f1, val_prec, val_rec, _, _ = eval_ann_model(\n",
    "                ann_model, val_ann_loader, loss_fn_ann, device\n",
    "            )\n",
    "            print(f\"Val   -> loss: {val_loss:.4f}, acc: {val_acc:.4f}, f1: {val_f1:.4f}, prec: {val_prec:.4f}, rec: {val_rec:.4f}\")\n",
    "\n",
    "            history_ann['train_loss'].append(train_loss)\n",
    "            history_ann['train_acc'].append(train_acc)\n",
    "            history_ann['val_loss'].append(val_loss)\n",
    "            history_ann['val_acc'].append(val_acc)\n",
    "            history_ann['val_f1'].append(val_f1)\n",
    "\n",
    "            if val_loss < best_val_loss_ann:\n",
    "                best_val_loss_ann = val_loss\n",
    "                best_epoch_ann = epoch\n",
    "                epochs_no_improve_ann = 0\n",
    "                best_model_state_ann = deepcopy(ann_model.state_dict())\n",
    "                print(\"✔️ New best ANN model saved.\")\n",
    "            else:\n",
    "                epochs_no_improve_ann += 1\n",
    "                print(f\"⏳ No improvement for ANN: {epochs_no_improve_ann}/{PATIENCE}\")\n",
    "\n",
    "            if USE_EARLY_STOPPING and epochs_no_improve_ann >= PATIENCE:\n",
    "                print(\"🛑 Early stopping triggered for ANN.\")\n",
    "                break\n",
    "            \n",
    "            if scheduler_ann and isinstance(scheduler_ann, torch.optim.lr_scheduler.ReduceLROnPlateau):\n",
    "                scheduler_ann.step(val_loss)\n",
    "            elif scheduler_ann: # for other schedulers like StepLR\n",
    "                scheduler_ann.step()\n",
    "\n",
    "        else: # No validation data\n",
    "            history_ann['train_loss'].append(train_loss)\n",
    "            history_ann['train_acc'].append(train_acc)\n",
    "            # If no validation, save model at each epoch or based on train loss (less ideal)\n",
    "            if train_loss < best_val_loss_ann: # Using train_loss as proxy\n",
    "                best_val_loss_ann = train_loss\n",
    "                best_epoch_ann = epoch\n",
    "                best_model_state_ann = deepcopy(ann_model.state_dict())\n",
    "                print(\"✔️ ANN model saved (based on train loss).\")\n",
    "        \n",
    "        epoch_end_time = time.time()\n",
    "        print(f\"Epoch {epoch} took {epoch_end_time - epoch_start_time:.2f} seconds.\")\n",
    "\n",
    "    total_training_time_seconds_ann = time.time() - training_start_time_ann\n",
    "    print(f\"\\nTotal ANN training time: {total_training_time_seconds_ann:.2f} seconds.\")\n",
    "\n",
    "    if best_model_state_ann is not None:\n",
    "        print(f\"\\nLoading best ANN model state from epoch {best_epoch_ann} for final evaluation and saving...\")\n",
    "        ann_model.load_state_dict(best_model_state_ann)\n",
    "    else:\n",
    "        print(\"\\nWarning: No best ANN model state saved (e.g. no validation data or no improvement). Using final model state.\")\n",
    "\n",
    "    print(\"ANN Training complete.\")\n",
    "else:\n",
    "    print(\"Skipping ANN training as no training data is available.\")"
   ]
  },
  {
   "cell_type": "markdown",
   "id": "0a06a39f",
   "metadata": {},
   "source": [
    "## 10. Final Evaluation for ANN"
   ]
  },
  {
   "cell_type": "code",
   "execution_count": 126,
   "id": "8578e958",
   "metadata": {},
   "outputs": [
    {
     "name": "stdout",
     "output_type": "stream",
     "text": [
      "\n",
      "Evaluating ANN on Labeled Test Set...\n"
     ]
    },
    {
     "data": {
      "application/vnd.jupyter.widget-view+json": {
       "model_id": "adcc3bc85ead4413b72a206dc2151862",
       "version_major": 2,
       "version_minor": 0
      },
      "text/plain": [
       "Evaluating ANN:   0%|          | 0/5 [00:00<?, ?batch/s]"
      ]
     },
     "metadata": {},
     "output_type": "display_data"
    },
    {
     "name": "stdout",
     "output_type": "stream",
     "text": [
      "Test Loss (ANN):      0.5544\n",
      "Test Accuracy (ANN):  0.8403\n",
      "Test F1-score (ANN):  0.7978\n",
      "Test Precision (ANN): 0.7852\n",
      "Test Recall (ANN):    0.8403\n",
      "\n",
      "Classification Report (ANN):\n",
      "              precision    recall  f1-score   support\n",
      "\n",
      "         TIN     0.8592    0.9714    0.9119       245\n",
      "         UNT     0.3636    0.0930    0.1481        43\n",
      "\n",
      "    accuracy                         0.8403       288\n",
      "   macro avg     0.6114    0.5322    0.5300       288\n",
      "weighted avg     0.7852    0.8403    0.7978       288\n",
      "\n",
      "Saved ANN confusion matrix to ann_model_output/cm_ann_HASOC_3.png\n"
     ]
    },
    {
     "data": {
      "image/png": "[encoded data removed]",
      "text/plain": [
       "<Figure size 600x600 with 2 Axes>"
      ]
     },
     "metadata": {},
     "output_type": "display_data"
    }
   ],
   "source": [
    "report_ann = \"No classification report available for ANN.\"\n",
    "cm_ann_data = []\n",
    "test_loss_ann, test_acc_ann, test_f1_ann, test_precision_ann, test_recall_ann = 0.0, 0.0, 0.0, 0.0, 0.0\n",
    "\n",
    "if test_ann_loader is not None and y_test is not None and len(y_test) == X_test_tfidf.shape[0]: # Ensure y_test corresponds to X_test_tfidf\n",
    "    print(\"\\nEvaluating ANN on Labeled Test Set...\")\n",
    "    \n",
    "    # Ensure loss_fn_ann is defined correctly based on model output and NUM_LABELS\n",
    "    if actual_output_dim_ann == 1 and NUM_LABELS == 2:\n",
    "        current_loss_fn_ann_eval = nn.BCEWithLogitsLoss().to(device) # No weights for eval generally\n",
    "    else:\n",
    "        current_loss_fn_ann_eval = nn.CrossEntropyLoss().to(device)\n",
    "\n",
    "    test_loss_ann, test_acc_ann, test_f1_ann, test_precision_ann, test_recall_ann, test_labels_ann, test_preds_ann = eval_ann_model(\n",
    "        ann_model, test_ann_loader, current_loss_fn_ann_eval, device # Use ann_model (trained one)\n",
    "    )\n",
    "    print(f\"Test Loss (ANN):      {test_loss_ann:.4f}\")\n",
    "    print(f\"Test Accuracy (ANN):  {test_acc_ann:.4f}\")\n",
    "    print(f\"Test F1-score (ANN):  {test_f1_ann:.4f}\")\n",
    "    print(f\"Test Precision (ANN): {test_precision_ann:.4f}\")\n",
    "    print(f\"Test Recall (ANN):    {test_recall_ann:.4f}\")\n",
    "\n",
    "    int_labels_ann   = sorted(list(LABEL_MAP.values()))\n",
    "    target_names_ann = [k for k, v in sorted(LABEL_MAP.items(), key=lambda item: item[1])]\n",
    "\n",
    "    report_ann = classification_report(\n",
    "        y_true=test_labels_ann, y_pred=test_preds_ann, labels=int_labels_ann,\n",
    "        target_names=target_names_ann, digits=4, zero_division=0\n",
    "    )\n",
    "    print(\"\\nClassification Report (ANN):\")\n",
    "    print(report_ann)\n",
    "\n",
    "    cm_ann = confusion_matrix(test_labels_ann, test_preds_ann, labels=int_labels_ann)\n",
    "    cm_ann_data = cm_ann.tolist()\n",
    "    disp_ann = ConfusionMatrixDisplay(cm_ann, display_labels=target_names_ann)\n",
    "    fig_ann, ax_ann = plt.subplots(figsize=(max(6, NUM_LABELS*2), max(6, NUM_LABELS*2))) # Adjust size for num_labels\n",
    "    disp_ann.plot(ax=ax_ann, cmap='Blues', values_format='d')\n",
    "    ax_ann.set_title(f'ANN Confusion Matrix ({DATASET_TYPE} subtask {SUBTASK})')\n",
    "    fig_ann.tight_layout()\n",
    "    cm_path_ann = os.path.join(OUTPUT_DIR, f'cm_ann_{DATASET_TYPE}_{SUBTASK}.png')\n",
    "    fig_ann.savefig(cm_path_ann)\n",
    "    print(f\"Saved ANN confusion matrix to {cm_path_ann}\")\n",
    "    plt.show()\n",
    "\n",
    "elif test_ann_loader is not None and y_test is None: # Inference only\n",
    "    print(\"\\nRunning inference with ANN on unlabeled Test Set...\")\n",
    "    ann_model.eval() # Ensure model is in eval mode\n",
    "    all_preds_ann_inference = []\n",
    "    with torch.no_grad():\n",
    "        for batch in tqdm(test_ann_loader, desc=\"ANN Inference\", unit=\"batch\"):\n",
    "            features = batch['features'].to(device)\n",
    "            with autocast(device_type=device.type, enabled=(device.type == 'cuda')):\n",
    "                outputs = ann_model(features)\n",
    "            \n",
    "            if outputs.shape[1] == 1 and NUM_LABELS == 2: # Binary with single logit\n",
    "                preds_inf = (torch.sigmoid(outputs.squeeze(1)) > 0.5).long().cpu().tolist()\n",
    "            else: # Multi-class or binary with 2 logits\n",
    "                preds_inf = torch.argmax(outputs, dim=1).cpu().tolist()\n",
    "            all_preds_ann_inference.extend(preds_inf)\n",
    "    \n",
    "    inv_label_map = {v: k for k, v in LABEL_MAP.items()}\n",
    "    pred_strs_ann = [inv_label_map.get(p, 'UNK_PRED') for p in all_preds_ann_inference]\n",
    "    \n",
    "    ids_test = []\n",
    "    if 'id' in df_test.columns:\n",
    "        ids_test = df_test['id'].tolist()\n",
    "    # Ensure ids_test matches the length of predictions if df_test was filtered or had issues\n",
    "    if len(ids_test) != len(all_preds_ann_inference):\n",
    "        print(f\"Warning: Length of test IDs ({len(ids_test)}) does not match number of predictions ({len(all_preds_ann_inference)}). Generating sequential IDs.\")\n",
    "        ids_test = list(range(len(all_preds_ann_inference)))\n",
    "        \n",
    "    out_df_ann = pd.DataFrame({\n",
    "        'id': ids_test, \n",
    "        'prediction': all_preds_ann_inference,\n",
    "        'prediction_str': pred_strs_ann\n",
    "    })\n",
    "    out_path_ann = os.path.join(OUTPUT_DIR, f'{DATASET_TYPE}_subtask{SUBTASK}_ann_predictions.csv')\n",
    "    out_df_ann.to_csv(out_path_ann, index=False)\n",
    "    print(f\"▶️ ANN Inference done. Saved predictions to {out_path_ann}\")\n",
    "    report_ann = \"Inference-only mode for ANN; no classification report.\"\n",
    "else:\n",
    "    print(\"\\nSkipping ANN test set evaluation (no labeled test data available or test loader not created).\")"
   ]
  },
  {
   "cell_type": "markdown",
   "id": "1de743f6",
   "metadata": {},
   "source": [
    "## 11. Save ANN Artifacts and Results"
   ]
  },
  {
   "cell_type": "code",
   "execution_count": 127,
   "id": "01ca0107",
   "metadata": {},
   "outputs": [
    {
     "name": "stdout",
     "output_type": "stream",
     "text": [
      "\n",
      "Saving ANN artifacts...\n",
      "Best ANN model saved to: ann_model_output/best_ann_model_HASOC_sub3.pt\n",
      "ANN Training history plot saved to ann_model_output/ann_training_history_HASOC_sub3.png\n"
     ]
    },
    {
     "data": {
      "image/png": "[encoded data removed]",
      "text/plain": [
       "<Figure size 1200x500 with 2 Axes>"
      ]
     },
     "metadata": {},
     "output_type": "display_data"
    },
    {
     "name": "stdout",
     "output_type": "stream",
     "text": [
      "ANN Results saved to ann_model_output/results_ann_HASOC_subtask3.json\n"
     ]
    }
   ],
   "source": [
    "print(\"\\nSaving ANN artifacts...\")\n",
    "\n",
    "# --- Save ANN Model ---\n",
    "ann_model_save_path = os.path.join(OUTPUT_DIR, f\"best_ann_model_{DATASET_TYPE}_sub{SUBTASK}.pt\")\n",
    "if best_model_state_ann:\n",
    "    torch.save(best_model_state_ann, ann_model_save_path)\n",
    "    print(f\"Best ANN model saved to: {ann_model_save_path}\")\n",
    "else: # If early stopping wasn't used or didn't improve\n",
    "    final_ann_model_path = os.path.join(OUTPUT_DIR, f\"final_ann_model_{DATASET_TYPE}_sub{SUBTASK}.pt\")\n",
    "    torch.save(ann_model.state_dict(), final_ann_model_path)\n",
    "    print(f\"Final ANN model state saved to {final_ann_model_path} (no best state from early stopping or no validation).\")\n",
    "\n",
    "\n",
    "# --- Plot ANN Training History ---\n",
    "if history_ann['train_loss']: # Check if history exists\n",
    "    plt.figure(figsize=(12, 5))\n",
    "    plt.subplot(1, 2, 1)\n",
    "    plt.plot(history_ann['train_loss'], label='ANN Train Loss')\n",
    "    if history_ann.get('val_loss'): plt.plot(history_ann['val_loss'], label='ANN Validation Loss')\n",
    "    plt.title('ANN Loss History')\n",
    "    plt.xlabel('Epoch'); plt.ylabel('Loss'); plt.legend(); plt.grid(True)\n",
    "\n",
    "    plt.subplot(1, 2, 2)\n",
    "    plt.plot(history_ann['train_acc'], label='ANN Train Accuracy')\n",
    "    if history_ann.get('val_acc'): plt.plot(history_ann['val_acc'], label='ANN Validation Accuracy')\n",
    "    if history_ann.get('val_f1'): plt.plot(history_ann['val_f1'], label='ANN Validation F1')\n",
    "    plt.title('ANN Accuracy & F1 History')\n",
    "    plt.xlabel('Epoch'); plt.ylabel('Metric'); plt.legend(); plt.grid(True)\n",
    "\n",
    "    plt.tight_layout()\n",
    "    history_plot_path_ann = os.path.join(OUTPUT_DIR, f\"ann_training_history_{DATASET_TYPE}_sub{SUBTASK}.png\")\n",
    "    plt.savefig(history_plot_path_ann)\n",
    "    print(f\"ANN Training history plot saved to {history_plot_path_ann}\")\n",
    "    plt.show()\n",
    "else:\n",
    "    print(\"No training history to plot for ANN (e.g., training was skipped).\")\n",
    "\n",
    "\n",
    "# --- Save ANN Configuration and Results to JSON ---\n",
    "results_ann = {\n",
    "    'config': config_ann_dict, # from Cell 2\n",
    "    'training_info': {\n",
    "        'epochs_run': len(history_ann['train_loss']) if history_ann['train_loss'] else 0,\n",
    "        'total_training_time_seconds': total_training_time_seconds_ann,\n",
    "        'best_validation_loss': best_val_loss_ann if best_model_state_ann is not None else None,\n",
    "        'best_epoch': best_epoch_ann if best_model_state_ann is not None else None\n",
    "    },\n",
    "    'history': history_ann,\n",
    "    'test_metrics': { # These will be 0 if evaluation on labeled test set was skipped\n",
    "        'loss': test_loss_ann,\n",
    "        'accuracy': test_acc_ann,\n",
    "        'f1_score_weighted': test_f1_ann,\n",
    "        'precision_weighted': test_precision_ann,\n",
    "        'recall_weighted': test_recall_ann\n",
    "    },\n",
    "    'classification_report': report_ann, # from Cell 11\n",
    "    'confusion_matrix': cm_ann_data # from Cell 11\n",
    "}\n",
    "results_filename_ann = f\"results_ann_{DATASET_TYPE}_subtask{SUBTASK.lower()}.json\"\n",
    "results_path_ann = os.path.join(OUTPUT_DIR, results_filename_ann)\n",
    "with open(results_path_ann, 'w') as f:\n",
    "    json.dump(results_ann, f, indent=4)\n",
    "print(f\"ANN Results saved to {results_path_ann}\")"
   ]
  },
  {
   "cell_type": "markdown",
   "id": "d5c9e143",
   "metadata": {},
   "source": [
    "## 12. Classification Reports Comparisons"
   ]
  },
  {
   "cell_type": "code",
   "execution_count": 128,
   "id": "77f04ad8",
   "metadata": {},
   "outputs": [
    {
     "data": {
      "text/html": [
       "<div>\n",
       "<style scoped>\n",
       "    .dataframe tbody tr th:only-of-type {\n",
       "        vertical-align: middle;\n",
       "    }\n",
       "\n",
       "    .dataframe tbody tr th {\n",
       "        vertical-align: top;\n",
       "    }\n",
       "\n",
       "    .dataframe thead th {\n",
       "        text-align: right;\n",
       "    }\n",
       "</style>\n",
       "<table border=\"1\" class=\"dataframe\">\n",
       "  <thead>\n",
       "    <tr style=\"text-align: right;\">\n",
       "      <th></th>\n",
       "      <th>dataset</th>\n",
       "      <th>subtask</th>\n",
       "      <th>accuracy</th>\n",
       "      <th>f1_weighted</th>\n",
       "    </tr>\n",
       "  </thead>\n",
       "  <tbody>\n",
       "    <tr>\n",
       "      <th>0</th>\n",
       "      <td>HASOC</td>\n",
       "      <td>1</td>\n",
       "      <td>0.542064</td>\n",
       "      <td>0.565402</td>\n",
       "    </tr>\n",
       "    <tr>\n",
       "      <th>1</th>\n",
       "      <td>HASOC</td>\n",
       "      <td>2</td>\n",
       "      <td>0.524306</td>\n",
       "      <td>0.489869</td>\n",
       "    </tr>\n",
       "    <tr>\n",
       "      <th>2</th>\n",
       "      <td>HASOC</td>\n",
       "      <td>3</td>\n",
       "      <td>0.840278</td>\n",
       "      <td>0.797848</td>\n",
       "    </tr>\n",
       "    <tr>\n",
       "      <th>3</th>\n",
       "      <td>OLID</td>\n",
       "      <td>a</td>\n",
       "      <td>0.750000</td>\n",
       "      <td>0.755787</td>\n",
       "    </tr>\n",
       "    <tr>\n",
       "      <th>4</th>\n",
       "      <td>OLID</td>\n",
       "      <td>b</td>\n",
       "      <td>0.837500</td>\n",
       "      <td>0.838786</td>\n",
       "    </tr>\n",
       "    <tr>\n",
       "      <th>5</th>\n",
       "      <td>OLID</td>\n",
       "      <td>c</td>\n",
       "      <td>0.591549</td>\n",
       "      <td>0.578923</td>\n",
       "    </tr>\n",
       "  </tbody>\n",
       "</table>\n",
       "</div>"
      ],
      "text/plain": [
       "  dataset subtask  accuracy  f1_weighted\n",
       "0   HASOC       1  0.542064     0.565402\n",
       "1   HASOC       2  0.524306     0.489869\n",
       "2   HASOC       3  0.840278     0.797848\n",
       "3    OLID       a  0.750000     0.755787\n",
       "4    OLID       b  0.837500     0.838786\n",
       "5    OLID       c  0.591549     0.578923"
      ]
     },
     "metadata": {},
     "output_type": "display_data"
    },
    {
     "data": {
      "image/png": "[encoded data removed]",
      "text/plain": [
       "<Figure size 800x400 with 1 Axes>"
      ]
     },
     "metadata": {},
     "output_type": "display_data"
    }
   ],
   "source": [
    "\n",
    "# List the datasets & subtasks you care about\n",
    "configs = [\n",
    "    ('HASOC',      '1'),\n",
    "    ('HASOC',      '2'),\n",
    "    ('HASOC',      '3'),\n",
    "    ('OLID','a'),\n",
    "    ('OLID','b'),\n",
    "    ('OLID','c'),\n",
    "]\n",
    "\n",
    "results = []\n",
    "for ds, st in configs:\n",
    "    # load the JSON you saved in each run: results_{DS}_subtask{ST}.json\n",
    "    fn = f\"results_ann_{ds}_subtask{st}.json\"\n",
    "    path = os.path.join(OUTPUT_DIR, fn)\n",
    "    try:\n",
    "        with open(path) as f:\n",
    "            r = json.load(f)\n",
    "        acc = r['test_metrics']['accuracy']\n",
    "        f1  = r['test_metrics']['f1_score_weighted']\n",
    "        results.append({\n",
    "            'dataset': ds,\n",
    "            'subtask': st,\n",
    "            'accuracy': acc,\n",
    "            'f1_weighted': f1\n",
    "        })\n",
    "    except FileNotFoundError:\n",
    "        print(f\"⚠️  Could not find {path}, skipping.\")\n",
    "\n",
    "# Build a DataFrame and display\n",
    "df = pd.DataFrame(results)\n",
    "display(df)\n",
    "\n",
    "plt.figure(figsize=(8,4))\n",
    "plt.bar(\n",
    "    [f\"{r['dataset']}-{r['subtask']}\" for r in results],\n",
    "    [r['accuracy'] for r in results]\n",
    ")\n",
    "plt.xticks(rotation=45, ha='right')\n",
    "plt.ylabel(\"Accuracy\")\n",
    "plt.title(\"Comparison of Test Accuracy Across Subtasks\")\n",
    "plt.tight_layout()\n",
    "plt.show()\n"
   ]
  }
 ],
 "metadata": {
  "kernelspec": {
   "display_name": "Python 3 (ipykernel)",
   "language": "python",
   "name": "python3"
  },
  "language_info": {
   "codemirror_mode": {
    "name": "ipython",
    "version": 3
   },
   "file_extension": ".py",
   "mimetype": "text/x-python",
   "name": "python",
   "nbconvert_exporter": "python",
   "pygments_lexer": "ipython3",
   "version": "3.11.11"
  }
 },
 "nbformat": 4,
 "nbformat_minor": 5
}
