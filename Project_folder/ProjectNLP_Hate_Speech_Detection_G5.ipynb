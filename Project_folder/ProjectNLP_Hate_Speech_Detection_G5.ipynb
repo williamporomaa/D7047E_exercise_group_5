{
 "cells": [
  {
   "cell_type": "markdown",
   "id": "6d67f78d",
   "metadata": {},
   "source": [
    "# Hate Speech Detection — Research‐Level Notebook\n",
    "\n",
    "This notebook implements a robust, research‐oriented pipeline for hate speech detection across HASOC 2019, OLID (A/B/C), and two distant datasets. It incorporates:\n",
    "\n",
    "- **BERT fine-tuning** with transfer learning\n",
    "- **Adversarial training (FGM)** for robustness\n",
    "- **MixUp data augmentation** in embedding space\n",
    "- **Class‐balance weighting** to counter dataset imbalance\n",
    "- **Early stopping & checkpointing** for best‐model selection\n",
    "- **Attention‐based explainability**\n",
    "- **Comprehensive EDA & visualization**"
   ]
  },
  {
   "cell_type": "markdown",
   "id": "8cd2ed33",
   "metadata": {},
   "source": [
    "## 1. Setup & Configuration"
   ]
  },
  {
   "cell_type": "code",
   "execution_count": 12,
   "id": "fc620b7e",
   "metadata": {},
   "outputs": [
    {
     "name": "stdout",
     "output_type": "stream",
     "text": [
      "Using device: cuda\n"
     ]
    }
   ],
   "source": [
    "# Cell 1: Install & import dependencies\n",
    "# !pip install transformers torch pandas scikit-learn openpyxl emoji matplotlib seaborn\n",
    "\n",
    "import os, re, json, time\n",
    "import pandas as pd\n",
    "import numpy as np\n",
    "import emoji\n",
    "import torch\n",
    "from torch.utils.data import Dataset, DataLoader\n",
    "from transformers import BertTokenizer, BertForSequenceClassification, get_linear_schedule_with_warmup\n",
    "from torch.optim import AdamW\n",
    "from sklearn.model_selection import train_test_split\n",
    "from sklearn.metrics import accuracy_score, f1_score, precision_score, recall_score, confusion_matrix, classification_report\n",
    "import matplotlib.pyplot as plt\n",
    "import seaborn as sns\n",
    "\n",
    "# Configuration\n",
    "SEED = 42\n",
    "BATCH_SIZE = 16\n",
    "EPOCHS = 5\n",
    "LR = 2e-5\n",
    "EPSILON = 0.1        # for FGM\n",
    "ALPHA = 0.2          # for MixUp\n",
    "PATIENCE = 2         # early stopping\n",
    "MAX_LEN = 128\n",
    "DEVICE = torch.device('cuda' if torch.cuda.is_available() else 'cpu')\n",
    "OUTPUT_DIR = 'outputs/'\n",
    "\n",
    "# Create output directory\n",
    "os.makedirs(OUTPUT_DIR, exist_ok=True)\n",
    "\n",
    "# Reproducibility\n",
    "np.random.seed(SEED)\n",
    "torch.manual_seed(SEED)\n",
    "if DEVICE.type=='cuda': torch.cuda.manual_seed_all(SEED)\n",
    "\n",
    "print(f\"Using device: {DEVICE}\")"
   ]
  },
  {
   "cell_type": "markdown",
   "id": "ac093fe4",
   "metadata": {},
   "source": [
    "## 2. Exploratory Data Analysis (EDA)"
   ]
  },
  {
   "cell_type": "code",
   "execution_count": 13,
   "id": "7d7e1b21",
   "metadata": {},
   "outputs": [],
   "source": [
    "# Cell 2: Visualize dataset balance\n",
    "def plot_label_dist(df, title):\n",
    "    sns.countplot(x='label', data=df)\n",
    "    plt.title(title)\n",
    "    plt.show()\n",
    "\n",
    "# After loading each source, call:\n",
    "# plot_label_dist(df_olid_train, 'OLID Train Label Distribution')"
   ]
  },
  {
   "cell_type": "markdown",
   "id": "c6234c93",
   "metadata": {},
   "source": [
    "## 3. Data Loading & Preprocessing\n",
    "\n",
    "### 3.1 Cleaning Function"
   ]
  },
  {
   "cell_type": "code",
   "execution_count": 14,
   "id": "7f879399",
   "metadata": {},
   "outputs": [],
   "source": [
    "# Cell 3: Text cleaning — anonymize, remove URLs, emojis, punctuation\n",
    "import string\n",
    "\n",
    "def clean_text(text: str) -> str:\n",
    "    text = re.sub(r\"@\\w+\", \"@USER\", text)\n",
    "    text = re.sub(r\"http\\S+|www\\.[^ ]+|URL\", \"\", text)\n",
    "    text = emoji.replace_emoji(text, replace=\"\")\n",
    "    text = text.translate(str.maketrans('', '', string.punctuation))\n",
    "    return re.sub(r\"\\s+\", \" \", text).strip().lower()"
   ]
  },
  {
   "cell_type": "markdown",
   "id": "bd2f7cfc",
   "metadata": {},
   "source": [
    "### 3.2 Load Functions"
   ]
  },
  {
   "cell_type": "code",
   "execution_count": 15,
   "id": "fcbc2401",
   "metadata": {},
   "outputs": [],
   "source": [
    "# Cell 4: OLID loader\n",
    "def load_olid(path: str, task: str):\n",
    "    df = pd.read_csv(path, sep='\\t').dropna(subset=['tweet'])\n",
    "    # Map subtasks and filter\n",
    "    if task=='a': df = df[['id','tweet','subtask_a']].rename(columns={'subtask_a':'label'});\n",
    "    elif task=='b': df=df[df['subtask_a']=='OFF'][['id','tweet','subtask_b']].rename(columns={'subtask_b':'label'});\n",
    "    else: df=df[df['subtask_b']=='TIN'][['id','tweet','subtask_c']].rename(columns={'subtask_c':'label'});\n",
    "    # Convert to numeric\n",
    "    mapping = {'OFF':1,'NOT':0,'TIN':1,'UNT':0,'IND':0,'GRP':1,'OTH':2}\n",
    "    df['label'] = df['label'].map(mapping)\n",
    "    df['tweet'] = df['tweet'].apply(clean_text)\n",
    "    return df.dropna()"
   ]
  },
  {
   "cell_type": "code",
   "execution_count": 16,
   "id": "df31b13e",
   "metadata": {},
   "outputs": [],
   "source": [
    "# Cell 5: HASOC loader\n",
    "def load_hasoc(path: str):\n",
    "    df = pd.read_csv(path, sep='\\t').dropna(subset=['tweet','HS'])\n",
    "    df = df[['id','tweet','HS']].rename(columns={'HS':'label'})\n",
    "    df['label'] = (df['label']=='HATE').astype(int)\n",
    "    df['tweet'] = df['tweet'].apply(clean_text)\n",
    "    return df"
   ]
  },
  {
   "cell_type": "code",
   "execution_count": 17,
   "id": "0f930f36",
   "metadata": {},
   "outputs": [],
   "source": [
    "# Cell 6: Distant dataset loader\n",
    "def load_distant(path: str, sheet: str, col_map: dict, label_map: dict=None):\n",
    "    df = pd.read_excel(path, sheet_name=sheet)\n",
    "    df = df.rename(columns=col_map)[['id','tweet','label']]\n",
    "    if label_map: df['label']=df['label'].map(label_map)\n",
    "    df['tweet']=df['tweet'].astype(str).apply(clean_text)\n",
    "    return df.dropna()"
   ]
  },
  {
   "cell_type": "markdown",
   "id": "d55f384e",
   "metadata": {},
   "source": [
    "### 3.3 Combine & Split"
   ]
  },
  {
   "cell_type": "code",
   "execution_count": 18,
   "id": "2fc0c6f1",
   "metadata": {},
   "outputs": [
    {
     "ename": "FileNotFoundError",
     "evalue": "[Errno 2] No such file or directory: '/OlidPreprcessed/OLID_Tain_ATUSER_URL_EmojiRemoved_Pedro.txtOLID_Tain_ATUSER_URL_EmojiRemoved_Pedro.txt'",
     "output_type": "error",
     "traceback": [
      "\u001b[31m---------------------------------------------------------------------------\u001b[39m",
      "\u001b[31mFileNotFoundError\u001b[39m                         Traceback (most recent call last)",
      "\u001b[36mCell\u001b[39m\u001b[36m \u001b[39m\u001b[32mIn[18]\u001b[39m\u001b[32m, line 4\u001b[39m\n\u001b[32m      2\u001b[39m data_dir=os.path.join(os.getcwd(), \u001b[33m'\u001b[39m\u001b[33mOlidPreprcessed\u001b[39m\u001b[33m'\u001b[39m, \u001b[33m'\u001b[39m\u001b[33mOLID_Tain_ATUSER_URL_EmojiRemoved_Pedro.txt\u001b[39m\u001b[33m'\u001b[39m)\n\u001b[32m      3\u001b[39m \u001b[38;5;66;03m# OLID\u001b[39;00m\n\u001b[32m----> \u001b[39m\u001b[32m4\u001b[39m olid_train = \u001b[43mload_olid\u001b[49m\u001b[43m(\u001b[49m\u001b[43mdata_dir\u001b[49m\u001b[43m+\u001b[49m\u001b[33;43m'\u001b[39;49m\u001b[33;43mOLID_Tain_ATUSER_URL_EmojiRemoved_Pedro.txt\u001b[39;49m\u001b[33;43m'\u001b[39;49m\u001b[43m,\u001b[49m\u001b[33;43m'\u001b[39;49m\u001b[33;43ma\u001b[39;49m\u001b[33;43m'\u001b[39;49m\u001b[43m)\u001b[49m\n\u001b[32m      5\u001b[39m hasoc = load_hasoc(data_dir+\u001b[33m'\u001b[39m\u001b[33mhasoc2019_en_train.tsv\u001b[39m\u001b[33m'\u001b[39m)\n\u001b[32m      6\u001b[39m \u001b[38;5;66;03m# Distant\u001b[39;00m\n",
      "\u001b[36mCell\u001b[39m\u001b[36m \u001b[39m\u001b[32mIn[15]\u001b[39m\u001b[32m, line 3\u001b[39m, in \u001b[36mload_olid\u001b[39m\u001b[34m(path, task)\u001b[39m\n\u001b[32m      2\u001b[39m \u001b[38;5;28;01mdef\u001b[39;00m\u001b[38;5;250m \u001b[39m\u001b[34mload_olid\u001b[39m(path: \u001b[38;5;28mstr\u001b[39m, task: \u001b[38;5;28mstr\u001b[39m):\n\u001b[32m----> \u001b[39m\u001b[32m3\u001b[39m     df = \u001b[43mpd\u001b[49m\u001b[43m.\u001b[49m\u001b[43mread_csv\u001b[49m\u001b[43m(\u001b[49m\u001b[43mpath\u001b[49m\u001b[43m,\u001b[49m\u001b[43m \u001b[49m\u001b[43msep\u001b[49m\u001b[43m=\u001b[49m\u001b[33;43m'\u001b[39;49m\u001b[38;5;130;43;01m\\t\u001b[39;49;00m\u001b[33;43m'\u001b[39;49m\u001b[43m)\u001b[49m.dropna(subset=[\u001b[33m'\u001b[39m\u001b[33mtweet\u001b[39m\u001b[33m'\u001b[39m])\n\u001b[32m      4\u001b[39m     \u001b[38;5;66;03m# Map subtasks and filter\u001b[39;00m\n\u001b[32m      5\u001b[39m     \u001b[38;5;28;01mif\u001b[39;00m task==\u001b[33m'\u001b[39m\u001b[33ma\u001b[39m\u001b[33m'\u001b[39m: df = df[[\u001b[33m'\u001b[39m\u001b[33mid\u001b[39m\u001b[33m'\u001b[39m,\u001b[33m'\u001b[39m\u001b[33mtweet\u001b[39m\u001b[33m'\u001b[39m,\u001b[33m'\u001b[39m\u001b[33msubtask_a\u001b[39m\u001b[33m'\u001b[39m]].rename(columns={\u001b[33m'\u001b[39m\u001b[33msubtask_a\u001b[39m\u001b[33m'\u001b[39m:\u001b[33m'\u001b[39m\u001b[33mlabel\u001b[39m\u001b[33m'\u001b[39m});\n",
      "\u001b[36mFile \u001b[39m\u001b[32m/usr/local/lib/python3.11/dist-packages/pandas/io/parsers/readers.py:1026\u001b[39m, in \u001b[36mread_csv\u001b[39m\u001b[34m(filepath_or_buffer, sep, delimiter, header, names, index_col, usecols, dtype, engine, converters, true_values, false_values, skipinitialspace, skiprows, skipfooter, nrows, na_values, keep_default_na, na_filter, verbose, skip_blank_lines, parse_dates, infer_datetime_format, keep_date_col, date_parser, date_format, dayfirst, cache_dates, iterator, chunksize, compression, thousands, decimal, lineterminator, quotechar, quoting, doublequote, escapechar, comment, encoding, encoding_errors, dialect, on_bad_lines, delim_whitespace, low_memory, memory_map, float_precision, storage_options, dtype_backend)\u001b[39m\n\u001b[32m   1013\u001b[39m kwds_defaults = _refine_defaults_read(\n\u001b[32m   1014\u001b[39m     dialect,\n\u001b[32m   1015\u001b[39m     delimiter,\n\u001b[32m   (...)\u001b[39m\u001b[32m   1022\u001b[39m     dtype_backend=dtype_backend,\n\u001b[32m   1023\u001b[39m )\n\u001b[32m   1024\u001b[39m kwds.update(kwds_defaults)\n\u001b[32m-> \u001b[39m\u001b[32m1026\u001b[39m \u001b[38;5;28;01mreturn\u001b[39;00m \u001b[43m_read\u001b[49m\u001b[43m(\u001b[49m\u001b[43mfilepath_or_buffer\u001b[49m\u001b[43m,\u001b[49m\u001b[43m \u001b[49m\u001b[43mkwds\u001b[49m\u001b[43m)\u001b[49m\n",
      "\u001b[36mFile \u001b[39m\u001b[32m/usr/local/lib/python3.11/dist-packages/pandas/io/parsers/readers.py:620\u001b[39m, in \u001b[36m_read\u001b[39m\u001b[34m(filepath_or_buffer, kwds)\u001b[39m\n\u001b[32m    617\u001b[39m _validate_names(kwds.get(\u001b[33m\"\u001b[39m\u001b[33mnames\u001b[39m\u001b[33m\"\u001b[39m, \u001b[38;5;28;01mNone\u001b[39;00m))\n\u001b[32m    619\u001b[39m \u001b[38;5;66;03m# Create the parser.\u001b[39;00m\n\u001b[32m--> \u001b[39m\u001b[32m620\u001b[39m parser = \u001b[43mTextFileReader\u001b[49m\u001b[43m(\u001b[49m\u001b[43mfilepath_or_buffer\u001b[49m\u001b[43m,\u001b[49m\u001b[43m \u001b[49m\u001b[43m*\u001b[49m\u001b[43m*\u001b[49m\u001b[43mkwds\u001b[49m\u001b[43m)\u001b[49m\n\u001b[32m    622\u001b[39m \u001b[38;5;28;01mif\u001b[39;00m chunksize \u001b[38;5;129;01mor\u001b[39;00m iterator:\n\u001b[32m    623\u001b[39m     \u001b[38;5;28;01mreturn\u001b[39;00m parser\n",
      "\u001b[36mFile \u001b[39m\u001b[32m/usr/local/lib/python3.11/dist-packages/pandas/io/parsers/readers.py:1620\u001b[39m, in \u001b[36mTextFileReader.__init__\u001b[39m\u001b[34m(self, f, engine, **kwds)\u001b[39m\n\u001b[32m   1617\u001b[39m     \u001b[38;5;28mself\u001b[39m.options[\u001b[33m\"\u001b[39m\u001b[33mhas_index_names\u001b[39m\u001b[33m\"\u001b[39m] = kwds[\u001b[33m\"\u001b[39m\u001b[33mhas_index_names\u001b[39m\u001b[33m\"\u001b[39m]\n\u001b[32m   1619\u001b[39m \u001b[38;5;28mself\u001b[39m.handles: IOHandles | \u001b[38;5;28;01mNone\u001b[39;00m = \u001b[38;5;28;01mNone\u001b[39;00m\n\u001b[32m-> \u001b[39m\u001b[32m1620\u001b[39m \u001b[38;5;28mself\u001b[39m._engine = \u001b[38;5;28;43mself\u001b[39;49m\u001b[43m.\u001b[49m\u001b[43m_make_engine\u001b[49m\u001b[43m(\u001b[49m\u001b[43mf\u001b[49m\u001b[43m,\u001b[49m\u001b[43m \u001b[49m\u001b[38;5;28;43mself\u001b[39;49m\u001b[43m.\u001b[49m\u001b[43mengine\u001b[49m\u001b[43m)\u001b[49m\n",
      "\u001b[36mFile \u001b[39m\u001b[32m/usr/local/lib/python3.11/dist-packages/pandas/io/parsers/readers.py:1880\u001b[39m, in \u001b[36mTextFileReader._make_engine\u001b[39m\u001b[34m(self, f, engine)\u001b[39m\n\u001b[32m   1878\u001b[39m     \u001b[38;5;28;01mif\u001b[39;00m \u001b[33m\"\u001b[39m\u001b[33mb\u001b[39m\u001b[33m\"\u001b[39m \u001b[38;5;129;01mnot\u001b[39;00m \u001b[38;5;129;01min\u001b[39;00m mode:\n\u001b[32m   1879\u001b[39m         mode += \u001b[33m\"\u001b[39m\u001b[33mb\u001b[39m\u001b[33m\"\u001b[39m\n\u001b[32m-> \u001b[39m\u001b[32m1880\u001b[39m \u001b[38;5;28mself\u001b[39m.handles = \u001b[43mget_handle\u001b[49m\u001b[43m(\u001b[49m\n\u001b[32m   1881\u001b[39m \u001b[43m    \u001b[49m\u001b[43mf\u001b[49m\u001b[43m,\u001b[49m\n\u001b[32m   1882\u001b[39m \u001b[43m    \u001b[49m\u001b[43mmode\u001b[49m\u001b[43m,\u001b[49m\n\u001b[32m   1883\u001b[39m \u001b[43m    \u001b[49m\u001b[43mencoding\u001b[49m\u001b[43m=\u001b[49m\u001b[38;5;28;43mself\u001b[39;49m\u001b[43m.\u001b[49m\u001b[43moptions\u001b[49m\u001b[43m.\u001b[49m\u001b[43mget\u001b[49m\u001b[43m(\u001b[49m\u001b[33;43m\"\u001b[39;49m\u001b[33;43mencoding\u001b[39;49m\u001b[33;43m\"\u001b[39;49m\u001b[43m,\u001b[49m\u001b[43m \u001b[49m\u001b[38;5;28;43;01mNone\u001b[39;49;00m\u001b[43m)\u001b[49m\u001b[43m,\u001b[49m\n\u001b[32m   1884\u001b[39m \u001b[43m    \u001b[49m\u001b[43mcompression\u001b[49m\u001b[43m=\u001b[49m\u001b[38;5;28;43mself\u001b[39;49m\u001b[43m.\u001b[49m\u001b[43moptions\u001b[49m\u001b[43m.\u001b[49m\u001b[43mget\u001b[49m\u001b[43m(\u001b[49m\u001b[33;43m\"\u001b[39;49m\u001b[33;43mcompression\u001b[39;49m\u001b[33;43m\"\u001b[39;49m\u001b[43m,\u001b[49m\u001b[43m \u001b[49m\u001b[38;5;28;43;01mNone\u001b[39;49;00m\u001b[43m)\u001b[49m\u001b[43m,\u001b[49m\n\u001b[32m   1885\u001b[39m \u001b[43m    \u001b[49m\u001b[43mmemory_map\u001b[49m\u001b[43m=\u001b[49m\u001b[38;5;28;43mself\u001b[39;49m\u001b[43m.\u001b[49m\u001b[43moptions\u001b[49m\u001b[43m.\u001b[49m\u001b[43mget\u001b[49m\u001b[43m(\u001b[49m\u001b[33;43m\"\u001b[39;49m\u001b[33;43mmemory_map\u001b[39;49m\u001b[33;43m\"\u001b[39;49m\u001b[43m,\u001b[49m\u001b[43m \u001b[49m\u001b[38;5;28;43;01mFalse\u001b[39;49;00m\u001b[43m)\u001b[49m\u001b[43m,\u001b[49m\n\u001b[32m   1886\u001b[39m \u001b[43m    \u001b[49m\u001b[43mis_text\u001b[49m\u001b[43m=\u001b[49m\u001b[43mis_text\u001b[49m\u001b[43m,\u001b[49m\n\u001b[32m   1887\u001b[39m \u001b[43m    \u001b[49m\u001b[43merrors\u001b[49m\u001b[43m=\u001b[49m\u001b[38;5;28;43mself\u001b[39;49m\u001b[43m.\u001b[49m\u001b[43moptions\u001b[49m\u001b[43m.\u001b[49m\u001b[43mget\u001b[49m\u001b[43m(\u001b[49m\u001b[33;43m\"\u001b[39;49m\u001b[33;43mencoding_errors\u001b[39;49m\u001b[33;43m\"\u001b[39;49m\u001b[43m,\u001b[49m\u001b[43m \u001b[49m\u001b[33;43m\"\u001b[39;49m\u001b[33;43mstrict\u001b[39;49m\u001b[33;43m\"\u001b[39;49m\u001b[43m)\u001b[49m\u001b[43m,\u001b[49m\n\u001b[32m   1888\u001b[39m \u001b[43m    \u001b[49m\u001b[43mstorage_options\u001b[49m\u001b[43m=\u001b[49m\u001b[38;5;28;43mself\u001b[39;49m\u001b[43m.\u001b[49m\u001b[43moptions\u001b[49m\u001b[43m.\u001b[49m\u001b[43mget\u001b[49m\u001b[43m(\u001b[49m\u001b[33;43m\"\u001b[39;49m\u001b[33;43mstorage_options\u001b[39;49m\u001b[33;43m\"\u001b[39;49m\u001b[43m,\u001b[49m\u001b[43m \u001b[49m\u001b[38;5;28;43;01mNone\u001b[39;49;00m\u001b[43m)\u001b[49m\u001b[43m,\u001b[49m\n\u001b[32m   1889\u001b[39m \u001b[43m\u001b[49m\u001b[43m)\u001b[49m\n\u001b[32m   1890\u001b[39m \u001b[38;5;28;01massert\u001b[39;00m \u001b[38;5;28mself\u001b[39m.handles \u001b[38;5;129;01mis\u001b[39;00m \u001b[38;5;129;01mnot\u001b[39;00m \u001b[38;5;28;01mNone\u001b[39;00m\n\u001b[32m   1891\u001b[39m f = \u001b[38;5;28mself\u001b[39m.handles.handle\n",
      "\u001b[36mFile \u001b[39m\u001b[32m/usr/local/lib/python3.11/dist-packages/pandas/io/common.py:873\u001b[39m, in \u001b[36mget_handle\u001b[39m\u001b[34m(path_or_buf, mode, encoding, compression, memory_map, is_text, errors, storage_options)\u001b[39m\n\u001b[32m    868\u001b[39m \u001b[38;5;28;01melif\u001b[39;00m \u001b[38;5;28misinstance\u001b[39m(handle, \u001b[38;5;28mstr\u001b[39m):\n\u001b[32m    869\u001b[39m     \u001b[38;5;66;03m# Check whether the filename is to be opened in binary mode.\u001b[39;00m\n\u001b[32m    870\u001b[39m     \u001b[38;5;66;03m# Binary mode does not support 'encoding' and 'newline'.\u001b[39;00m\n\u001b[32m    871\u001b[39m     \u001b[38;5;28;01mif\u001b[39;00m ioargs.encoding \u001b[38;5;129;01mand\u001b[39;00m \u001b[33m\"\u001b[39m\u001b[33mb\u001b[39m\u001b[33m\"\u001b[39m \u001b[38;5;129;01mnot\u001b[39;00m \u001b[38;5;129;01min\u001b[39;00m ioargs.mode:\n\u001b[32m    872\u001b[39m         \u001b[38;5;66;03m# Encoding\u001b[39;00m\n\u001b[32m--> \u001b[39m\u001b[32m873\u001b[39m         handle = \u001b[38;5;28;43mopen\u001b[39;49m\u001b[43m(\u001b[49m\n\u001b[32m    874\u001b[39m \u001b[43m            \u001b[49m\u001b[43mhandle\u001b[49m\u001b[43m,\u001b[49m\n\u001b[32m    875\u001b[39m \u001b[43m            \u001b[49m\u001b[43mioargs\u001b[49m\u001b[43m.\u001b[49m\u001b[43mmode\u001b[49m\u001b[43m,\u001b[49m\n\u001b[32m    876\u001b[39m \u001b[43m            \u001b[49m\u001b[43mencoding\u001b[49m\u001b[43m=\u001b[49m\u001b[43mioargs\u001b[49m\u001b[43m.\u001b[49m\u001b[43mencoding\u001b[49m\u001b[43m,\u001b[49m\n\u001b[32m    877\u001b[39m \u001b[43m            \u001b[49m\u001b[43merrors\u001b[49m\u001b[43m=\u001b[49m\u001b[43merrors\u001b[49m\u001b[43m,\u001b[49m\n\u001b[32m    878\u001b[39m \u001b[43m            \u001b[49m\u001b[43mnewline\u001b[49m\u001b[43m=\u001b[49m\u001b[33;43m\"\u001b[39;49m\u001b[33;43m\"\u001b[39;49m\u001b[43m,\u001b[49m\n\u001b[32m    879\u001b[39m \u001b[43m        \u001b[49m\u001b[43m)\u001b[49m\n\u001b[32m    880\u001b[39m     \u001b[38;5;28;01melse\u001b[39;00m:\n\u001b[32m    881\u001b[39m         \u001b[38;5;66;03m# Binary mode\u001b[39;00m\n\u001b[32m    882\u001b[39m         handle = \u001b[38;5;28mopen\u001b[39m(handle, ioargs.mode)\n",
      "\u001b[31mFileNotFoundError\u001b[39m: [Errno 2] No such file or directory: '/OlidPreprcessed/OLID_Tain_ATUSER_URL_EmojiRemoved_Pedro.txtOLID_Tain_ATUSER_URL_EmojiRemoved_Pedro.txt'"
     ]
    }
   ],
   "source": [
    "# Cell 7: Load all sources and inspect\n",
    "data_dir=os.path.join(os.getcwd(), 'OlidPreprcessed', 'OLID_Tain_ATUSER_URL_EmojiRemoved_Pedro.txt')\n",
    "# OLID\n",
    "olid_train = load_olid(data_dir+'OLID_Tain_ATUSER_URL_EmojiRemoved_Pedro.txt','a')\n",
    "hasoc = load_hasoc(data_dir+'hasoc2019_en_train.tsv')\n",
    "# Distant\n",
    "distA = load_distant(data_dir+'task_a_part8.xlsx','Sheet1',{'tweet_text':'tweet','hate_flag':'label'},{'hate':1,'no_hate':0})\n",
    "distB = load_distant(data_dir+'task_b_distant.xlsx','Sheet1',{'text':'tweet','offensive':'label'},{0:0,1:1})\n",
    "distC = load_distant(data_dir+'task_c_distant_ann.xlsx','Sheet1',{'msg':'tweet','class':'label'},{'IND':0,'GRP':1,'OTH':2})\n",
    "\n",
    "# Concatenate binary-class sources\n",
    "all_binary = pd.concat([olid_train, hasoc, distA, distB], ignore_index=True)\n",
    "train_df, val_df = train_test_split(all_binary, test_size=0.15, stratify=all_binary['label'], random_state=SEED)\n",
    "print(f\"Binary—Train: {train_df.shape}, Val: {val_df.shape}\")\n",
    "\n",
    "# Keep distC separate for multiclass experiments"
   ]
  },
  {
   "cell_type": "markdown",
   "id": "abd30431",
   "metadata": {},
   "source": [
    "## 4. Dataset & MixUp Augmentation"
   ]
  },
  {
   "cell_type": "code",
   "execution_count": null,
   "id": "64478de8",
   "metadata": {},
   "outputs": [],
   "source": [
    "# Cell 8: Dataset class with MixUp\n",
    "TOKENIZER = BertTokenizer.from_pretrained('bert-base-uncased')\n",
    "\n",
    "class HateSpeechDataset(Dataset):\n",
    "    def __init__(self, df, mixup=False):\n",
    "        self.texts, self.labels = df['tweet'].tolist(), df['label'].tolist()\n",
    "        self.mixup, self.alpha = mixup, ALPHA\n",
    "\n",
    "    def __len__(self): return len(self.texts)\n",
    "\n",
    "    def __getitem__(self, idx):\n",
    "        enc = TOKENIZER(self.texts[idx], padding='max_length', truncation=True, max_length=MAX_LEN, return_tensors='pt')\n",
    "        x1, m1, y1 = enc['input_ids'].squeeze(), enc['attention_mask'].squeeze(), torch.tensor(self.labels[idx],dtype=torch.float)\n",
    "        if self.mixup:\n",
    "            j = np.random.randint(len(self.texts))\n",
    "            enc2 = TOKENIZER(self.texts[j], padding='max_length', truncation=True, max_length=MAX_LEN, return_tensors='pt')\n",
    "            x2, m2, y2 = enc2['input_ids'].squeeze(), enc2['attention_mask'].squeeze(), torch.tensor(self.labels[j],dtype=torch.float)\n",
    "            lam = np.random.beta(self.alpha,self.alpha)\n",
    "            x1 = (lam*x1 + (1-lam)*x2).long()\n",
    "            m1 = torch.max(m1,m2)\n",
    "            y1 = lam*y1 + (1-lam)*y2\n",
    "        return {'input_ids':x1,'attention_mask':m1,'labels':y1}\n",
    "\n",
    "# Loaders\n",
    "train_loader = DataLoader(HateSpeechDataset(train_df,mixup=True), batch_size=BATCH_SIZE, shuffle=True)\n",
    "val_loader   = DataLoader(HateSpeechDataset(val_df), batch_size=BATCH_SIZE)"
   ]
  },
  {
   "cell_type": "markdown",
   "id": "06c65aab",
   "metadata": {},
   "source": [
    "## 5. Model, Loss Function & FGM"
   ]
  },
  {
   "cell_type": "code",
   "execution_count": null,
   "id": "721e65dc",
   "metadata": {},
   "outputs": [],
   "source": [
    "# Cell 9: Initialize model & weighted loss\n",
    "model = BertForSequenceClassification.from_pretrained(\n",
    "    'bert-base-uncased', num_labels=2, output_attentions=True).to(DEVICE)\n",
    "\n",
    "# Compute class weights to address imbalance\n",
    "weights = train_df['label'].value_counts(normalize=True).sort_index().rpow(-1).values\n",
    "class_weights = torch.tensor(weights, dtype=torch.float).to(DEVICE)\n",
    "criterion = torch.nn.CrossEntropyLoss(weight=class_weights)\n",
    "\n",
    "optimizer = AdamW(model.parameters(), lr=LR)\n",
    "scheduler = get_linear_schedule_with_warmup(\n",
    "    optimizer, num_warmup_steps=0, num_training_steps=len(train_loader)*EPOCHS)\n",
    "\n",
    "# FGM utilities\n",
    "def fgm_attack(epsilon=EPSILON):\n",
    "    emb = model.bert.embeddings.word_embeddings\n",
    "    if emb.weight.grad is None: return None\n",
    "    delta = epsilon * emb.weight.grad.sign()\n",
    "    emb.weight.data.add_(delta)\n",
    "    return delta\n",
    "\n",
    "def fgm_restore(delta):\n",
    "    model.bert.embeddings.word_embeddings.weight.data.sub_(delta)"
   ]
  },
  {
   "cell_type": "markdown",
   "id": "d9db5e87",
   "metadata": {},
   "source": [
    "## 6. Training Loop with Early Stopping"
   ]
  },
  {
   "cell_type": "code",
   "execution_count": null,
   "id": "071e49ec",
   "metadata": {},
   "outputs": [],
   "source": [
    "# Cell 10: Train + validate with checkpointing\n",
    "best_loss, patience_counter = float('inf'), 0\n",
    "history = {'train_loss':[], 'val_loss':[], 'val_acc':[]}\n",
    "\n",
    "for epoch in range(EPOCHS):\n",
    "    # Training\n",
    "    model.train(); total_loss=0\n",
    "    for batch in train_loader:\n",
    "        ids, mask, labels = batch['input_ids'].to(DEVICE), batch['attention_mask'].to(DEVICE), batch['labels'].to(DEVICE).long()\n",
    "        optimizer.zero_grad()\n",
    "        out = model(ids, attention_mask=mask, labels=labels)\n",
    "        loss = out.loss; loss.backward(retain_graph=True)\n",
    "        total_loss += loss.item()\n",
    "        # FGM adversarial step\n",
    "        delta = fgm_attack()\n",
    "        if delta is not None:\n",
    "            out2 = model(ids, attention_mask=mask, labels=labels)\n",
    "            out2.loss.backward()\n",
    "            fgm_restore(delta)\n",
    "        torch.nn.utils.clip_grad_norm_(model.parameters(), 1.0)\n",
    "        optimizer.step(); scheduler.step()\n",
    "    avg_train = total_loss/len(train_loader)\n",
    "    history['train_loss'].append(avg_train)\n",
    "    # Validation\n",
    "    model.eval(); val_loss, correct, total = 0,0,0\n",
    "    with torch.no_grad():\n",
    "        for batch in val_loader:\n",
    "            ids, mask, labels = batch['input_ids'].to(DEVICE), batch['attention_mask'].to(DEVICE), batch['labels'].to(DEVICE).long()\n",
    "            out = model(ids, attention_mask=mask, labels=labels)\n",
    "            val_loss += out.loss.item()\n",
    "            preds = out.logits.argmax(dim=1)\n",
    "            correct += (preds==labels).sum().item(); total+=labels.size(0)\n",
    "    avg_val = val_loss/len(val_loader); val_acc=correct/total\n",
    "    history['val_loss'].append(avg_val); history['val_acc'].append(val_acc)\n",
    "    print(f\"Epoch {epoch+1}/{EPOCHS}: Train={avg_train:.4f}, Val={avg_val:.4f}, Acc={val_acc:.4f}\")\n",
    "    # Early stopping\n",
    "    if avg_val < best_loss:\n",
    "        best_loss, patience_counter = avg_val, 0\n",
    "        torch.save(model.state_dict(), os.path.join(OUTPUT_DIR,'best_model.pt'))\n",
    "    else:\n",
    "        patience_counter+=1\n",
    "        if patience_counter>=PATIENCE:\n",
    "            print(\"Early stopping triggered.\"); break"
   ]
  },
  {
   "cell_type": "markdown",
   "id": "d0c26e5b",
   "metadata": {},
   "source": [
    "## 7. Evaluation & Detailed Metrics"
   ]
  },
  {
   "cell_type": "code",
   "execution_count": null,
   "id": "7444a41a",
   "metadata": {},
   "outputs": [],
   "source": [
    "# Cell 11: Load best model\n",
    "model.load_state_dict(torch.load(os.path.join(OUTPUT_DIR,'best_model.pt')))\n",
    "\n",
    "# Evaluate on validation\n",
    "y_true,y_pred = [],[]\n",
    "model.eval()\n",
    "with torch.no_grad():\n",
    "    for batch in val_loader:\n",
    "        ids,mask,labels = batch['input_ids'].to(DEVICE),batch['attention_mask'].to(DEVICE),batch['labels'].to(DEVICE).long()\n",
    "        out = model(ids, attention_mask=mask)\n",
    "        preds = out.logits.argmax(dim=1).cpu().numpy()\n",
    "        y_pred.extend(preds); y_true.extend(labels.cpu().numpy())\n",
    "\n",
    "# Classification report\n",
    "print(classification_report(y_true,y_pred))\n",
    "# Confusion matrix\n",
    "cm=confusion_matrix(y_true,y_pred)\n",
    "plt.figure(figsize=(5,4)); sns.heatmap(cm,annot=True,fmt='d'); plt.title('Val Confusion Matrix'); plt.show()"
   ]
  },
  {
   "cell_type": "markdown",
   "id": "0d3ce37d",
   "metadata": {},
   "source": [
    "## 8. Visualize Training Curves"
   ]
  },
  {
   "cell_type": "code",
   "execution_count": null,
   "id": "13e49b72",
   "metadata": {},
   "outputs": [],
   "source": [
    "# Cell 12: Plot loss & accuracy\n",
    "epochs_ran = len(history['train_loss'])\n",
    "plt.figure(figsize=(10,4))\n",
    "plt.subplot(1,2,1)\n",
    "plt.plot(history['train_loss'], label='Train'); plt.plot(history['val_loss'], label='Val'); plt.title('Loss'); plt.legend()\n",
    "plt.subplot(1,2,2)\n",
    "plt.plot(history['val_acc'], label='Val Acc'); plt.title('Accuracy'); plt.legend()\n",
    "plt.show()"
   ]
  },
  {
   "cell_type": "markdown",
   "id": "9fad25ee",
   "metadata": {},
   "source": [
    "## 9. Explainability via Attention"
   ]
  },
  {
   "cell_type": "code",
   "execution_count": null,
   "id": "7d956235",
   "metadata": {},
   "outputs": [],
   "source": [
    "def visualize_attention(text, top_k=20):\n",
    "    enc = TOKENIZER.encode_plus(text, return_tensors='pt', max_length=MAX_LEN, padding='max_length', truncation=True)\n",
    "    inputs = {k:v.to(DEVICE) for k,v in enc.items()}\n",
    "    model.eval()\n",
    "    with torch.no_grad():\n",
    "        out = model(**inputs, output_attentions=True)\n",
    "    attns = torch.stack(out.attentions)  # layers x batch x heads x seq x seq\n",
    "    cls_attn = attns[:,:, :, 0, :].mean(dim=[0,1]).cpu().numpy()\n",
    "    tokens = TOKENIZER.convert_ids_to_tokens(enc['input_ids'][0])\n",
    "    idxs=[i for i,m in enumerate(enc['attention_mask'][0]) if m==1]\n",
    "    tokens=[tokens[i] for i in idxs]; scores=cls_attn[idxs]\n",
    "    # Show top_k tokens\n",
    "    top_idx = np.argsort(scores)[-top_k:]\n",
    "    plt.figure(figsize=(8,2))\n",
    "    sns.barplot(x=[tokens[i] for i in top_idx], y=scores[top_idx])\n",
    "    plt.xticks(rotation=45); plt.title(text[:50]); plt.show()\n",
    "\n",
    "# Example\n",
    "visualize_attention(val_df['tweet'].iloc[0])"
   ]
  },
  {
   "cell_type": "markdown",
   "id": "e85ef5e9",
   "metadata": {},
   "source": [
    "## 10. Next Steps & Research Directions\n",
    "\n",
    "```markdown\n",
    "- Incorporate **domain adaptation** across datasets.  \n",
    "- Explore **GAN-based text generators** for stronger adversarial examples.  \n",
    "- Evaluate on **multilingual** hate speech corpora.  \n",
    "- Tune **thresholds** for precision/recall trade‑offs in application settings.  \n",
    "- Package into a reusable **Python module** and **CLI tool** for deployment.  "
   ]
  },
  {
   "cell_type": "markdown",
   "id": "cba5fc0a",
   "metadata": {},
   "source": [
    "## 11. Testing on Test Sets"
   ]
  },
  {
   "cell_type": "code",
   "execution_count": null,
   "id": "f33f3b20",
   "metadata": {},
   "outputs": [],
   "source": [
    "# Cell 14: Evaluate on OLID Subtask A (OFF vs. NOT)\n",
    "print(\"=== Subtask A Evaluation ===\")\n",
    "df_testA = load_olid(paths['olid_A'], 'a')\n",
    "test_loaderA = DataLoader(HateSpeechDataset(df_testA), batch_size=BATCH_SIZE)\n",
    "y_true, y_pred = [], []\n",
    "model.eval()\n",
    "with torch.no_grad():\n",
    "    for batch in test_loaderA:\n",
    "        ids = batch['input_ids'].to(DEVICE)\n",
    "        mask = batch['attention_mask'].to(DEVICE)\n",
    "        out = model(ids, attention_mask=mask)\n",
    "        preds = out.logits.argmax(dim=1).cpu().numpy()\n",
    "        y_pred.extend(preds)\n",
    "        y_true.extend(batch['labels'].cpu().numpy().astype(int))\n",
    "print(classification_report(y_true, y_pred))\n",
    "sns.heatmap(confusion_matrix(y_true, y_pred), annot=True, fmt='d')\n",
    "plt.title('Subtask A Confusion Matrix')\n",
    "plt.show()"
   ]
  },
  {
   "cell_type": "code",
   "execution_count": null,
   "id": "01795f7d",
   "metadata": {},
   "outputs": [],
   "source": [
    "# Cell 15: Evaluate on OLID Subtask B (Targeted vs. Untargeted)\n",
    "print(\"=== Subtask B Evaluation ===\")\n",
    "df_testB = load_olid(paths['olid_B'], 'b')\n",
    "test_loaderB = DataLoader(HateSpeechDataset(df_testB), batch_size=BATCH_SIZE)\n",
    "y_true, y_pred = [], []\n",
    "model.eval()\n",
    "with torch.no_grad():\n",
    "    for batch in test_loaderB:\n",
    "        ids = batch['input_ids'].to(DEVICE)\n",
    "        mask = batch['attention_mask'].to(DEVICE)\n",
    "        out = model(ids, attention_mask=mask)\n",
    "        preds = out.logits.argmax(dim=1).cpu().numpy()\n",
    "        y_pred.extend(preds)\n",
    "        y_true.extend(batch['labels'].cpu().numpy().astype(int))\n",
    "print(classification_report(y_true, y_pred))\n",
    "sns.heatmap(confusion_matrix(y_true, y_pred), annot=True, fmt='d')\n",
    "plt.title('Subtask B Confusion Matrix')\n",
    "plt.show()"
   ]
  },
  {
   "cell_type": "code",
   "execution_count": null,
   "id": "1d978f81",
   "metadata": {},
   "outputs": [],
   "source": [
    "# Cell 16: Evaluate on Distant Subtask C (IND/GRP/OTH)\n",
    "print(\"=== Subtask C Evaluation ===\")\n",
    "# Load or reload a model trained with three labels on distant C\n",
    "model_c = BertForSequenceClassification.from_pretrained(\n",
    "    'bert-base-uncased', num_labels=3, output_attentions=False).to(DEVICE)\n",
    "model_c.load_state_dict(torch.load(os.path.join(OUTPUT_DIR, 'best_model_subtask_c.pt')))\n",
    "\n",
    "df_testC = load_distant(paths['distant_C'], 'Sheet1', {'msg':'tweet','class':'label'},\n",
    "                        {'IND':0,'GRP':1,'OTH':2})\n",
    "test_loaderC = DataLoader(HateSpeechDataset(df_testC), batch_size=BATCH_SIZE)\n",
    "y_true, y_pred = [], []\n",
    "model_c.eval()\n",
    "with torch.no_grad():\n",
    "    for batch in test_loaderC:\n",
    "        ids = batch['input_ids'].to(DEVICE)\n",
    "        mask = batch['attention_mask'].to(DEVICE)\n",
    "        out = model_c(ids, attention_mask=mask)\n",
    "        preds = out.logits.argmax(dim=1).cpu().numpy()\n",
    "        y_pred.extend(preds)\n",
    "        y_true.extend(batch['labels'].cpu().numpy().astype(int))\n",
    "labels_c = ['IND','GRP','OTH']\n",
    "print(classification_report(y_true, y_pred, target_names=labels_c))\n",
    "sns.heatmap(confusion_matrix(y_true, y_pred), annot=True, fmt='d', xticklabels=labels_c, yticklabels=labels_c)\n",
    "plt.title('Subtask C Confusion Matrix')\n",
    "plt.show()"
   ]
  },
  {
   "cell_type": "markdown",
   "id": "fc4a0df8",
   "metadata": {},
   "source": [
    "## 12. Interactive User Testing"
   ]
  },
  {
   "cell_type": "code",
   "execution_count": null,
   "id": "2ac9cdf8",
   "metadata": {},
   "outputs": [],
   "source": [
    "# Cell 17: Interactive prediction across subtasks\n",
    "def predict_text(text, model, num_labels):\n",
    "    enc = TOKENIZER(text, padding='max_length', truncation=True, max_length=MAX_LEN, return_tensors='pt')\n",
    "    inputs = {k:v.to(DEVICE) for k,v in enc.items()}\n",
    "    model.eval()\n",
    "    with torch.no_grad():\n",
    "        out = model(**inputs)\n",
    "        logits = out.logits.detach().cpu().numpy()[0]\n",
    "    if num_labels == 2:\n",
    "        return 'OFF' if logits.argmax()==1 else 'NOT'\n",
    "    else:\n",
    "        return ['IND','GRP','OTH'][logits.argmax()]"
   ]
  },
  {
   "cell_type": "code",
   "execution_count": null,
   "id": "f6322c8f",
   "metadata": {},
   "outputs": [],
   "source": [
    "\n",
    "model_c = BertForSequenceClassification.from_pretrained(\n",
    "    'bert-base-uncased', num_labels=3).to(DEVICE)\n",
    "model_c.load_state_dict(torch.load(os.path.join(OUTPUT_DIR,'best_model_subtask_c.pt')))\n",
    "\n",
    "print(\"Interactive Hate Speech Prediction:\")\n",
    "for task in ['a','b','c']:\n",
    "    print(f\"\n",
    "--- Subtask {task.upper()} ---\")\n",
    "    user_text = input(\"Enter a tweet: \")\n",
    "    if task in ['a','b']:\n",
    "        pred = predict_text(user_text, model, num_labels=2)\n",
    "    else:\n",
    "        pred = predict_text(user_text, model_c, num_labels=3)\n",
    "    print(f\"Prediction for Subtask {task.upper()}: {pred}\")"
   ]
  }
 ],
 "metadata": {
  "kernelspec": {
   "display_name": "Python 3 (ipykernel)",
   "language": "python",
   "name": "python3"
  },
  "language_info": {
   "codemirror_mode": {
    "name": "ipython",
    "version": 3
   },
   "file_extension": ".py",
   "mimetype": "text/x-python",
   "name": "python",
   "nbconvert_exporter": "python",
   "pygments_lexer": "ipython3",
   "version": "3.11.11"
  }
 },
 "nbformat": 4,
 "nbformat_minor": 5
}
